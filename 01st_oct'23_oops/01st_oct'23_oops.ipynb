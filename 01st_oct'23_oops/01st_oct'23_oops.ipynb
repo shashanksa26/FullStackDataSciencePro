{
 "cells": [
  {
   "cell_type": "markdown",
   "id": "d3ba2e06-479e-4254-b585-9b2e34d4fb62",
   "metadata": {},
   "source": [
    "Oops: Class and object"
   ]
  },
  {
   "cell_type": "code",
   "execution_count": 15,
   "id": "a956af67-750d-4fef-a748-0c0d2c370788",
   "metadata": {},
   "outputs": [],
   "source": [
    "class bankaccount():\n",
    "    \n",
    "    def openaccount(self,name,email_id):\n",
    "        print(\"open an account by taking name and mail id\")\n",
    "        return (\"account = \",name+email_id)\n",
    "    \n",
    "    def deposite(self, amt):\n",
    "        print(\"i am trying to deposite an amount in my bank account\")\n",
    "    \n",
    "    def whitdraw(self, amt_withdraw):\n",
    "        print(\"Withdraw the amount\")\n",
    "    \n",
    "    def update_details(self, name_update, email_update):\n",
    "        print(\"this function will update my name and mail id for acount\")\n"
   ]
  },
  {
   "cell_type": "code",
   "execution_count": 12,
   "id": "f006fa3e-2516-441f-a68e-a347a437c431",
   "metadata": {},
   "outputs": [],
   "source": [
    "#creating object for it.\n",
    "ba = bankaccount()"
   ]
  },
  {
   "cell_type": "code",
   "execution_count": 16,
   "id": "5ede975a-c7d9-40f8-abc2-ea4aac489937",
   "metadata": {},
   "outputs": [
    {
     "name": "stdout",
     "output_type": "stream",
     "text": [
      "open an account by taking name and mail id\n"
     ]
    },
    {
     "data": {
      "text/plain": [
       "('account = ', {'shashankshashankanandsa1@gmail.com'})"
      ]
     },
     "execution_count": 16,
     "metadata": {},
     "output_type": "execute_result"
    }
   ],
   "source": [
    "#using the function inside the class using it's object\n",
    "ba.openaccount(\"shashank\",\"shashankanandsa1@gmail.com\")"
   ]
  },
  {
   "cell_type": "markdown",
   "id": "ba628bf4-4fb5-4fe4-bcc3-51e0d74f8956",
   "metadata": {},
   "source": [
    "List operation using class:"
   ]
  },
  {
   "cell_type": "code",
   "execution_count": 41,
   "id": "baedca1a-9a72-41e2-9ff4-f3f804a88b93",
   "metadata": {},
   "outputs": [],
   "source": [
    "class list_ops:\n",
    "    \n",
    "    a = 10\n",
    "    data = [23,45,67,89,23,45,65]\n",
    "    def __init__(self,l): #constructor \n",
    "        self.l = l\n",
    "        self.l2 = \"hello\"\n",
    "        self.l3 = {\"key\" : \"value\"}\n",
    "        self.l4 = 106\n",
    "        \n",
    "    \n",
    "    def extractfromindex(self,l,index):\n",
    "        return l[index]\n",
    "    \n",
    "    def extractrangedata(self,l,start,end):\n",
    "        return l[start:end]\n",
    "    \n",
    "    def extracteven(self,l):\n",
    "        l1 = []\n",
    "        for i in l:\n",
    "            if i%2 ==0:\n",
    "                l1.append(i)\n",
    "        return l1\n",
    "                     \n",
    "    def extractodd(self,l):\n",
    "        l2 = []\n",
    "        for i in l:\n",
    "            if i%2 !=0:\n",
    "                l2.append(i)\n",
    "        return l2"
   ]
  },
  {
   "cell_type": "code",
   "execution_count": 24,
   "id": "62a2688b-90b5-4287-ba1e-cb33ff0f0e13",
   "metadata": {},
   "outputs": [],
   "source": [
    "lo = list_ops([3,5,3,4,2,8,9,6,7,0])"
   ]
  },
  {
   "cell_type": "code",
   "execution_count": 25,
   "id": "dea774db-afcd-4b21-9a92-f3f8041ceb7a",
   "metadata": {},
   "outputs": [],
   "source": [
    "l = [3,5,3,4,2,8,9,6,7,0]"
   ]
  },
  {
   "cell_type": "code",
   "execution_count": 26,
   "id": "3977f299-0e4a-4790-aa01-4d026f5f8b1e",
   "metadata": {},
   "outputs": [
    {
     "data": {
      "text/plain": [
       "2"
      ]
     },
     "execution_count": 26,
     "metadata": {},
     "output_type": "execute_result"
    }
   ],
   "source": [
    "lo.extractfromindex(l,4)"
   ]
  },
  {
   "cell_type": "code",
   "execution_count": 27,
   "id": "1a7be82d-7f50-45a3-93fa-e6265bb3005a",
   "metadata": {},
   "outputs": [
    {
     "data": {
      "text/plain": [
       "[3, 4, 2, 8]"
      ]
     },
     "execution_count": 27,
     "metadata": {},
     "output_type": "execute_result"
    }
   ],
   "source": [
    "lo.extractrangedata(l,2,6)"
   ]
  },
  {
   "cell_type": "code",
   "execution_count": 28,
   "id": "19edaf66-886e-4259-9c2c-651237a65db9",
   "metadata": {},
   "outputs": [
    {
     "data": {
      "text/plain": [
       "[4, 2, 8, 6, 0]"
      ]
     },
     "execution_count": 28,
     "metadata": {},
     "output_type": "execute_result"
    }
   ],
   "source": [
    "lo.extracteven(l)"
   ]
  },
  {
   "cell_type": "code",
   "execution_count": 29,
   "id": "3da9c13a-3fbf-408b-a42c-07b1906a6d27",
   "metadata": {},
   "outputs": [
    {
     "data": {
      "text/plain": [
       "[3, 5, 3, 9, 7]"
      ]
     },
     "execution_count": 29,
     "metadata": {},
     "output_type": "execute_result"
    }
   ],
   "source": [
    "lo.extractodd(l)"
   ]
  },
  {
   "cell_type": "markdown",
   "id": "bec6d8af-5b07-41c3-b802-a1599de848e1",
   "metadata": {},
   "source": [
    "# accessign the variable or instance from inside class:"
   ]
  },
  {
   "cell_type": "code",
   "execution_count": 30,
   "id": "949067ce-bd85-49d8-9c30-2da1534608f3",
   "metadata": {},
   "outputs": [
    {
     "data": {
      "text/plain": [
       "10"
      ]
     },
     "execution_count": 30,
     "metadata": {},
     "output_type": "execute_result"
    }
   ],
   "source": [
    "lo.a"
   ]
  },
  {
   "cell_type": "code",
   "execution_count": 31,
   "id": "e6bf8552-e2f6-42af-a3f0-c70a3cbc3192",
   "metadata": {},
   "outputs": [
    {
     "data": {
      "text/plain": [
       "[23, 45, 67, 89, 23, 45, 65]"
      ]
     },
     "execution_count": 31,
     "metadata": {},
     "output_type": "execute_result"
    }
   ],
   "source": [
    "lo.data"
   ]
  },
  {
   "cell_type": "markdown",
   "id": "233fb9da-d39d-4790-b884-325035448c45",
   "metadata": {},
   "source": [
    "to make multiple object having different data for the same class"
   ]
  },
  {
   "cell_type": "code",
   "execution_count": 42,
   "id": "8507139a-2439-4c2c-b479-7912332d9f59",
   "metadata": {},
   "outputs": [
    {
     "name": "stdout",
     "output_type": "stream",
     "text": [
      "[2, 8, 9, 5, 3, 6, 7, 7, 4, 2, 6]\n",
      "hello\n",
      "{'key': 'value'}\n",
      "106\n"
     ]
    }
   ],
   "source": [
    "l2 = [2,8,9,5,3,6,7,7,4,2,6]\n",
    "l02 = list_ops(l2)\n",
    "print(l02.l)\n",
    "print(l02.l2)\n",
    "print(l02.l3)\n",
    "print(l02.l4)"
   ]
  },
  {
   "cell_type": "markdown",
   "id": "b7ff3106-7883-4edd-b7d4-dc24bad65271",
   "metadata": {},
   "source": [
    "#Another example of Constructor"
   ]
  },
  {
   "cell_type": "code",
   "execution_count": 1,
   "id": "bfd111ff-ef3d-42d4-925b-76b66aafe424",
   "metadata": {},
   "outputs": [],
   "source": [
    "class book:\n",
    "    \n",
    "    def __init__(self,name,title,pgno):\n",
    "        self.name_of_book = name\n",
    "        self.title_of_book = title\n",
    "        self.pg_no = pgno\n",
    "        \n",
    "    def extract_details(self):\n",
    "        print(self.name_of_book,self.title_of_book,self.pg_no)"
   ]
  },
  {
   "cell_type": "code",
   "execution_count": 45,
   "id": "8c542f89-6fe9-4b12-876a-b85d6ec33c2f",
   "metadata": {},
   "outputs": [],
   "source": [
    "shashank = book(\"dsa\",\"array\",23)\n",
    "husain = book(\"math\",\"matrix\",133)\n",
    "kishore = book(\"math\",\"permutation\",253)\n",
    "shubham = book(\"OS\",\"Deadlock\",212)"
   ]
  },
  {
   "cell_type": "code",
   "execution_count": 46,
   "id": "a68cf96c-6f03-4721-8954-997b602c98c1",
   "metadata": {},
   "outputs": [
    {
     "name": "stdout",
     "output_type": "stream",
     "text": [
      "dsa array 23\n"
     ]
    }
   ],
   "source": [
    "shashank.extract_details()"
   ]
  },
  {
   "cell_type": "code",
   "execution_count": 47,
   "id": "909d3b68-190f-4bb4-a4d3-f0944f8ac873",
   "metadata": {},
   "outputs": [
    {
     "name": "stdout",
     "output_type": "stream",
     "text": [
      "math matrix 133\n"
     ]
    }
   ],
   "source": [
    "husain.extract_details()"
   ]
  },
  {
   "cell_type": "code",
   "execution_count": 48,
   "id": "7f7141ac-d8a5-41b9-aaf8-92cf7ae5692e",
   "metadata": {},
   "outputs": [
    {
     "name": "stdout",
     "output_type": "stream",
     "text": [
      "math permutation 253\n"
     ]
    }
   ],
   "source": [
    "kishore.extract_details()"
   ]
  },
  {
   "cell_type": "code",
   "execution_count": 50,
   "id": "e3350172-19f7-4ea5-a886-577f98e7c46d",
   "metadata": {},
   "outputs": [
    {
     "name": "stdout",
     "output_type": "stream",
     "text": [
      "OS Deadlock 212\n"
     ]
    }
   ],
   "source": [
    "shubham.extract_details()"
   ]
  },
  {
   "cell_type": "markdown",
   "id": "cb81c4d9-7740-456f-b1c0-2aa44d1c5276",
   "metadata": {},
   "source": [
    "#gmail example for constructor"
   ]
  },
  {
   "cell_type": "code",
   "execution_count": 7,
   "id": "40d2561a-cf8a-4b6a-b4b4-16bed1866b4a",
   "metadata": {},
   "outputs": [],
   "source": [
    "class gmail_ops():\n",
    "    \n",
    "    def __init__(self,userid, password):\n",
    "        self.userid = userid\n",
    "        self.password  = password\n",
    "        self.url = \"https://mail.google.com/mail/u/0/#inbox\"\n",
    "    \n",
    "    def login(self):\n",
    "        print(\"take userid :\"+ self.userid +\" take password: \"+self.password+\" login here : \"+self.url)\n",
    "        print(\"LOGIN\")\n",
    "    \n",
    "    def read_mail(self):\n",
    "        print(\"read mail for : \"+self.userid+ \" \"+self.password)\n",
    "        \n",
    "    def reply_mail(self):\n",
    "        print(\"reply mail for : \"+self.userid+ \" \"+self.password)\n",
    "        "
   ]
  },
  {
   "cell_type": "code",
   "execution_count": 8,
   "id": "b3927b18-709a-40ee-a318-1b177c67c01d",
   "metadata": {},
   "outputs": [
    {
     "name": "stdout",
     "output_type": "stream",
     "text": [
      "take userid :shashank take password: hello123pass login here : https://mail.google.com/mail/u/0/#inbox\n",
      "LOGIN\n"
     ]
    }
   ],
   "source": [
    "user1 = gmail_ops(\"shashank\",\"hello123pass\")\n",
    "user1.login()"
   ]
  },
  {
   "cell_type": "code",
   "execution_count": 9,
   "id": "b2539c86-fb70-4485-b1d5-f31bf919b080",
   "metadata": {},
   "outputs": [
    {
     "name": "stdout",
     "output_type": "stream",
     "text": [
      "take userid :user22 take password: pass123 login here : https://mail.google.com/mail/u/0/#inbox\n",
      "LOGIN\n"
     ]
    }
   ],
   "source": [
    "user2 = gmail_ops(\"user22\",\"pass123\")\n",
    "user2.login()"
   ]
  },
  {
   "cell_type": "markdown",
   "id": "5c58c730-2d97-4ec7-bb20-8cdce600fb9c",
   "metadata": {},
   "source": [
    "#another example for constructor"
   ]
  },
  {
   "cell_type": "code",
   "execution_count": 34,
   "id": "21d4a47b-2220-412f-bb9d-4a65b9d366c4",
   "metadata": {},
   "outputs": [],
   "source": [
    "from functools import reduce\n",
    "class calculator():\n",
    "    \n",
    "    def __init__(self,username):\n",
    "        self.username = username\n",
    "    \n",
    "    def add(self,*args): #*args anything other than args can be used here only * is imp for taking multiple paramerter input as no. of paramete is unknown\n",
    "        return self.username, sum(args)\n",
    "\n",
    "    def sub(self,*args):\n",
    "        return self.username, reduce(lambda a,b : a-b,args)\n",
    "    \n",
    "    def mul(self,*args):\n",
    "        return self.username, reduce(lambda a,b : a*b,args)\n",
    "    \n",
    "    def div(self,*args):\n",
    "        return self.username, reduce(lambda a,b : a/b,args)"
   ]
  },
  {
   "cell_type": "code",
   "execution_count": 28,
   "id": "73982e7b-ec36-4df9-98f1-c4165449c817",
   "metadata": {},
   "outputs": [],
   "source": [
    "shashank = calculator(\"anonymous\")"
   ]
  },
  {
   "cell_type": "code",
   "execution_count": 29,
   "id": "a3a5625e-7c6b-4018-9895-420f6e0fac8a",
   "metadata": {},
   "outputs": [
    {
     "data": {
      "text/plain": [
       "('anonymous', 28)"
      ]
     },
     "execution_count": 29,
     "metadata": {},
     "output_type": "execute_result"
    }
   ],
   "source": [
    "shashank.add(4,3,6,5,7,3,)"
   ]
  },
  {
   "cell_type": "code",
   "execution_count": 30,
   "id": "69d6f486-9842-43b6-b46a-33e74e8b4451",
   "metadata": {},
   "outputs": [
    {
     "data": {
      "text/plain": [
       "('anonymous', 2880)"
      ]
     },
     "execution_count": 30,
     "metadata": {},
     "output_type": "execute_result"
    }
   ],
   "source": [
    "shashank.mul(4,3,5,6,2,4)"
   ]
  },
  {
   "cell_type": "code",
   "execution_count": 31,
   "id": "58f8b2df-3e95-45a3-923d-cd5315c32297",
   "metadata": {},
   "outputs": [],
   "source": [
    "husain = calculator(\"hero\")"
   ]
  },
  {
   "cell_type": "code",
   "execution_count": 32,
   "id": "486513b7-43ca-409e-a7e1-f1cc89b79902",
   "metadata": {},
   "outputs": [
    {
     "data": {
      "text/plain": [
       "('hero', 0.014285714285714287)"
      ]
     },
     "execution_count": 32,
     "metadata": {},
     "output_type": "execute_result"
    }
   ],
   "source": [
    "husain.div(2,5,7,4)"
   ]
  },
  {
   "cell_type": "code",
   "execution_count": 33,
   "id": "7f25f1d8-cad0-4746-bad9-c470f83b6798",
   "metadata": {},
   "outputs": [
    {
     "data": {
      "text/plain": [
       "('hero', 29)"
      ]
     },
     "execution_count": 33,
     "metadata": {},
     "output_type": "execute_result"
    }
   ],
   "source": [
    "husain.sub(45,6,5,3,2)"
   ]
  },
  {
   "cell_type": "code",
   "execution_count": 38,
   "id": "f99d0cb0-1a17-46ca-b142-2ea7db8cbaa4",
   "metadata": {},
   "outputs": [],
   "source": [
    "from functools import reduce\n",
    "class calculators():\n",
    "    \n",
    "    def __init__(self,username):\n",
    "        self.username = username\n",
    "    \n",
    "    def add(self,*shah): #*args used here for taking multiple paramerter input as no. of paramete is unknown\n",
    "        return self.username, sum(shah)\n",
    "\n",
    "    def sub(self,*shah):\n",
    "        return self.username, reduce(lambda a,b : a-b,shah)\n",
    "    \n",
    "    def mul(self,*shah):\n",
    "        return self.username, reduce(lambda a,b : a*b,shah)\n",
    "    \n",
    "    def div(self,*shah):\n",
    "        return self.username, reduce(lambda a,b : a/b,shah)"
   ]
  },
  {
   "cell_type": "code",
   "execution_count": 39,
   "id": "b9ccdc68-09a1-48cf-a846-f5aea4ec3717",
   "metadata": {},
   "outputs": [
    {
     "data": {
      "text/plain": [
       "('he', 0.16911764705882354)"
      ]
     },
     "execution_count": 39,
     "metadata": {},
     "output_type": "execute_result"
    }
   ],
   "source": [
    "shashank = calculators(\"he\")\n",
    "shashank.div(23,34,4)"
   ]
  },
  {
   "cell_type": "code",
   "execution_count": null,
   "id": "546b87bf-1a7c-4eb2-b35e-b486be5c9b5e",
   "metadata": {},
   "outputs": [],
   "source": []
  }
 ],
 "metadata": {
  "kernelspec": {
   "display_name": "Python 3 (ipykernel)",
   "language": "python",
   "name": "python3"
  },
  "language_info": {
   "codemirror_mode": {
    "name": "ipython",
    "version": 3
   },
   "file_extension": ".py",
   "mimetype": "text/x-python",
   "name": "python",
   "nbconvert_exporter": "python",
   "pygments_lexer": "ipython3",
   "version": "3.10.8"
  }
 },
 "nbformat": 4,
 "nbformat_minor": 5
}
