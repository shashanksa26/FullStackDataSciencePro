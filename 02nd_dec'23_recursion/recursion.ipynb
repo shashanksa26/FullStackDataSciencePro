{
 "cells": [
  {
   "cell_type": "markdown",
   "id": "563464d9-8116-4d00-bda2-4b0537fe645d",
   "metadata": {},
   "source": [
    "# Recursion:"
   ]
  },
  {
   "cell_type": "code",
   "execution_count": 1,
   "id": "85abff5d-8a2c-4adf-9581-dd006cf26b3d",
   "metadata": {},
   "outputs": [
    {
     "name": "stdout",
     "output_type": "stream",
     "text": [
      "1\n",
      "2\n",
      "3\n",
      "4\n",
      "5\n"
     ]
    }
   ],
   "source": [
    "# printing the array using recursive function\n",
    "def print_rec(arr,si):\n",
    "    #base condition\n",
    "    if si>= len(arr):\n",
    "        return\n",
    "    #logic\n",
    "    print(arr[si])\n",
    "    #recursive call\n",
    "    print_rec(arr,si+1)\n",
    "\n",
    "print_rec([1,2,3,4,5],0)"
   ]
  },
  {
   "cell_type": "code",
   "execution_count": 8,
   "id": "61777523-f915-4e39-9b3c-f84c41d11dc9",
   "metadata": {},
   "outputs": [
    {
     "name": "stdout",
     "output_type": "stream",
     "text": [
      "1\n"
     ]
    }
   ],
   "source": [
    "# finding minimun number in an array with built in function min in python\n",
    "def find_min(arr,si):\n",
    "    if si >=len(arr):\n",
    "        return 9999999999\n",
    "    return min(arr[si],find_min(arr,si+1))\n",
    "print(find_min([3,5,2,1,4],0))"
   ]
  },
  {
   "cell_type": "code",
   "execution_count": 14,
   "id": "703ad3e7-ebbc-4cdf-9add-095dbafb785f",
   "metadata": {},
   "outputs": [
    {
     "name": "stdout",
     "output_type": "stream",
     "text": [
      "1\n"
     ]
    }
   ],
   "source": [
    "# finding minimun number in an array without built in function min in python\n",
    "def my_min(num1,num2):\n",
    "    if num1 < num2:\n",
    "        return num1\n",
    "    else:\n",
    "        return num2\n",
    "def find_min(arr,si):\n",
    "    if si >=len(arr):\n",
    "        return 9999999999\n",
    "    return my_min(arr[si],find_min(arr,si+1))\n",
    "print(find_min([3,5,2,1,4],0))\n"
   ]
  },
  {
   "cell_type": "code",
   "execution_count": 7,
   "id": "de0998eb-f9ca-462c-8719-cd830af1a8ac",
   "metadata": {},
   "outputs": [
    {
     "name": "stdout",
     "output_type": "stream",
     "text": [
      "1\n",
      "3\n",
      "7\n",
      "15\n",
      "1048575\n"
     ]
    }
   ],
   "source": [
    " # Towe of Hanoi (no of moves required\n",
    "    \n",
    "def moves(n,s,d,a):\n",
    "    # base condition\n",
    "    if n == 1:\n",
    "        return 1\n",
    "    #move n-1 s->a then move 1 biggest coin to s->d and then n-1 coin a->d\n",
    "    return moves(n-1,s,a,d) + 1 + moves(n-1,a,d,s)\n",
    "print(moves(1,'s','d','a'))\n",
    "print(moves(2,'s','d','a'))\n",
    "print(moves(3,'s','d','a'))\n",
    "print(moves(4,'s','d','a'))\n",
    "print(moves(20,'s','d','a'))\n",
    "# Time Complexity: O(2^n)"
   ]
  },
  {
   "cell_type": "code",
   "execution_count": null,
   "id": "be013915-90f8-4d01-a66c-59a8a572e801",
   "metadata": {},
   "outputs": [],
   "source": []
  }
 ],
 "metadata": {
  "kernelspec": {
   "display_name": "Python 3 (ipykernel)",
   "language": "python",
   "name": "python3"
  },
  "language_info": {
   "codemirror_mode": {
    "name": "ipython",
    "version": 3
   },
   "file_extension": ".py",
   "mimetype": "text/x-python",
   "name": "python",
   "nbconvert_exporter": "python",
   "pygments_lexer": "ipython3",
   "version": "3.10.8"
  }
 },
 "nbformat": 4,
 "nbformat_minor": 5
}
