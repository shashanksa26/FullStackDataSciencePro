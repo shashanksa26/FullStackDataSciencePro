{
 "cells": [
  {
   "cell_type": "markdown",
   "id": "25393e32-752e-40f4-b243-e5d884e37383",
   "metadata": {},
   "source": [
    "# Problems from leet code, geeks foe geeks etc on recursion and other topics:"
   ]
  },
  {
   "cell_type": "code",
   "execution_count": 11,
   "id": "319a7dbd-a748-4c8b-8550-5806dd8472a1",
   "metadata": {},
   "outputs": [
    {
     "name": "stdout",
     "output_type": "stream",
     "text": [
      "3 found at index 6\n"
     ]
    }
   ],
   "source": [
    "''' Linear search using recursion :'''\n",
    "def search(arr,si,num):\n",
    "    # base condition\n",
    "    if si >= len(arr):\n",
    "        return f\" {num} is not present in the array\"\n",
    "    #logic\n",
    "    if arr[si] == num:\n",
    "        return f\"{num} found at index {si}\"\n",
    "    else:\n",
    "        return search(arr,si+1,num)\n",
    "# recursive call\n",
    "print(search([3,5,6,7,8,9,3,5,7],2,3))"
   ]
  },
  {
   "cell_type": "code",
   "execution_count": 50,
   "id": "c73fe7f8-1a08-449a-82f3-03fa26488f46",
   "metadata": {},
   "outputs": [
    {
     "name": "stdout",
     "output_type": "stream",
     "text": [
      "8 found at index 4\n"
     ]
    }
   ],
   "source": [
    "''' Binary Search using recursion:'''\n",
    "def binary_rec(arr,si,ei,num): \n",
    "    # base condition\n",
    "    if si > ei:\n",
    "        return f\" {num} is not present in the array.\"\n",
    "    mid =int(si + (ei-si)/2)\n",
    "    if arr[mid] == num:\n",
    "        return f\"{num} found at index {mid}\"\n",
    "    elif arr[mid] > num:\n",
    "        return binary_rec(arr,si,mid-1,num)\n",
    "    else:\n",
    "        return binary_rec(arr,mid+1,ei,num)\n",
    "arr=[4,5,6,7,8,9,10,11]\n",
    "print(binary_rec(arr,0,len(arr)-1,8))\n",
    "#print(binary_rec([4,5,6,7,8,9,10,11],0,7,8))"
   ]
  },
  {
   "cell_type": "code",
   "execution_count": 48,
   "id": "a194b418-c389-4859-99d9-4eabd12e101d",
   "metadata": {},
   "outputs": [
    {
     "name": "stdout",
     "output_type": "stream",
     "text": [
      "[5, 1, 4, 7, 6, 3, 2, 1, 5, 4]\n"
     ]
    }
   ],
   "source": [
    "'''reverse the elements of a given array without taking extra space using loops/recursion \n",
    "without using inbuilt functions:(where array is mutable)'''\n",
    "def rev_arr(arr):\n",
    "    i = 0\n",
    "    j = len(arr)-1\n",
    "\n",
    "    while(i<j):\n",
    "        arr[i],arr[j] =arr[j],arr[i]\n",
    "        i +=1\n",
    "        j -=1\n",
    "arr =[4,5,1,2,3,6,7,4,1,5]\n",
    "rev_arr(arr)\n",
    "print(arr)"
   ]
  },
  {
   "cell_type": "code",
   "execution_count": 49,
   "id": "62a2e236-c69f-4fc5-a21f-1d2596a57208",
   "metadata": {},
   "outputs": [
    {
     "name": "stdout",
     "output_type": "stream",
     "text": [
      "[5, 4, 3, 2, 1]\n"
     ]
    }
   ],
   "source": [
    "''' above question using recursion'''\n",
    "def reverse_rec(arr,si,ei):\n",
    "    if si >= ei:\n",
    "        return\n",
    "    arr[si],arr[ei]=arr[ei],arr[si]\n",
    "    reverse_rec(arr,si+1,ei-1)\n",
    "arr = [1,2,3,4,5]\n",
    "reverse_rec(arr,0,len(arr)-1)\n",
    "print(arr)"
   ]
  },
  {
   "cell_type": "code",
   "execution_count": 57,
   "id": "3f9883ed-b4c3-4170-8e65-1748b687fd6f",
   "metadata": {},
   "outputs": [
    {
     "name": "stdout",
     "output_type": "stream",
     "text": [
      "True\n",
      "False\n",
      "True\n",
      "False\n"
     ]
    }
   ],
   "source": [
    "''' Palindrome '''\n",
    "def isPalindrome(arr):\n",
    "    # 2 pointer approach\n",
    "    left = 0\n",
    "    right = len(arr)-1\n",
    "    \n",
    "    while(left< right):\n",
    "        if arr[left] != arr[right]:\n",
    "            return False\n",
    "        left +=1\n",
    "        right -=1\n",
    "    return True\n",
    "\n",
    "arr=[1,2,3,3,2,1]\n",
    "arr1=[1,2,4]\n",
    "arr2=[1]\n",
    "arr3 = [1,2,1,1]\n",
    "print(isPalindrome(arr))\n",
    "print(isPalindrome(arr1))\n",
    "print(isPalindrome(arr2))\n",
    "print(isPalindrome(arr3))"
   ]
  },
  {
   "cell_type": "code",
   "execution_count": 14,
   "id": "32933779-2b2b-48ca-a76e-be19b0e94973",
   "metadata": {},
   "outputs": [
    {
     "name": "stdout",
     "output_type": "stream",
     "text": [
      "[5, 1, 2, 3, 4]\n",
      "[4, 5, 1, 2, 3]\n",
      "[3, 4, 5, 1, 2]\n"
     ]
    }
   ],
   "source": [
    "''' (AMAZON'S most asked)given a array rotate it k times and show the final arrat after rotation '''\n",
    "def rotate(arr,k):\n",
    "    k = k%len(arr)\n",
    "    # num of times the rotation has to take place\n",
    "    for i in range(k):\n",
    "        #logic to rotate the array\n",
    "        prev = arr[0]\n",
    "        curr = arr[0]\n",
    "        arr[0] = arr[len(arr)-1]\n",
    "        j=1\n",
    "        while(j<len(arr)):\n",
    "            curr = arr[j]\n",
    "            arr[j] = prev\n",
    "            prev = curr\n",
    "            j +=1\n",
    "arr1 = [1,2,3,4,5]\n",
    "arr2 = [1,2,3,4,5]\n",
    "arr3 = [1,2,3,4,5]\n",
    "\n",
    "rotate(arr1,1)\n",
    "print(arr1)\n",
    "rotate(arr2,2)\n",
    "print(arr2)\n",
    "rotate(arr3,3)\n",
    "print(arr3)"
   ]
  },
  {
   "cell_type": "code",
   "execution_count": 25,
   "id": "10331ece-1872-47d3-a89d-f1ea4d4372ce",
   "metadata": {},
   "outputs": [
    {
     "name": "stdout",
     "output_type": "stream",
     "text": [
      "[5, 1, 2, 3, 4]\n",
      "[4, 5, 1, 2, 3]\n",
      "[3, 4, 5, 1, 2]\n"
     ]
    }
   ],
   "source": [
    "''' above question using different approach more efficient '''\n",
    "# down reverse_rec funtion is create above in this notebook we are using it to reverse the given array:\n",
    "def reverse_rec(arr,si,ei):\n",
    "    if si >= ei:\n",
    "        return\n",
    "    arr[si],arr[ei]=arr[ei],arr[si]\n",
    "    reverse_rec(arr,si+1,ei-1)\n",
    "def rotate_k_times(arr,k):\n",
    "    k = k%len(arr)\n",
    "    #step1: reverse the entire array\n",
    "    reverse_rec(arr,0,len(arr)-1)\n",
    "    \n",
    "    #reverser the first k elements\n",
    "    reverse_rec(arr,0,k-1)\n",
    "    \n",
    "    #reverse the lst n-k elements:\n",
    "    reverse_rec(arr,k,len(arr)-1)\n",
    "\n",
    "arr = [1,2,3,4,5]\n",
    "arr2 = [1,2,3,4,5]\n",
    "arr3 = [1,2,3,4,5]\n",
    "rotate_k_times(arr,1)\n",
    "rotate_k_times(arr2,2)\n",
    "rotate_k_times(arr3,3)\n",
    "print(arr)\n",
    "print(arr2)\n",
    "print(arr3)"
   ]
  },
  {
   "cell_type": "code",
   "execution_count": null,
   "id": "4a6a0b35-f3e6-4e89-9fa8-8024c06756a0",
   "metadata": {},
   "outputs": [],
   "source": []
  }
 ],
 "metadata": {
  "kernelspec": {
   "display_name": "Python 3 (ipykernel)",
   "language": "python",
   "name": "python3"
  },
  "language_info": {
   "codemirror_mode": {
    "name": "ipython",
    "version": 3
   },
   "file_extension": ".py",
   "mimetype": "text/x-python",
   "name": "python",
   "nbconvert_exporter": "python",
   "pygments_lexer": "ipython3",
   "version": "3.10.8"
  }
 },
 "nbformat": 4,
 "nbformat_minor": 5
}
