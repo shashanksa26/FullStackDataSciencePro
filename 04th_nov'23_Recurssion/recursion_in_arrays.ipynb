{
 "cells": [
  {
   "cell_type": "code",
   "execution_count": 6,
   "id": "4588c7f2-c6f4-47fb-9bc6-78e968a3db43",
   "metadata": {},
   "outputs": [
    {
     "name": "stdout",
     "output_type": "stream",
     "text": [
      "120\n"
     ]
    }
   ],
   "source": [
    "# factorial of a given number\n",
    "def factorial(n):\n",
    "    # base case condition\n",
    "    if n <= 1: \n",
    "        return 1\n",
    "    # Recursive function call\n",
    "    return n * factorial(n-1)\n",
    "#driver code\n",
    "num = 5\n",
    "result = factorial(num)\n",
    "print(result)"
   ]
  },
  {
   "cell_type": "code",
   "execution_count": null,
   "id": "abe86c1e-6a08-4f5b-9581-76fb8047e3b3",
   "metadata": {},
   "outputs": [],
   "source": [
    "# leet code problem 509 Fibonacci series:\n",
    "class Solution:\n",
    "    def fib(self, n: int) -> int:\n",
    "        if n <=1:\n",
    "            return n\n",
    "        return self.fib(n-1) + self.fib(n-2)"
   ]
  },
  {
   "cell_type": "code",
   "execution_count": 2,
   "id": "26ce2e2d-73a4-40df-ad26-0e9ee8cfac22",
   "metadata": {},
   "outputs": [],
   "source": [
    "# leet code problem 70 Climb Stairs: TLE errror\n",
    "class Solution:\n",
    "    def climbStairs(self, n: int) -> int:\n",
    "        if n <= 3:\n",
    "            return n\n",
    "        return self.climbStairs(n-1) + self.climbStairs(n-2)"
   ]
  },
  {
   "cell_type": "code",
   "execution_count": 3,
   "id": "78556cd5-c8ab-47c6-b963-f340d3cc641d",
   "metadata": {},
   "outputs": [],
   "source": [
    "# leet code problem 70 Climb Stairs: Most optimised approach accepted\n",
    "class Solution:\n",
    "    def climbStairs(self, n: int) -> int:\n",
    "        if n == 1:\n",
    "            return 1\n",
    "        first = 1\n",
    "        second = 2\n",
    "        for i in range(3,n+1):\n",
    "            third = first + second\n",
    "            first = second\n",
    "            second = third\n",
    "        return second"
   ]
  },
  {
   "cell_type": "code",
   "execution_count": null,
   "id": "5c3aa272-36d3-4a63-b4b0-4cce78c9cc70",
   "metadata": {},
   "outputs": [],
   "source": []
  }
 ],
 "metadata": {
  "kernelspec": {
   "display_name": "Python 3 (ipykernel)",
   "language": "python",
   "name": "python3"
  },
  "language_info": {
   "codemirror_mode": {
    "name": "ipython",
    "version": 3
   },
   "file_extension": ".py",
   "mimetype": "text/x-python",
   "name": "python",
   "nbconvert_exporter": "python",
   "pygments_lexer": "ipython3",
   "version": "3.10.8"
  }
 },
 "nbformat": 4,
 "nbformat_minor": 5
}
