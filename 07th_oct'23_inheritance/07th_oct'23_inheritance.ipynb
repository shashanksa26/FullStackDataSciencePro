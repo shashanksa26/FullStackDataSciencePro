{
 "cells": [
  {
   "cell_type": "markdown",
   "id": "fa329329-05e4-421b-9415-f69e811a2172",
   "metadata": {},
   "source": [
    "#Inheritance"
   ]
  },
  {
   "cell_type": "code",
   "execution_count": 14,
   "id": "806867d5-7a46-43d2-aeb5-de8e2ff732e8",
   "metadata": {},
   "outputs": [],
   "source": [
    "class a:\n",
    "    def test(self):\n",
    "        print(\"this is class a function's execution\")\n",
    "    \n",
    "    def test2(self):\n",
    "        print(\" this is the 2nd function from class a\")"
   ]
  },
  {
   "cell_type": "code",
   "execution_count": 15,
   "id": "09ba4086-39d6-4f00-9f52-898273477a5f",
   "metadata": {},
   "outputs": [
    {
     "name": "stdout",
     "output_type": "stream",
     "text": [
      "this is class a function's execution\n"
     ]
    }
   ],
   "source": [
    "obja = a()\n",
    "obja.test()"
   ]
  },
  {
   "cell_type": "code",
   "execution_count": 16,
   "id": "19e245ce-1d18-4dc3-a09d-3200a4a3f1e2",
   "metadata": {},
   "outputs": [],
   "source": [
    "class b(a):\n",
    "    \n",
    "    def test1b(self):\n",
    "        print(\"this is from class b \")\n"
   ]
  },
  {
   "cell_type": "code",
   "execution_count": 17,
   "id": "d94e150f-99e5-44ae-8acc-f01f077122cb",
   "metadata": {},
   "outputs": [
    {
     "name": "stdout",
     "output_type": "stream",
     "text": [
      "this is class a function's execution\n"
     ]
    }
   ],
   "source": [
    "objb = b()\n",
    "objb.test()"
   ]
  },
  {
   "cell_type": "code",
   "execution_count": 18,
   "id": "939d82f7-31d9-44a6-8393-b91252181e72",
   "metadata": {},
   "outputs": [
    {
     "name": "stdout",
     "output_type": "stream",
     "text": [
      "this is from class b \n"
     ]
    }
   ],
   "source": [
    "objb.test1b()"
   ]
  },
  {
   "cell_type": "code",
   "execution_count": 19,
   "id": "a1d159b2-efa1-4f1c-ac35-f8c3dab7c421",
   "metadata": {},
   "outputs": [
    {
     "name": "stdout",
     "output_type": "stream",
     "text": [
      " this is the 2nd function from class a\n"
     ]
    }
   ],
   "source": [
    "objb.test2()"
   ]
  },
  {
   "cell_type": "markdown",
   "id": "e280e919-a0b7-48cb-9bc8-e6d9728e2a29",
   "metadata": {},
   "source": [
    "#another example on inheritance "
   ]
  },
  {
   "cell_type": "code",
   "execution_count": 26,
   "id": "a6c5bbe1-8f4e-4d23-b656-50cf0920f866",
   "metadata": {},
   "outputs": [],
   "source": [
    "class lecture:\n",
    "    \n",
    "    def topic(self):\n",
    "        print(\"todays class topic is inheritance\")\n",
    "    \n",
    "    def timing(self):\n",
    "        print(\"timing for todays class is 9 AM IST\")\n",
    "    \n",
    "    def end_time(self):\n",
    "        print(\"todays class will end bit early\")"
   ]
  },
  {
   "cell_type": "code",
   "execution_count": 27,
   "id": "c57b2543-89da-49b5-88f5-703e15f4a11c",
   "metadata": {},
   "outputs": [],
   "source": [
    "class student(lecture):\n",
    "    \n",
    "    def student_details(self):\n",
    "        print(\"this class will give you a student detail\")"
   ]
  },
  {
   "cell_type": "code",
   "execution_count": 28,
   "id": "a7488238-3f5e-4ca4-b5bd-731cb2c427dd",
   "metadata": {},
   "outputs": [],
   "source": [
    "shashank = student()"
   ]
  },
  {
   "cell_type": "code",
   "execution_count": 29,
   "id": "262bca19-b757-483c-bc54-a3eb1b823cf3",
   "metadata": {},
   "outputs": [
    {
     "name": "stdout",
     "output_type": "stream",
     "text": [
      "todays class topic is inheritance\n"
     ]
    }
   ],
   "source": [
    "shashank.topic()"
   ]
  },
  {
   "cell_type": "code",
   "execution_count": 30,
   "id": "4d2b4354-afc1-41d7-965e-e056cd5212f3",
   "metadata": {},
   "outputs": [],
   "source": [
    "husain = student()"
   ]
  },
  {
   "cell_type": "code",
   "execution_count": 31,
   "id": "242c993b-fc6e-4bf2-a5b1-ab2ab14282d8",
   "metadata": {},
   "outputs": [
    {
     "name": "stdout",
     "output_type": "stream",
     "text": [
      "timing for todays class is 9 AM IST\n"
     ]
    }
   ],
   "source": [
    "husain.timing()"
   ]
  },
  {
   "cell_type": "code",
   "execution_count": 32,
   "id": "900bdd38-2b2f-4a6c-a9dc-843aefb67e63",
   "metadata": {},
   "outputs": [
    {
     "name": "stdout",
     "output_type": "stream",
     "text": [
      "todays class will end bit early\n"
     ]
    }
   ],
   "source": [
    "husain.end_time()"
   ]
  },
  {
   "cell_type": "code",
   "execution_count": 33,
   "id": "13f9decb-a5e4-44cc-908b-054c7d598766",
   "metadata": {},
   "outputs": [],
   "source": [
    "# to get inheritance from student and lecture class both "
   ]
  },
  {
   "cell_type": "markdown",
   "id": "f98cd0b1-bd49-4867-af3c-07581917830d",
   "metadata": {},
   "source": [
    "'''multi lable inheritance in teacher class we inherited student and lecture both as we pass student in teacher and student\n",
    "is by default have lecture class as a parameter.'''"
   ]
  },
  {
   "cell_type": "code",
   "execution_count": 34,
   "id": "f6e4638b-9b32-475c-a9bf-7d95e430ffda",
   "metadata": {},
   "outputs": [],
   "source": [
    "class teacher(student):\n",
    "    \n",
    "    def details(self):\n",
    "        print(\" this is teacher details class\")"
   ]
  },
  {
   "cell_type": "code",
   "execution_count": 35,
   "id": "9843f386-965e-407e-99d0-8196389fd106",
   "metadata": {},
   "outputs": [],
   "source": [
    "shah = teacher()"
   ]
  },
  {
   "cell_type": "code",
   "execution_count": 36,
   "id": "3383853d-c424-469a-a540-38470dcfd729",
   "metadata": {},
   "outputs": [
    {
     "name": "stdout",
     "output_type": "stream",
     "text": [
      " this is teacher details class\n"
     ]
    }
   ],
   "source": [
    "shah.details()"
   ]
  },
  {
   "cell_type": "code",
   "execution_count": 37,
   "id": "5e4bfb73-4a8a-495c-bcb5-4b6544f045fd",
   "metadata": {},
   "outputs": [
    {
     "name": "stdout",
     "output_type": "stream",
     "text": [
      "todays class topic is inheritance\n"
     ]
    }
   ],
   "source": [
    "shah.topic()\n"
   ]
  },
  {
   "cell_type": "code",
   "execution_count": 38,
   "id": "1bbeaeb9-2f4f-484d-a25e-e318fed91ec3",
   "metadata": {},
   "outputs": [
    {
     "name": "stdout",
     "output_type": "stream",
     "text": [
      "this class will give you a student detail\n"
     ]
    }
   ],
   "source": [
    "shah.student_details()"
   ]
  },
  {
   "cell_type": "markdown",
   "id": "48306790-73ad-4ffa-8098-0e40db48d066",
   "metadata": {},
   "source": [
    "'''another way of doing multiple inheritance '''"
   ]
  },
  {
   "cell_type": "code",
   "execution_count": 43,
   "id": "81eac8f2-a1d5-48d1-bfc4-a729ce585d46",
   "metadata": {},
   "outputs": [],
   "source": [
    "class lectures:\n",
    "    \n",
    "    def topic(self):\n",
    "        print(\"todays class topic is inheritance\")\n",
    "    \n",
    "    def timing(self):\n",
    "        print(\"timing for todays class is 9 AM IST\")\n",
    "    \n",
    "    def end_time(self):\n",
    "        print(\"todays class will end bit early\")"
   ]
  },
  {
   "cell_type": "code",
   "execution_count": 44,
   "id": "cdd2e4ce-e62c-48a8-8e29-671e5517f723",
   "metadata": {},
   "outputs": [],
   "source": [
    "class students():\n",
    "    \n",
    "    def student_details(self):\n",
    "        print(\"this class will give you a student detail\")"
   ]
  },
  {
   "cell_type": "code",
   "execution_count": 45,
   "id": "14f773af-4453-4e5b-afe3-5803ae501068",
   "metadata": {},
   "outputs": [],
   "source": [
    "class teacher(students,lectures): #in this parameter are prioritise acording to order\n",
    "    \n",
    "    def details(self):\n",
    "        print(\" this is teacher details class\")"
   ]
  },
  {
   "cell_type": "code",
   "execution_count": 46,
   "id": "1d1738e8-4ecd-42b9-8650-9695fc24c04a",
   "metadata": {},
   "outputs": [],
   "source": [
    "shanky = teacher()"
   ]
  },
  {
   "cell_type": "code",
   "execution_count": 47,
   "id": "bc8465b8-74b9-4c20-a8e2-113e021b3057",
   "metadata": {},
   "outputs": [
    {
     "name": "stdout",
     "output_type": "stream",
     "text": [
      "todays class topic is inheritance\n"
     ]
    }
   ],
   "source": [
    "shanky.topic()"
   ]
  },
  {
   "cell_type": "code",
   "execution_count": null,
   "id": "0381cd1d-7664-42ce-b224-5e5a6a602b27",
   "metadata": {},
   "outputs": [],
   "source": []
  }
 ],
 "metadata": {
  "kernelspec": {
   "display_name": "Python 3 (ipykernel)",
   "language": "python",
   "name": "python3"
  },
  "language_info": {
   "codemirror_mode": {
    "name": "ipython",
    "version": 3
   },
   "file_extension": ".py",
   "mimetype": "text/x-python",
   "name": "python",
   "nbconvert_exporter": "python",
   "pygments_lexer": "ipython3",
   "version": "3.10.8"
  }
 },
 "nbformat": 4,
 "nbformat_minor": 5
}
