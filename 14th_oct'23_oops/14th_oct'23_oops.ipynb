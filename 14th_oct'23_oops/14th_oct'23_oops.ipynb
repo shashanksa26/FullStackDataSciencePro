{
 "cells": [
  {
   "cell_type": "code",
   "execution_count": 96,
   "id": "c0e7829f-4602-44ec-8679-4edebec9c3d1",
   "metadata": {},
   "outputs": [],
   "source": [
    "class pwskills :    \n",
    "    \n",
    "    def __init__(self,mentor):\n",
    "        self.mentor = mentor\n",
    "        \n",
    "    def mentor_name(self):\n",
    "        print(self.mentor)\n",
    "        \n",
    "        \n",
    "class datascience(pwskills):    \n",
    "    \n",
    "    def __init__(self, mentor, mentor_email_id):\n",
    "        super().__init__(mentor)\n",
    "        self.mentor_email_id = mentor_email_id\n",
    "        \n",
    "    def mentor_email(self):\n",
    "        print(self.mentor_email_id)\n",
    "        \n",
    "    def show_info(self):\n",
    "        super().mentor_name()\n",
    "        print(self.mentor, self.mentor_email_id)"
   ]
  },
  {
   "cell_type": "code",
   "execution_count": 97,
   "id": "33ee0011-52e0-41a0-8adc-6154a43113a3",
   "metadata": {},
   "outputs": [
    {
     "name": "stdout",
     "output_type": "stream",
     "text": [
      "shashank\n",
      "shashank shashankanandsa1@gmail.com\n"
     ]
    }
   ],
   "source": [
    "obj = datascience(\"shashank\",\"shashankanandsa1@gmail.com\")\n",
    "obj.show_info()"
   ]
  },
  {
   "cell_type": "code",
   "execution_count": 98,
   "id": "0fac74c7-0e3d-45c5-afd7-28401775a62a",
   "metadata": {},
   "outputs": [
    {
     "name": "stdout",
     "output_type": "stream",
     "text": [
      "shashank\n"
     ]
    }
   ],
   "source": [
    "obj.mentor_name()"
   ]
  },
  {
   "cell_type": "code",
   "execution_count": 99,
   "id": "623641dc-4176-423c-8917-a52aec54065b",
   "metadata": {},
   "outputs": [
    {
     "name": "stdout",
     "output_type": "stream",
     "text": [
      "shashankanandsa1@gmail.com\n"
     ]
    }
   ],
   "source": [
    "obj.mentor_email()"
   ]
  },
  {
   "cell_type": "code",
   "execution_count": 100,
   "id": "11d12fc5-8d99-410a-9779-156bb39f5a56",
   "metadata": {},
   "outputs": [],
   "source": [
    "obj2 = datascience(\"sk\",\"sk1@gmail.com\")"
   ]
  },
  {
   "cell_type": "code",
   "execution_count": 101,
   "id": "d9cb20c2-18f1-472a-8445-46d6cb31ba84",
   "metadata": {},
   "outputs": [
    {
     "name": "stdout",
     "output_type": "stream",
     "text": [
      "sk\n",
      "sk sk1@gmail.com\n"
     ]
    }
   ],
   "source": [
    "obj2.show_info()"
   ]
  },
  {
   "cell_type": "code",
   "execution_count": 102,
   "id": "6f4d6a02-4ab1-456e-a9b5-0e0f75938d86",
   "metadata": {},
   "outputs": [
    {
     "name": "stdout",
     "output_type": "stream",
     "text": [
      "sk\n"
     ]
    }
   ],
   "source": [
    "obj2.mentor_name()"
   ]
  },
  {
   "cell_type": "code",
   "execution_count": 103,
   "id": "070ddb11-e702-4747-a18f-eb15ed5a44c7",
   "metadata": {},
   "outputs": [
    {
     "name": "stdout",
     "output_type": "stream",
     "text": [
      "sk1@gmail.com\n"
     ]
    }
   ],
   "source": [
    "obj2.mentor_email()"
   ]
  },
  {
   "cell_type": "code",
   "execution_count": 104,
   "id": "149e1e3f-d4e0-4375-ba8d-2c0fd5e02aec",
   "metadata": {},
   "outputs": [
    {
     "name": "stdout",
     "output_type": "stream",
     "text": [
      "sk\n",
      "sk sk1@gmail.com\n"
     ]
    }
   ],
   "source": [
    "obj2.show_info()"
   ]
  },
  {
   "cell_type": "markdown",
   "id": "8889446c-a150-4ab0-bd1e-9bdb31f53641",
   "metadata": {},
   "source": [
    "# another example"
   ]
  },
  {
   "cell_type": "code",
   "execution_count": 105,
   "id": "2aa9cb9a-3c58-4424-8b5e-ebeb34f43b20",
   "metadata": {},
   "outputs": [],
   "source": [
    "class human:\n",
    "    \n",
    "    def __int__(self,name):\n",
    "        pass\n",
    "    \n",
    "    def eat(self):\n",
    "        print(\"print the method from human class\")"
   ]
  },
  {
   "cell_type": "code",
   "execution_count": 106,
   "id": "374455c7-4064-47e9-82d7-f28e000c711d",
   "metadata": {},
   "outputs": [],
   "source": [
    "class male(human):\n",
    "    \n",
    "    def __init__(self, name):\n",
    "        self.name = name\n",
    "    \n",
    "    def eat(self):\n",
    "        super().eat()\n",
    "        print(self.name)"
   ]
  },
  {
   "cell_type": "code",
   "execution_count": 107,
   "id": "4ce2387d-5d24-4c6c-bbf9-e8194a78a907",
   "metadata": {},
   "outputs": [],
   "source": [
    "sha = male(\"Shashank\")"
   ]
  },
  {
   "cell_type": "code",
   "execution_count": 108,
   "id": "e2137050-f49f-40cf-9730-fec39b2ac052",
   "metadata": {},
   "outputs": [
    {
     "name": "stdout",
     "output_type": "stream",
     "text": [
      "print the method from human class\n",
      "Shashank\n"
     ]
    }
   ],
   "source": [
    "sha.eat()"
   ]
  },
  {
   "cell_type": "markdown",
   "id": "b90c8662-4ae6-4565-bffb-fca3fcef1d7c",
   "metadata": {},
   "source": [
    "# Dunder method: "
   ]
  },
  {
   "cell_type": "code",
   "execution_count": 109,
   "id": "eba75013-8844-41f4-bd5d-240866cbca8d",
   "metadata": {},
   "outputs": [],
   "source": [
    "# Destructor"
   ]
  },
  {
   "cell_type": "code",
   "execution_count": 110,
   "id": "40fa3b1d-6d1a-4569-9422-2ee3f71e3731",
   "metadata": {},
   "outputs": [],
   "source": [
    "class fileopener :\n",
    "    def __init__ (self,filename):\n",
    "        self.filename = filename\n",
    "    \n",
    "    def open_file(self):\n",
    "        print(\"this will open the file\",self.filename)\n",
    "    \n",
    "    def __del__(self):\n",
    "        print(\"close my file\")"
   ]
  },
  {
   "cell_type": "code",
   "execution_count": 111,
   "id": "9a7f0227-b0d4-4053-a32d-7f2544ffdf62",
   "metadata": {},
   "outputs": [],
   "source": [
    "f1 = fileopener(\"f1.txt\")"
   ]
  },
  {
   "cell_type": "code",
   "execution_count": 112,
   "id": "8c3a5307-36af-47ee-9590-2281c2bd740e",
   "metadata": {},
   "outputs": [
    {
     "name": "stdout",
     "output_type": "stream",
     "text": [
      "this will open the file f1.txt\n"
     ]
    }
   ],
   "source": [
    "f1.open_file()"
   ]
  },
  {
   "cell_type": "code",
   "execution_count": 113,
   "id": "e5365ec1-d50f-49ee-a2f6-52efa4164bf4",
   "metadata": {},
   "outputs": [],
   "source": [
    "# another example "
   ]
  },
  {
   "cell_type": "code",
   "execution_count": 114,
   "id": "5ba48c83-b8b4-4656-a419-3ff4133871bd",
   "metadata": {},
   "outputs": [],
   "source": [
    "import time \n",
    "class timer :\n",
    "    def __init__(self):\n",
    "        self.start_time = time.time()\n",
    "        \n",
    "    def task(self):\n",
    "        time_spent = time.time() - self.start_time\n",
    "        print(time_spent)\n",
    "    \n",
    "    def __del__(self):\n",
    "        print(\" \")\n",
    "    \n",
    "    def __str__(self):\n",
    "        return \"this is my class timer\""
   ]
  },
  {
   "cell_type": "code",
   "execution_count": 115,
   "id": "6930bdec-e1eb-43e0-82d0-5b16636cb589",
   "metadata": {},
   "outputs": [],
   "source": [
    "t1 = timer()"
   ]
  },
  {
   "cell_type": "code",
   "execution_count": 116,
   "id": "38a348bc-0b2f-4b6c-a51d-5a8a6bf220be",
   "metadata": {},
   "outputs": [
    {
     "name": "stdout",
     "output_type": "stream",
     "text": [
      "0.00540614128112793\n"
     ]
    }
   ],
   "source": [
    "t1.task()"
   ]
  },
  {
   "cell_type": "code",
   "execution_count": 117,
   "id": "8b4429bc-f210-4809-914d-c41347de1773",
   "metadata": {},
   "outputs": [
    {
     "name": "stdout",
     "output_type": "stream",
     "text": [
      "this is my class timer\n"
     ]
    }
   ],
   "source": [
    "print(t1) # this prints the string on the object which is used by the dunder method __str__"
   ]
  },
  {
   "cell_type": "markdown",
   "id": "8593616e-60d7-4280-95a6-b795daa7cd91",
   "metadata": {
    "tags": []
   },
   "source": [
    "# Decorator"
   ]
  },
  {
   "cell_type": "code",
   "execution_count": 118,
   "id": "67d8de1b-7e5c-487b-ad27-50e4b3df8977",
   "metadata": {},
   "outputs": [],
   "source": [
    " def test(parent):\n",
    "        def inner_test():\n",
    "            print(\"this is the start of innertest\")\n",
    "            parent()\n",
    "            print(\"this is the end of the innnertest\")\n",
    "            \n",
    "        return inner_test\n",
    "@test\n",
    "def test2():\n",
    "    print(\"this is the test 2 \")"
   ]
  },
  {
   "cell_type": "code",
   "execution_count": 119,
   "id": "8e6f1bb5-206b-4a4c-830f-2ab50c399372",
   "metadata": {},
   "outputs": [
    {
     "name": "stdout",
     "output_type": "stream",
     "text": [
      "this is the start of innertest\n",
      "this is the test 2 \n",
      "this is the end of the innnertest\n"
     ]
    }
   ],
   "source": [
    "test2()"
   ]
  },
  {
   "cell_type": "markdown",
   "id": "9de5d413-42ec-44ec-8089-7d811c3176ee",
   "metadata": {
    "tags": []
   },
   "source": [
    "# another example"
   ]
  },
  {
   "cell_type": "code",
   "execution_count": 120,
   "id": "06f054ad-9c82-4282-ac48-500c524bce34",
   "metadata": {},
   "outputs": [],
   "source": [
    "import time \n",
    "def print_list(l):\n",
    "    start_time = time.time()\n",
    "    for i in l:\n",
    "        print(l)\n",
    "    end_time = time.time()\n",
    "    total_time = end_time - start_time\n",
    "    print(total_time)"
   ]
  },
  {
   "cell_type": "code",
   "execution_count": 121,
   "id": "67cd74d3-bc26-4a3f-8ffe-208b0d9b0681",
   "metadata": {},
   "outputs": [],
   "source": [
    "def print_key(d):\n",
    "    start_time = time.time()\n",
    "    print(d.keys())\n",
    "    end_time = time.time()\n",
    "    total_time = end_time - start_time\n",
    "    print(total_time)"
   ]
  },
  {
   "cell_type": "markdown",
   "id": "c2420b0f-e42d-46e9-ae5c-199a455e4c1d",
   "metadata": {
    "tags": []
   },
   "source": [
    "in above 2 codes in that we are getting the execution time taken and if we have to do the same with lot of function then it is hard to write again and again same code for doing same thing. there will use decorator to tackle this problem."
   ]
  },
  {
   "cell_type": "code",
   "execution_count": 122,
   "id": "d93d5681-f84d-496b-a1d6-8d4a32136a2a",
   "metadata": {},
   "outputs": [],
   "source": [
    "def find_time(func):\n",
    "    def cal_time(*args):\n",
    "        start_time = time.time()\n",
    "        func(*args) #here *args is used as the func which dont take any paramete but to pass we used this\n",
    "        end_time = time.time()\n",
    "        total_time = end_time - start_time\n",
    "        print(total_time)\n",
    "    return cal_time"
   ]
  },
  {
   "cell_type": "code",
   "execution_count": 123,
   "id": "438453b6-944e-4c4e-ab40-70b0a94fd62e",
   "metadata": {},
   "outputs": [],
   "source": [
    "@find_time\n",
    "def print_key(d):\n",
    "    print(d.keys())"
   ]
  },
  {
   "cell_type": "code",
   "execution_count": 124,
   "id": "4f85db0b-1115-4e5c-a900-f8efe23dd5f2",
   "metadata": {},
   "outputs": [
    {
     "name": "stdout",
     "output_type": "stream",
     "text": [
      "dict_keys(['key', 'name'])\n",
      "5.125999450683594e-05\n"
     ]
    }
   ],
   "source": [
    "print_key({\"key\": \"value\",\"name\":\"sudh\"})"
   ]
  },
  {
   "cell_type": "code",
   "execution_count": 125,
   "id": "88f592e1-449f-4220-b9ba-cbe7f2539419",
   "metadata": {},
   "outputs": [],
   "source": [
    "@find_time\n",
    "def print_list(l):\n",
    "    for i in l:\n",
    "        print(i)"
   ]
  },
  {
   "cell_type": "code",
   "execution_count": 126,
   "id": "2d61275d-92ce-4278-a16e-0e7fa438367c",
   "metadata": {},
   "outputs": [
    {
     "name": "stdout",
     "output_type": "stream",
     "text": [
      "23\n",
      "4\n",
      "5\n",
      "5\n",
      "6\n",
      "67\n",
      "7\n",
      "8\n",
      "7.224082946777344e-05\n"
     ]
    }
   ],
   "source": [
    "print_list([23,4,5,5,6,67,7,8])"
   ]
  },
  {
   "cell_type": "code",
   "execution_count": 127,
   "id": "50a10676-51c3-41fe-aec0-ad2c8e8aa93e",
   "metadata": {},
   "outputs": [],
   "source": [
    "@find_time\n",
    "def calci():\n",
    "    for i in range(1,5):\n",
    "        c= i*i+1\n",
    "        print(c)"
   ]
  },
  {
   "cell_type": "code",
   "execution_count": 128,
   "id": "9af4b5c2-fc71-47c8-a6a3-0978c942b7bd",
   "metadata": {},
   "outputs": [
    {
     "name": "stdout",
     "output_type": "stream",
     "text": [
      "2\n",
      "5\n",
      "10\n",
      "17\n",
      "5.626678466796875e-05\n"
     ]
    }
   ],
   "source": [
    "calci()"
   ]
  },
  {
   "cell_type": "markdown",
   "id": "2050b29f-9258-43ba-ac04-08eb15303aec",
   "metadata": {},
   "source": [
    "# making logging using decorator"
   ]
  },
  {
   "cell_type": "code",
   "execution_count": 129,
   "id": "e3e769e8-7d64-40d3-911a-89bedcdbf3aa",
   "metadata": {},
   "outputs": [],
   "source": [
    "import logging\n",
    "def log_fun(func):\n",
    "    def log_inner(*args):\n",
    "        logging.basicConfig(filename = \"test.log\", level = logging.INFO)\n",
    "        logging.info(\"this is the start of my function\")\n",
    "        func(*args)\n",
    "        logging.info(\"this is the end of my function\")\n",
    "    return log_inner"
   ]
  },
  {
   "cell_type": "code",
   "execution_count": 130,
   "id": "ff03826f-fdfe-4f1c-83ad-86bc26e726b4",
   "metadata": {},
   "outputs": [],
   "source": [
    "@log_fun\n",
    "@find_time\n",
    "def print_list(l):\n",
    "    for i in l:\n",
    "        print(i)"
   ]
  },
  {
   "cell_type": "code",
   "execution_count": 131,
   "id": "3043ca2b-a4ee-450d-9c05-e9ba2f212d05",
   "metadata": {},
   "outputs": [
    {
     "name": "stdout",
     "output_type": "stream",
     "text": [
      "23\n",
      "4\n",
      "5\n",
      "5\n",
      "6\n",
      "67\n",
      "7\n",
      "8\n",
      "7.176399230957031e-05\n"
     ]
    }
   ],
   "source": [
    "print_list([23,4,5,5,6,67,7,8])"
   ]
  },
  {
   "cell_type": "markdown",
   "id": "1c16ab10-c0f5-41eb-9644-48bbefe578b8",
   "metadata": {},
   "source": [
    "# Access Control using naming conventions"
   ]
  },
  {
   "cell_type": "code",
   "execution_count": 132,
   "id": "9152994d-a9e5-41c5-b893-2207c2823cee",
   "metadata": {},
   "outputs": [],
   "source": [
    "class sha:\n",
    "    def __init__(self,subject):\n",
    "        self._subject = subject"
   ]
  },
  {
   "cell_type": "code",
   "execution_count": 133,
   "id": "07142295-731d-40c7-81cd-4175c5ffa6c7",
   "metadata": {},
   "outputs": [],
   "source": [
    "s1 = sha(\"data Science\")"
   ]
  },
  {
   "cell_type": "code",
   "execution_count": 134,
   "id": "359206c6-4420-4e64-9be8-43b3d24bf09c",
   "metadata": {},
   "outputs": [
    {
     "data": {
      "text/plain": [
       "'data Science'"
      ]
     },
     "execution_count": 134,
     "metadata": {},
     "output_type": "execute_result"
    }
   ],
   "source": [
    "s1._subject"
   ]
  },
  {
   "cell_type": "code",
   "execution_count": 151,
   "id": "d216faac-705e-47a0-97d7-3366d778247f",
   "metadata": {},
   "outputs": [],
   "source": [
    "# changing the value of pro class\n",
    "s1._subject = \"data\""
   ]
  },
  {
   "cell_type": "code",
   "execution_count": 152,
   "id": "340ef4fc-4254-4778-a1f0-4b863ecdb1a9",
   "metadata": {},
   "outputs": [
    {
     "data": {
      "text/plain": [
       "'data'"
      ]
     },
     "execution_count": 152,
     "metadata": {},
     "output_type": "execute_result"
    }
   ],
   "source": [
    "s1._subject"
   ]
  },
  {
   "cell_type": "code",
   "execution_count": 135,
   "id": "842d3755-fa02-4c28-b9ef-88efa9d2d95b",
   "metadata": {},
   "outputs": [],
   "source": [
    "class access_control:\n",
    "    def __init__(self,pub,prot,priv):\n",
    "        self.pub = pub\n",
    "        self._prot = prot\n",
    "        self.__priv = priv"
   ]
  },
  {
   "cell_type": "code",
   "execution_count": 136,
   "id": "1b4ceae3-bd75-4e72-98b4-2181a6068a98",
   "metadata": {},
   "outputs": [],
   "source": [
    "obja = access_control(\"public\",\"protected\",\"private\")"
   ]
  },
  {
   "cell_type": "code",
   "execution_count": 137,
   "id": "64a7225d-ba5c-451e-b147-ef8e3959ccf8",
   "metadata": {},
   "outputs": [
    {
     "data": {
      "text/plain": [
       "'public'"
      ]
     },
     "execution_count": 137,
     "metadata": {},
     "output_type": "execute_result"
    }
   ],
   "source": [
    "obja.pub"
   ]
  },
  {
   "cell_type": "code",
   "execution_count": 138,
   "id": "661322a8-3eab-4228-9f8a-2807723d614e",
   "metadata": {},
   "outputs": [
    {
     "data": {
      "text/plain": [
       "'protected'"
      ]
     },
     "execution_count": 138,
     "metadata": {},
     "output_type": "execute_result"
    }
   ],
   "source": [
    "obja._prot"
   ]
  },
  {
   "cell_type": "code",
   "execution_count": 139,
   "id": "cdf1df00-c4ea-4784-b31e-bc0c8dd73b1c",
   "metadata": {},
   "outputs": [
    {
     "data": {
      "text/plain": [
       "'private'"
      ]
     },
     "execution_count": 139,
     "metadata": {},
     "output_type": "execute_result"
    }
   ],
   "source": [
    "obja._access_control__priv"
   ]
  },
  {
   "cell_type": "markdown",
   "id": "62c73e81-3954-400e-949a-e6eb8e24057b",
   "metadata": {},
   "source": [
    "# inbuilt Decorator"
   ]
  },
  {
   "cell_type": "code",
   "execution_count": 144,
   "id": "e4db83d5-4985-4862-88eb-f29357c1dd79",
   "metadata": {},
   "outputs": [],
   "source": [
    "class sha:\n",
    "    def __init__(self,subject):\n",
    "        self.__subject = subject\n",
    "    \n",
    "    @property\n",
    "    def subject1(self):\n",
    "        return self.__subject\n",
    "    \n",
    "    @subject1.setter\n",
    "    def subject1(self,subject):\n",
    "        self.__subject = subject\n",
    "    \n",
    "    @subject1.getter\n",
    "    def subject1(self):\n",
    "        return self.__subject\n",
    "    "
   ]
  },
  {
   "cell_type": "code",
   "execution_count": 145,
   "id": "e05e7d28-1905-4890-8b0b-be9ba35826ce",
   "metadata": {},
   "outputs": [],
   "source": [
    "s2 = sha(\"data analytics\")"
   ]
  },
  {
   "cell_type": "code",
   "execution_count": 146,
   "id": "06f9bafb-8a16-4a75-8110-48fe45d49e3d",
   "metadata": {},
   "outputs": [
    {
     "data": {
      "text/plain": [
       "'data analytics'"
      ]
     },
     "execution_count": 146,
     "metadata": {},
     "output_type": "execute_result"
    }
   ],
   "source": [
    "s2.subject1"
   ]
  },
  {
   "cell_type": "code",
   "execution_count": 147,
   "id": "9615838c-f7b2-4478-b043-9561a74e7bb7",
   "metadata": {},
   "outputs": [],
   "source": [
    "# changing the value of priv class\n",
    "s2.subject1 = \"block chain\""
   ]
  },
  {
   "cell_type": "code",
   "execution_count": 148,
   "id": "34281586-1923-42de-9aa1-6ba276f5cbdd",
   "metadata": {},
   "outputs": [
    {
     "data": {
      "text/plain": [
       "'block chain'"
      ]
     },
     "execution_count": 148,
     "metadata": {},
     "output_type": "execute_result"
    }
   ],
   "source": [
    "s2.subject1"
   ]
  },
  {
   "cell_type": "code",
   "execution_count": null,
   "id": "50e7754e-e14b-408d-ab43-deb50fa630bd",
   "metadata": {},
   "outputs": [],
   "source": []
  }
 ],
 "metadata": {
  "kernelspec": {
   "display_name": "Python 3 (ipykernel)",
   "language": "python",
   "name": "python3"
  },
  "language_info": {
   "codemirror_mode": {
    "name": "ipython",
    "version": 3
   },
   "file_extension": ".py",
   "mimetype": "text/x-python",
   "name": "python",
   "nbconvert_exporter": "python",
   "pygments_lexer": "ipython3",
   "version": "3.10.8"
  }
 },
 "nbformat": 4,
 "nbformat_minor": 5
}
