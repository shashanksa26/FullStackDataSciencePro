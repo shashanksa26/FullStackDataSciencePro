{
 "cells": [
  {
   "cell_type": "markdown",
   "id": "8a0bfe7f-9577-491e-9e7a-f63c176bbd7c",
   "metadata": {},
   "source": [
    " # Polymorphism"
   ]
  },
  {
   "cell_type": "code",
   "execution_count": 2,
   "id": "f69a4617-d4bb-44fa-99d2-1b7689fbe710",
   "metadata": {},
   "outputs": [],
   "source": [
    "def test(a,b):\n",
    "    return a+b"
   ]
  },
  {
   "cell_type": "code",
   "execution_count": 5,
   "id": "d15df851-d8a0-46d0-9ba7-539af05648e1",
   "metadata": {},
   "outputs": [
    {
     "data": {
      "text/plain": [
       "9"
      ]
     },
     "execution_count": 5,
     "metadata": {},
     "output_type": "execute_result"
    }
   ],
   "source": [
    "test(4,5) # here adddition is performed"
   ]
  },
  {
   "cell_type": "code",
   "execution_count": 6,
   "id": "24369e45-db14-496f-9d22-ddb6df22a7d1",
   "metadata": {},
   "outputs": [
    {
     "data": {
      "text/plain": [
       "'Helloshashank'"
      ]
     },
     "execution_count": 6,
     "metadata": {},
     "output_type": "execute_result"
    }
   ],
   "source": [
    "test(\"Hello\",\"shashank\") # in this same function it is doing string concatenation THIS IS polymorphism"
   ]
  },
  {
   "cell_type": "markdown",
   "id": "67af464c-337e-42a1-8d6d-6704c5d69c0b",
   "metadata": {},
   "source": [
    "# An example of polymorphism using Method Overriding"
   ]
  },
  {
   "cell_type": "code",
   "execution_count": 12,
   "id": "586b239a-27c1-4a15-bda6-d46e93483f3c",
   "metadata": {},
   "outputs": [],
   "source": [
    "class pwskills:\n",
    "    def student(self):\n",
    "        pass\n",
    "\n",
    "class datascience(pwskills):\n",
    "    def student(self):\n",
    "        print(\"this will give me a details about data science student\")\n",
    "\n",
    "class bigdata(pwskills):\n",
    "    def student(self):\n",
    "        print(\"this will give me a detail about big data student\")"
   ]
  },
  {
   "cell_type": "code",
   "execution_count": 13,
   "id": "18dea799-1e08-4970-98d5-74d6fc939806",
   "metadata": {},
   "outputs": [],
   "source": [
    "yash = datascience()\n",
    "farhana = bigdata()"
   ]
  },
  {
   "cell_type": "code",
   "execution_count": 15,
   "id": "4e329fe5-56e8-4d19-b79a-1b60dd04e883",
   "metadata": {},
   "outputs": [
    {
     "name": "stdout",
     "output_type": "stream",
     "text": [
      "this will give me a details about data science student\n",
      "this will give me a detail about big data student\n"
     ]
    }
   ],
   "source": [
    "yash.student()\n",
    "farhana.student()"
   ]
  },
  {
   "cell_type": "markdown",
   "id": "f4de5f4a-8e6d-4453-8e72-951dc2975adc",
   "metadata": {},
   "source": [
    "# Method Overloading"
   ]
  },
  {
   "cell_type": "code",
   "execution_count": 16,
   "id": "16b85694-f96b-453f-84a3-df6df54e6740",
   "metadata": {},
   "outputs": [
    {
     "name": "stdout",
     "output_type": "stream",
     "text": [
      "4 36\n"
     ]
    }
   ],
   "source": [
    "class bigdata:\n",
    "    def __init__(self, number_of_class, number_of_student):\n",
    "        self.number_of_class = number_of_class\n",
    "        self.number_of_student = number_of_student\n",
    "    \n",
    "    def __add__(self, other):\n",
    "        return bigdata(self.number_of_class + other.number_of_class, self.number_of_student + other.number_of_student)\n",
    "\n",
    "c1 = bigdata(1,13)\n",
    "c2 = bigdata(3,23)\n",
    "result = c1 +c2 # here concatenation is performed for objects as method overloading is done otherwise we couldn't \n",
    "print(result.number_of_class, result.number_of_student)"
   ]
  },
  {
   "cell_type": "code",
   "execution_count": 2,
   "id": "1821995b-41cf-4e6d-897f-a6de7f39d857",
   "metadata": {},
   "outputs": [],
   "source": [
    "class datascience:\n",
    "    def student(self):\n",
    "        print(\"this will give me a details about data science student\")\n",
    "\n",
    "class bigdata:\n",
    "    def student(self):\n",
    "        print(\"this will give me a detail about big data student\")\n",
    "        \n",
    "def output_class(class_obj):\n",
    "    return class_obj.student()"
   ]
  },
  {
   "cell_type": "code",
   "execution_count": 3,
   "id": "44b01466-0ee9-4ba9-ac8a-60c81d446af8",
   "metadata": {},
   "outputs": [],
   "source": [
    "sesha = datascience()\n",
    "sashi = bigdata()"
   ]
  },
  {
   "cell_type": "code",
   "execution_count": 4,
   "id": "ab455d0c-3071-4c81-b378-936ee968bea1",
   "metadata": {},
   "outputs": [
    {
     "name": "stdout",
     "output_type": "stream",
     "text": [
      "this will give me a details about data science student\n"
     ]
    }
   ],
   "source": [
    "output_class(sesha)"
   ]
  },
  {
   "cell_type": "code",
   "execution_count": 5,
   "id": "893814b5-e479-4f51-b631-6798bb5d74b1",
   "metadata": {},
   "outputs": [
    {
     "name": "stdout",
     "output_type": "stream",
     "text": [
      "this will give me a detail about big data student\n"
     ]
    }
   ],
   "source": [
    "output_class(sashi)"
   ]
  },
  {
   "cell_type": "code",
   "execution_count": 2,
   "id": "61b12ea8-8f08-432e-8b28-b969b6cb6d9e",
   "metadata": {},
   "outputs": [],
   "source": [
    "class pwskills:\n",
    "    def student(self):\n",
    "        return \"this is a pwskills student\"\n",
    "\n",
    "class datascience(pwskills):\n",
    "    def student(self):\n",
    "        print(\"this will give me a details about data science student\")"
   ]
  },
  {
   "cell_type": "code",
   "execution_count": 3,
   "id": "495b6a32-2d06-42d1-8a7d-399dec3f2a25",
   "metadata": {},
   "outputs": [
    {
     "name": "stdout",
     "output_type": "stream",
     "text": [
      "this will give me a details about data science student\n"
     ]
    }
   ],
   "source": [
    "ujwal = datascience()\n",
    "ujwal.student()"
   ]
  },
  {
   "cell_type": "code",
   "execution_count": 4,
   "id": "a3c54e39-0329-494f-ac5c-599aa06d5d6f",
   "metadata": {},
   "outputs": [
    {
     "data": {
      "text/plain": [
       "8"
      ]
     },
     "execution_count": 4,
     "metadata": {},
     "output_type": "execute_result"
    }
   ],
   "source": [
    " len (\"shasahnk\")"
   ]
  },
  {
   "cell_type": "code",
   "execution_count": 7,
   "id": "4931da1a-50e1-4244-ad30-62481ac63d94",
   "metadata": {},
   "outputs": [
    {
     "data": {
      "text/plain": [
       "11"
      ]
     },
     "execution_count": 7,
     "metadata": {},
     "output_type": "execute_result"
    }
   ],
   "source": [
    "len([2,5,7,8,9,0,4,7,5,2,7]) # here len function is given different input but the output is in same format this polymorphism"
   ]
  },
  {
   "cell_type": "markdown",
   "id": "6abe3abd-ed42-46f4-a2d8-f9633b4ff3f3",
   "metadata": {},
   "source": [
    "# Encapsulation:"
   ]
  },
  {
   "cell_type": "code",
   "execution_count": 28,
   "id": "2403df6f-a342-408f-bbcd-4ba8099244e4",
   "metadata": {},
   "outputs": [],
   "source": [
    "class test:\n",
    "    \n",
    "    def __init__(self): \n",
    "        self.__x = \"sudh\" # private variable\n",
    "        self.y = \"kumar\"\n",
    "        self.z = \"pwskills\"\n",
    "        \n",
    "    def __test_meth(self): # private method\n",
    "        return \"this is just a text\"\n",
    "    \n",
    "    def access_var(self): # accessing the data without knowing it's implementation\n",
    "        return self.__x\n",
    "    \n",
    "    def update_var(self,data):  # updating the data without knowing it's implementation\n",
    "        self.__x = data"
   ]
  },
  {
   "cell_type": "code",
   "execution_count": 29,
   "id": "397e2415-8180-49f1-aa03-4e1fa2d20956",
   "metadata": {},
   "outputs": [],
   "source": [
    "t1 = test()"
   ]
  },
  {
   "cell_type": "code",
   "execution_count": 30,
   "id": "0b4030bc-30ae-43b0-a496-78c5bbca2bce",
   "metadata": {},
   "outputs": [],
   "source": [
    "t1.update_var(\"shashank\")"
   ]
  },
  {
   "cell_type": "code",
   "execution_count": 31,
   "id": "d9436268-d801-454f-837e-a355385ff576",
   "metadata": {},
   "outputs": [
    {
     "data": {
      "text/plain": [
       "'shashank'"
      ]
     },
     "execution_count": 31,
     "metadata": {},
     "output_type": "execute_result"
    }
   ],
   "source": [
    "t1.access_var()"
   ]
  },
  {
   "cell_type": "code",
   "execution_count": 32,
   "id": "b30964e6-3865-4e06-a23e-2cd97265bfe2",
   "metadata": {},
   "outputs": [
    {
     "data": {
      "text/plain": [
       "'shashank'"
      ]
     },
     "execution_count": 32,
     "metadata": {},
     "output_type": "execute_result"
    }
   ],
   "source": [
    "t1._test__x"
   ]
  },
  {
   "cell_type": "code",
   "execution_count": 20,
   "id": "2b35127c-b971-4d6e-8d9d-d6e48f94abdd",
   "metadata": {},
   "outputs": [
    {
     "data": {
      "text/plain": [
       "'this is just a text'"
      ]
     },
     "execution_count": 20,
     "metadata": {},
     "output_type": "execute_result"
    }
   ],
   "source": [
    "t1._test__test_meth()"
   ]
  },
  {
   "cell_type": "code",
   "execution_count": 1,
   "id": "16618d77-2de5-4d59-a9a2-0ce3124902ab",
   "metadata": {},
   "outputs": [],
   "source": [
    "# example "
   ]
  },
  {
   "cell_type": "code",
   "execution_count": 3,
   "id": "d3f2bc12-1a93-40d7-9d35-91ea9585f7c8",
   "metadata": {},
   "outputs": [
    {
     "data": {
      "text/plain": [
       "2500"
      ]
     },
     "execution_count": 3,
     "metadata": {},
     "output_type": "execute_result"
    }
   ],
   "source": [
    "class bank:\n",
    "    \n",
    "    def __init__(self,account_number, balance):\n",
    "        self._account_number = account_number\n",
    "        self.__balance = balance\n",
    "    def check_balance(self,password):\n",
    "        if password == \"mysecurepass\":\n",
    "            return self.__balance\n",
    "        else :\n",
    "            return \"invalid Password\"\n",
    "shashank = bank(301001, 2500)\n",
    "shashank.check_balance(\"mysecurepass\")"
   ]
  },
  {
   "cell_type": "code",
   "execution_count": 4,
   "id": "c14303c8-755f-4fc5-8d72-8a13c1db5cd8",
   "metadata": {},
   "outputs": [
    {
     "data": {
      "text/plain": [
       "'invalid Password'"
      ]
     },
     "execution_count": 4,
     "metadata": {},
     "output_type": "execute_result"
    }
   ],
   "source": [
    "shashank.check_balance(\"wrongpass\")"
   ]
  },
  {
   "cell_type": "code",
   "execution_count": 5,
   "id": "4cd7d093-a2d0-4c67-90f2-51766473ed55",
   "metadata": {},
   "outputs": [],
   "source": [
    "# example"
   ]
  },
  {
   "cell_type": "code",
   "execution_count": 13,
   "id": "0dc8c092-988b-4589-976f-ff42a1eea311",
   "metadata": {},
   "outputs": [],
   "source": [
    "class queue:\n",
    "    def __init__(self):\n",
    "        self._queue = []\n",
    "    \n",
    "    def enqueue(self,data):\n",
    "        self._queue.append(data)\n",
    "    \n",
    "    def dequeue(self):\n",
    "        if self._queue :\n",
    "            return self._queue.pop(0)\n",
    "        else:\n",
    "            print(\"it's empty\")\n",
    "    \n",
    "    def showdata(self):\n",
    "        return self._queue"
   ]
  },
  {
   "cell_type": "code",
   "execution_count": 14,
   "id": "a653ad17-5c51-4891-b049-bd14026855a9",
   "metadata": {},
   "outputs": [],
   "source": [
    "q = queue()"
   ]
  },
  {
   "cell_type": "code",
   "execution_count": 15,
   "id": "5633b3b4-8a2c-43b7-9a27-f08147248f74",
   "metadata": {},
   "outputs": [
    {
     "name": "stdout",
     "output_type": "stream",
     "text": [
      "it's empty\n"
     ]
    }
   ],
   "source": [
    "q.dequeue()"
   ]
  },
  {
   "cell_type": "code",
   "execution_count": 29,
   "id": "4e6164cc-368a-4a58-a952-ab6f0bcfb75d",
   "metadata": {},
   "outputs": [],
   "source": [
    "q.enqueue([40,6,7,8,9,0])"
   ]
  },
  {
   "cell_type": "code",
   "execution_count": 30,
   "id": "de52cc8b-7d75-474a-af21-92e95a27e36d",
   "metadata": {},
   "outputs": [
    {
     "data": {
      "text/plain": [
       "[[40, 6, 7, 8, 9, 0]]"
      ]
     },
     "execution_count": 30,
     "metadata": {},
     "output_type": "execute_result"
    }
   ],
   "source": [
    "q.showdata()"
   ]
  },
  {
   "cell_type": "code",
   "execution_count": 31,
   "id": "50f4e6ba-fb5f-462c-91a7-ef213b502403",
   "metadata": {},
   "outputs": [
    {
     "data": {
      "text/plain": [
       "[40, 6, 7, 8, 9, 0]"
      ]
     },
     "execution_count": 31,
     "metadata": {},
     "output_type": "execute_result"
    }
   ],
   "source": [
    "q.dequeue()"
   ]
  },
  {
   "cell_type": "code",
   "execution_count": 32,
   "id": "65329da7-f4a5-48f6-8342-4df183661fd9",
   "metadata": {},
   "outputs": [
    {
     "name": "stdout",
     "output_type": "stream",
     "text": [
      "it's empty\n"
     ]
    }
   ],
   "source": [
    "q.dequeue()"
   ]
  },
  {
   "cell_type": "markdown",
   "id": "c192e2db-6fb0-406b-870e-b28bbefbd1a8",
   "metadata": {},
   "source": [
    "# Abstraction"
   ]
  },
  {
   "cell_type": "code",
   "execution_count": 33,
   "id": "719956db-81b1-4aaf-b73e-76b6fa653434",
   "metadata": {},
   "outputs": [],
   "source": [
    "from abc import ABC , abstractmethod\n",
    "class pwskills(ABC):\n",
    "    \n",
    "    @abstractmethod\n",
    "    def databaseconnect(self):\n",
    "        pass\n",
    "    @abstractmethod\n",
    "    def checkuserenrollment(self, user_mailid):\n",
    "        pass\n",
    "    @abstractmethod\n",
    "    def check_completed_lecture(self, user_id , class_id):\n",
    "        pass\n",
    "    @abstractmethod\n",
    "    def check_lab_usases(self, user_id):\n",
    "        pass\n",
    "    @abstractmethod\n",
    "    def check_internship(self,user_id):\n",
    "        pass"
   ]
  },
  {
   "cell_type": "code",
   "execution_count": 34,
   "id": "fb06b127-97b0-4296-8a67-ab2382398e42",
   "metadata": {},
   "outputs": [],
   "source": [
    "class databaseconnect(pwskills):\n",
    "    def databaseconnect(self):\n",
    "        print(\"thhis is a implementation of database connect\")\n",
    "    \n",
    "    def checkuserenrollment(self, user_mailid):\n",
    "        return \"test\"\n",
    "    \n",
    "    def check_completed_lecture(self, user_id , class_id):\n",
    "        return \"test\"\n",
    "    \n",
    "    def check_lab_usases(self, user_id):\n",
    "        return \"test\"\n",
    "    \n",
    "    def check_internship(self,user_id):\n",
    "        return \"test\""
   ]
  },
  {
   "cell_type": "code",
   "execution_count": 35,
   "id": "4c2d5503-b0af-433d-9da0-19fbfbf26032",
   "metadata": {},
   "outputs": [],
   "source": [
    "db1 = databaseconnect()"
   ]
  },
  {
   "cell_type": "code",
   "execution_count": 36,
   "id": "ca09e781-34d4-464e-a3fd-2388e14e6b42",
   "metadata": {},
   "outputs": [
    {
     "name": "stdout",
     "output_type": "stream",
     "text": [
      "thhis is a implementation of database connect\n"
     ]
    }
   ],
   "source": [
    "db1.databaseconnect()"
   ]
  },
  {
   "cell_type": "code",
   "execution_count": 1,
   "id": "e9fc4e66-7103-422a-95d5-e448c1ae045c",
   "metadata": {},
   "outputs": [],
   "source": [
    "# example"
   ]
  },
  {
   "cell_type": "code",
   "execution_count": 20,
   "id": "02ca1691-63e5-465c-b29d-2fa75c465184",
   "metadata": {},
   "outputs": [],
   "source": [
    "class calculator:\n",
    "    \n",
    "    @staticmethod\n",
    "    def sum(x,y):\n",
    "        return x+y\n",
    "    \n",
    "    @staticmethod\n",
    "    def sub(x,y):\n",
    "        return x-y\n",
    "    \n",
    "    def div(self,x,y): # self is used inside a class method otherwise accessing it require to call by classname.method()\n",
    "        return x/y"
   ]
  },
  {
   "cell_type": "code",
   "execution_count": 21,
   "id": "ff298e7c-4cf9-4eb7-a4da-0d75f803fa65",
   "metadata": {},
   "outputs": [],
   "source": [
    "cal = calculator()"
   ]
  },
  {
   "cell_type": "code",
   "execution_count": 22,
   "id": "a36bc2f8-2372-4242-a34e-4a9451ce33e1",
   "metadata": {},
   "outputs": [
    {
     "data": {
      "text/plain": [
       "0.8"
      ]
     },
     "execution_count": 22,
     "metadata": {},
     "output_type": "execute_result"
    }
   ],
   "source": [
    "cal.div(4,5)"
   ]
  },
  {
   "cell_type": "code",
   "execution_count": 23,
   "id": "1f629d51-f7d6-4fd8-8277-f5a5eb31135d",
   "metadata": {},
   "outputs": [
    {
     "data": {
      "text/plain": [
       "0.8"
      ]
     },
     "execution_count": 23,
     "metadata": {},
     "output_type": "execute_result"
    }
   ],
   "source": [
    "calculator.div(_,4,5)"
   ]
  },
  {
   "cell_type": "code",
   "execution_count": 24,
   "id": "755a5eeb-ee5a-426c-926f-a42aa82ab1ca",
   "metadata": {},
   "outputs": [
    {
     "data": {
      "text/plain": [
       "9"
      ]
     },
     "execution_count": 24,
     "metadata": {},
     "output_type": "execute_result"
    }
   ],
   "source": [
    "calculator.sum(4,5)"
   ]
  },
  {
   "cell_type": "code",
   "execution_count": 25,
   "id": "cc105a91-2935-4c4d-a655-42e149ca9498",
   "metadata": {},
   "outputs": [
    {
     "data": {
      "text/plain": [
       "9"
      ]
     },
     "execution_count": 25,
     "metadata": {},
     "output_type": "execute_result"
    }
   ],
   "source": [
    "cal.sum(4,5)"
   ]
  },
  {
   "cell_type": "code",
   "execution_count": 82,
   "id": "9966e746-54be-4a0f-b2d3-93c28b22531e",
   "metadata": {},
   "outputs": [],
   "source": [
    "# trying to method overiding for above\n",
    "class calc(calculator): \n",
    "    @staticmethod\n",
    "    def sum(x,y):\n",
    "        return x*y"
   ]
  },
  {
   "cell_type": "code",
   "execution_count": 83,
   "id": "9bfd7d11-185a-4b52-90b0-174e98cca683",
   "metadata": {},
   "outputs": [
    {
     "data": {
      "text/plain": [
       "20"
      ]
     },
     "execution_count": 83,
     "metadata": {},
     "output_type": "execute_result"
    }
   ],
   "source": [
    "calc.sum(4,5) # by taking inheritance and using class name we can access it "
   ]
  },
  {
   "cell_type": "code",
   "execution_count": 84,
   "id": "fcb65aee-3e98-4300-b780-c1ff087787de",
   "metadata": {},
   "outputs": [],
   "source": [
    "c2 = calc()"
   ]
  },
  {
   "cell_type": "code",
   "execution_count": 85,
   "id": "01148621-33a8-447d-aa66-ac0f2afe94f6",
   "metadata": {},
   "outputs": [
    {
     "data": {
      "text/plain": [
       "24"
      ]
     },
     "execution_count": 85,
     "metadata": {},
     "output_type": "execute_result"
    }
   ],
   "source": [
    "c2.sum(4,6) \n",
    "#this we can't access it as we are overriding the parent method in this if we want to access \n",
    "#we have to keep self parameter or @staticmethod then only we can achieve that"
   ]
  },
  {
   "cell_type": "code",
   "execution_count": 73,
   "id": "4385611e-0bfc-49ec-8853-bf3f1d3e0d81",
   "metadata": {},
   "outputs": [],
   "source": [
    "# to remove above error uncomment the @staticmethod in the above code."
   ]
  },
  {
   "cell_type": "code",
   "execution_count": 86,
   "id": "92f51c18-8091-4e79-8753-c3625aa09f45",
   "metadata": {},
   "outputs": [],
   "source": [
    "#we can't use @staticmethod and self both in the same method"
   ]
  },
  {
   "cell_type": "markdown",
   "id": "252db48d-6e8f-4f23-b088-7df59bf32869",
   "metadata": {},
   "source": [
    "# encapsulation based abstraction examples"
   ]
  },
  {
   "cell_type": "code",
   "execution_count": 89,
   "id": "2c35c4c6-2df1-4024-8048-8dd604c9af7b",
   "metadata": {},
   "outputs": [],
   "source": [
    "class file_ops :\n",
    "    \n",
    "    def __init__(self,filename):\n",
    "        self.filename = filename\n",
    "    \n",
    "    def read_file(self):\n",
    "        with open(self.filename, 'r') as file:\n",
    "            return file.read()\n",
    "        \n",
    "    def write_file(self,data):\n",
    "        with open(self.filename, 'w') as file:\n",
    "            file.write(data)\n",
    "            "
   ]
  },
  {
   "cell_type": "code",
   "execution_count": 90,
   "id": "b33fe271-5c35-49f8-bcc9-89caaf1ba0cc",
   "metadata": {},
   "outputs": [],
   "source": [
    "shashank_ops = file_ops('sk.txt')\n",
    "shashank_ops.write_file(\"hey this is my new file \")"
   ]
  },
  {
   "cell_type": "code",
   "execution_count": 92,
   "id": "5afe928e-2e67-4e27-81e0-fb984669d4ce",
   "metadata": {},
   "outputs": [
    {
     "data": {
      "text/plain": [
       "'hey this is my new file '"
      ]
     },
     "execution_count": 92,
     "metadata": {},
     "output_type": "execute_result"
    }
   ],
   "source": [
    "shashank_ops.read_file()"
   ]
  },
  {
   "cell_type": "code",
   "execution_count": 94,
   "id": "9c37d5be-3753-4c3d-8198-4e07aeb612d6",
   "metadata": {},
   "outputs": [],
   "source": [
    "sk_ops = file_ops('skaaa.txt')\n",
    "sk_ops.write_file('hello there ')"
   ]
  },
  {
   "cell_type": "code",
   "execution_count": 95,
   "id": "0a7032c4-bcfe-4ac7-926e-c3508c202c7c",
   "metadata": {},
   "outputs": [
    {
     "data": {
      "text/plain": [
       "'hello there '"
      ]
     },
     "execution_count": 95,
     "metadata": {},
     "output_type": "execute_result"
    }
   ],
   "source": [
    "sk_ops.read_file()"
   ]
  },
  {
   "cell_type": "code",
   "execution_count": 93,
   "id": "6fc636ad-a05f-4550-8f98-8ebd5fb3c8aa",
   "metadata": {},
   "outputs": [],
   "source": [
    "# by using this we are hiding the implementation and achieving the encapsulation and by giving a skeleton for the user achieving abstraction"
   ]
  },
  {
   "cell_type": "markdown",
   "id": "020ad9b2-7339-468e-9e9e-444049c04728",
   "metadata": {},
   "source": [
    "# Composition"
   ]
  },
  {
   "cell_type": "code",
   "execution_count": 97,
   "id": "e7f0cb90-8885-4cbd-b8aa-f1316ab1b456",
   "metadata": {},
   "outputs": [],
   "source": [
    "class pwskills:\n",
    "    def student(self):\n",
    "        return \"student details\"\n",
    "\n",
    "class datascience:\n",
    "    def __init__(self):\n",
    "        self.student = pwskills()"
   ]
  },
  {
   "cell_type": "code",
   "execution_count": 98,
   "id": "94e413f4-d2b8-4927-8da8-ed034733505a",
   "metadata": {},
   "outputs": [],
   "source": [
    "ds = datascience()"
   ]
  },
  {
   "cell_type": "code",
   "execution_count": 99,
   "id": "36f3f2dd-2ce5-4bd3-84c5-5aeca0903b57",
   "metadata": {},
   "outputs": [
    {
     "data": {
      "text/plain": [
       "'student details'"
      ]
     },
     "execution_count": 99,
     "metadata": {},
     "output_type": "execute_result"
    }
   ],
   "source": [
    "ds.student.student()"
   ]
  },
  {
   "cell_type": "code",
   "execution_count": 102,
   "id": "41650122-b316-4463-b0ad-6245db2bf591",
   "metadata": {},
   "outputs": [],
   "source": [
    "# eexample"
   ]
  },
  {
   "cell_type": "code",
   "execution_count": 106,
   "id": "39957870-f20f-4d3e-92c4-f7e37cac14a8",
   "metadata": {},
   "outputs": [],
   "source": [
    "class data:\n",
    "    def __init__(self,mentor_name):\n",
    "        self.mentor_name = mentor_name\n",
    "\n",
    "class webdev :\n",
    "    def __init__(self,mentor,lecture_name):\n",
    "        self.mentor = mentor\n",
    "        self.lecture_name = lecture_name\n"
   ]
  },
  {
   "cell_type": "code",
   "execution_count": 108,
   "id": "7469ed47-a7be-474e-a442-872995716954",
   "metadata": {},
   "outputs": [],
   "source": [
    "d = data(\"shashank\")"
   ]
  },
  {
   "cell_type": "code",
   "execution_count": 109,
   "id": "7993a615-32ff-48ad-869e-a1e7830c5e69",
   "metadata": {},
   "outputs": [],
   "source": [
    "w = webdev(d,\"css\")"
   ]
  },
  {
   "cell_type": "code",
   "execution_count": 110,
   "id": "89f14bfc-c3ce-4a57-aef7-438443813da6",
   "metadata": {},
   "outputs": [
    {
     "data": {
      "text/plain": [
       "'shashank'"
      ]
     },
     "execution_count": 110,
     "metadata": {},
     "output_type": "execute_result"
    }
   ],
   "source": [
    "d.mentor_name"
   ]
  },
  {
   "cell_type": "code",
   "execution_count": 112,
   "id": "3cd2fdcd-9b8d-4136-b587-20a31d3ee350",
   "metadata": {},
   "outputs": [
    {
     "data": {
      "text/plain": [
       "'shashank'"
      ]
     },
     "execution_count": 112,
     "metadata": {},
     "output_type": "execute_result"
    }
   ],
   "source": [
    "w.mentor.mentor_name"
   ]
  },
  {
   "cell_type": "code",
   "execution_count": 113,
   "id": "46bce4d3-2f23-41c0-9ca4-dca6c11959a7",
   "metadata": {},
   "outputs": [
    {
     "data": {
      "text/plain": [
       "'css'"
      ]
     },
     "execution_count": 113,
     "metadata": {},
     "output_type": "execute_result"
    }
   ],
   "source": [
    "w.lecture_name"
   ]
  },
  {
   "cell_type": "markdown",
   "id": "15a14889-9d66-4fd8-bb06-d9f578e721f7",
   "metadata": {},
   "source": [
    "# End of the OOPS concept"
   ]
  },
  {
   "cell_type": "markdown",
   "id": "93c7bbee-b663-4a7a-9ede-7333afbc5079",
   "metadata": {},
   "source": [
    "# ZIP"
   ]
  },
  {
   "cell_type": "code",
   "execution_count": 114,
   "id": "88fa2552-b923-42ab-ab7c-7737b6af00db",
   "metadata": {},
   "outputs": [
    {
     "data": {
      "text/plain": [
       "[(3, 4), (4, 5), (5, 6), (6, 7)]"
      ]
     },
     "execution_count": 114,
     "metadata": {},
     "output_type": "execute_result"
    }
   ],
   "source": [
    "l = [3,4,5,6]\n",
    "l1 = [4,5,6,7]\n",
    "list(zip(l,l1))"
   ]
  },
  {
   "cell_type": "code",
   "execution_count": 115,
   "id": "0292ab08-7ff6-46a0-af42-bd76f3ae61b9",
   "metadata": {},
   "outputs": [
    {
     "data": {
      "text/plain": [
       "[(3, 4, 'shashank'), (4, 5, 'kumar'), (5, 6, 'pwskills'), (6, 7, 'krish')]"
      ]
     },
     "execution_count": 115,
     "metadata": {},
     "output_type": "execute_result"
    }
   ],
   "source": [
    "l = [3,4,5,6]\n",
    "l1 = [4,5,6,7]\n",
    "l3 = [\"shashank\",\"kumar\",\"pwskills\",\"krish\"]\n",
    "list(zip(l,l1,l3))"
   ]
  },
  {
   "cell_type": "markdown",
   "id": "9787450e-57ea-4fdf-a419-85e4b2b88627",
   "metadata": {},
   "source": [
    "# Enumeration"
   ]
  },
  {
   "cell_type": "code",
   "execution_count": 118,
   "id": "7751d1df-976e-4557-aee3-a912a5914169",
   "metadata": {},
   "outputs": [
    {
     "name": "stdout",
     "output_type": "stream",
     "text": [
      "0 shashank\n",
      "1 kumar\n",
      "2 pwskills\n",
      "3 krish\n"
     ]
    }
   ],
   "source": [
    "for index , data in enumerate(l3):\n",
    "    print(f\"{index} {data}\")"
   ]
  },
  {
   "cell_type": "code",
   "execution_count": null,
   "id": "790182f2-ccb4-4f62-b96c-bfee8d255e79",
   "metadata": {},
   "outputs": [],
   "source": []
  }
 ],
 "metadata": {
  "kernelspec": {
   "display_name": "Python 3 (ipykernel)",
   "language": "python",
   "name": "python3"
  },
  "language_info": {
   "codemirror_mode": {
    "name": "ipython",
    "version": 3
   },
   "file_extension": ".py",
   "mimetype": "text/x-python",
   "name": "python",
   "nbconvert_exporter": "python",
   "pygments_lexer": "ipython3",
   "version": "3.10.8"
  }
 },
 "nbformat": 4,
 "nbformat_minor": 5
}
