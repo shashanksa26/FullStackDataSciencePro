{
 "cells": [
  {
   "cell_type": "code",
   "execution_count": 19,
   "id": "5e61574e-12c8-4467-b9a1-2a2309142262",
   "metadata": {},
   "outputs": [],
   "source": [
    "import requests\n",
    "from bs4 import BeautifulSoup\n",
    "from urllib.request import urlopen as uReq\n",
    "import os"
   ]
  },
  {
   "cell_type": "code",
   "execution_count": 20,
   "id": "c18df062-a7a8-42c9-b44c-042adefa0cd2",
   "metadata": {},
   "outputs": [],
   "source": [
    "save_dir = \"images/\"\n",
    "if not os.path.exists(save_dir):\n",
    "    os.makedirs(save_dir)"
   ]
  },
  {
   "cell_type": "code",
   "execution_count": 21,
   "id": "63f7dc8f-85c1-465a-b0b5-dd3f3d2eec4c",
   "metadata": {},
   "outputs": [],
   "source": [
    "query = \"elonmusk\"\n",
    "response = requests.get(f\"https://www.google.com/search?q={query}&sxsrf=AJOqlzUuff1RXi2mm8I_OqOwT9VjfIDL7w:1676996143273&source=lnms&tbm=isch&sa=X&ved=2ahUKEwiq-qK7gaf9AhXUgVYBHYReAfYQ_AUoA3oECAEQBQ&biw=1920&bih=937&dpr=1#imgrc=1th7VhSesfMJ4M\")"
   ]
  },
  {
   "cell_type": "code",
   "execution_count": 22,
   "id": "a17d466d-4898-4c7b-b98f-a9e67abb74c8",
   "metadata": {},
   "outputs": [
    {
     "data": {
      "text/plain": [
       "<Response [200]>"
      ]
     },
     "execution_count": 22,
     "metadata": {},
     "output_type": "execute_result"
    }
   ],
   "source": [
    "response"
   ]
  },
  {
   "cell_type": "code",
   "execution_count": 23,
   "id": "f4be0ef7-97c0-4ee6-80b8-d3dfe6b94ac1",
   "metadata": {},
   "outputs": [],
   "source": [
    "soup = BeautifulSoup(response.content,'html.parser')"
   ]
  },
  {
   "cell_type": "code",
   "execution_count": 24,
   "id": "81c1971d-97ce-4861-be8c-fbd6c1f55658",
   "metadata": {},
   "outputs": [
    {
     "data": {
      "text/plain": [
       "<!DOCTYPE html PUBLIC \"-//WAPFORUM//DTD XHTML Mobile 1.0//EN\" \"http://www.wapforum.org/DTD/xhtml-mobile10.dtd\">\n",
       "<html lang=\"en-IN\" xmlns=\"http://www.w3.org/1999/xhtml\"><head><meta content=\"application/xhtml+xml; charset=utf-8\" http-equiv=\"Content-Type\"/><meta content=\"no-cache\" name=\"Cache-Control\"/><title>elonmusk - Google Search</title><style>a{text-decoration:none;color:inherit}a:hover{text-decoration:underline}a img{border:0}body{font-family:arial,sans-serif;padding:8px;margin:0 auto;max-width:700px;min-width:240px;}.FbhRzb{border-left:thin solid #dadce0;border-right:thin solid #dadce0;border-top:thin solid #dadce0;height:40px;overflow:hidden}.n692Zd{margin-bottom:10px}.cvifge{height:40px;border-spacing:0}.QvGUP{height:40px;padding:0 8px 0 8px;vertical-align:top}.O4cRJf{height:40px;width:100%;padding:0;padding-right:16px}.O1ePr{height:40px;padding:0;vertical-align:top}.kgJEQe{height:36px;width:98px;vertical-align:top;margin-top:4px}.lXLRf{vertical-align:top}.MhzMZd{border:0;vertical-align:middle;font-size:14px;height:40px;padding:0;width:100%;padding-left:16px}.xB0fq{height:40px;border:none;font-size:14px;background-color:#1a73e8;color:#fff;padding:0 16px;margin:0;vertical-align:top;cursor:pointer}.xB0fq:focus{border:1px solid #1a73e8}.M7pB2{border:thin solid #dadce0;margin:0 0 3px 0;font-size:13px;font-weight:500;height:40px}.euZec{width:100%;height:40px;text-align:center;border-spacing:0}table.euZec td{padding:0;width:25%}.QIqI7{display:inline-block;padding-top:4px;font-weight:bold;color:#4285f4}.EY24We{border-bottom:2px solid #4285f4}.CsQyDc{display:inline-block;color:#70757a}.TuS8Ad{font-size:14px}.HddGcc{padding:8px;color:#70757a}.dzp8ae{font-weight:bold;color:#3c4043}.rEM8G{color:#70757a}.bookcf{table-layout:fixed;width:100%;border-spacing:0}.InWNIe{text-align:center}.uZgmoc{border:thin solid #dadce0;color:#70757a;font-size:14px;text-align:center;table-layout:fixed;width:100%}.frGj1b{display:block;padding:12px 0 12px 0;width:100%}.BnJWBc{text-align:center;padding:6px 0 13px 0;height:35px}.e3goi{vertical-align:top;padding:0;height:180px}.GpQGbf{margin:auto;border-collapse:collapse;border-spacing:0;width:100%}</style></head><body><style>.X6ZCif{color:#202124;font-size:11px;line-height:16px;display:inline-block;padding-top:2px;overflow:hidden;padding-bottom:4px;width:100%}.TwVfHd{border-radius:16px;border:thin solid #dadce0;display:inline-block;padding:8px 8px;margin-right:8px;margin-bottom:4px}.yekiAe{background-color:#dadce0}.jjVJ4e{width:100%}.ezO2md{border:thin solid #dadce0;padding:12px 16px 12px 16px;margin-bottom:10px;font-family:arial,sans-serif}.lIMUZd{font-family:arial,sans-serif}.RntSmf{border-spacing:0}.lgD2Tc{width:100%}.SpelHe{text-align:center}.SpelHe{position:relative}.deHqpb{bottom:0;left:0;margin:auto;position:absolute;right:0;top:0}.kCmkOe{position:relative}.ID6Z3b{background-image:url(https://www.gstatic.com/search_trustx/visibility_off_icon_p0-7d897bf44bafe5436baa9009e8716337.png);background-repeat:no-repeat;background-position:center;background-size:20px}.kCmkOe{width:162px;height:140px;line-height:140px;overflow:'hidden';text-align:center}.DS1iW{text-align:center;margin:auto;vertical-align:middle;max-width:162px;max-height:140px}.AlD19d{padding-top:2px;padding-bottom:8px;}.fYyStc{word-break:break-word}.ynsChf{display:block;white-space:nowrap;overflow:hidden;text-overflow:ellipsis}.Fj3V3b{color:#1967d2;font-size:14px;line-height:20px}.FrIlee{color:#202124;font-size:11px;line-height:16px}.F9iS2e{color:#70757a;font-size:11px;line-height:16px}.WMQ2Le{color:#70757a;font-size:12px;line-height:16px}.x3G5ab{color:#202124;font-size:12px;line-height:16px}.fuLhoc{color:#1967d2;font-size:16px;line-height:20px}.epoveb{font-size:24px;line-height:28px;font-weight:400;color:#202124}.dXDvrc{color:#0d652d;font-size:14px;line-height:20px;word-wrap:break-word}.dloBPe{font-weight:bold}.YVIcad{color:#70757a}.JkVVdd{color:#ea4335}.oXZRFd{color:#ea4335}.MQHtg{color:#fbbc04}.pyMRrb{color:#1e8e3e}.EtTZid{color:#1e8e3e}.M3vVJe{color:#1967d2}.qXLe6d{display:block}.NHQNef{font-style:italic}.Cb8Z7c{white-space:pre}a.ZWRArf{text-decoration:none}a .CVA68e:hover{text-decoration:underline}</style><div class=\"n692Zd\"><div class=\"BnJWBc\"><a class=\"lXLRf\" href=\"/?sa=X&amp;sca_esv=593118487&amp;biw=1920&amp;bih=937&amp;output=images&amp;ie=UTF-8&amp;tbm=isch&amp;ved=0ahUKEwjR5riPvqODAxV8lFYBHVQIDAIQPAgC\"><img alt=\"Google\" class=\"kgJEQe\" src=\"/images/branding/searchlogo/1x/googlelogo_desk_heirloom_color_150x55dp.gif\"/></a></div><div class=\"FbhRzb\"><form action=\"/search\"><input name=\"sca_esv\" type=\"hidden\" value=\"593118487\"/><input name=\"biw\" type=\"hidden\" value=\"1920\"/><input name=\"bih\" type=\"hidden\" value=\"937\"/><input name=\"ie\" type=\"hidden\" value=\"ISO-8859-1\"/><input name=\"tbm\" type=\"hidden\" value=\"isch\"/><input name=\"oq\" type=\"hidden\"/><input name=\"aqs\" type=\"hidden\"/><table class=\"cvifge\"><tr><td class=\"O4cRJf\"><input class=\"MhzMZd\" name=\"q\" type=\"text\" value=\"elonmusk\"/></td><td class=\"O1ePr\"><input class=\"xB0fq\" type=\"submit\" value=\"Search\"/></td></tr></table></form></div><div class=\"M7pB2\"><table class=\"euZec\"><tbody><tr><td><a class=\"CsQyDc\" href=\"/search?q=elonmusk&amp;sca_esv=593118487&amp;biw=1920&amp;bih=937&amp;ie=UTF-8&amp;source=lnms&amp;sa=X&amp;ved=0ahUKEwjR5riPvqODAxV8lFYBHVQIDAIQ_AUIBCgA\">ALL</a></td><td><a class=\"CsQyDc\" href=\"/search?q=elonmusk&amp;sca_esv=593118487&amp;biw=1920&amp;bih=937&amp;ie=UTF-8&amp;tbm=nws&amp;source=lnms&amp;sa=X&amp;ved=0ahUKEwjR5riPvqODAxV8lFYBHVQIDAIQ_AUIBSgB\">NEWS</a></td><td class=\"EY24We\"><span class=\"QIqI7\">IMAGES</span></td><td><a class=\"CsQyDc\" href=\"/search?q=elonmusk&amp;sca_esv=593118487&amp;biw=1920&amp;bih=937&amp;ie=UTF-8&amp;tbm=vid&amp;source=lnms&amp;sa=X&amp;ved=0ahUKEwjR5riPvqODAxV8lFYBHVQIDAIQ_AUIBygD\">VIDEOS</a></td></tr></tbody></table></div></div><div class=\"X6ZCif\"><a class=\"TwVfHd\" href=\"/search?sca_esv=593118487&amp;biw=1920&amp;bih=937&amp;ie=UTF-8&amp;tbm=isch&amp;q=elonmusk&amp;chips=q:elonmusk,g_1:tesla&amp;sa=X&amp;ved=0ahUKEwjR5riPvqODAxV8lFYBHVQIDAIQ4lYICygA\">tesla</a><a class=\"TwVfHd\" href=\"/search?sca_esv=593118487&amp;biw=1920&amp;bih=937&amp;ie=UTF-8&amp;tbm=isch&amp;q=elonmusk&amp;chips=q:elonmusk,g_1:wallpaper&amp;sa=X&amp;ved=0ahUKEwjR5riPvqODAxV8lFYBHVQIDAIQ4lYIDCgB\">wallpaper</a><a class=\"TwVfHd\" href=\"/search?sca_esv=593118487&amp;biw=1920&amp;bih=937&amp;ie=UTF-8&amp;tbm=isch&amp;q=elonmusk&amp;chips=q:elonmusk,g_1:spacex&amp;sa=X&amp;ved=0ahUKEwjR5riPvqODAxV8lFYBHVQIDAIQ4lYIDSgC\">spacex</a><a class=\"TwVfHd\" href=\"/search?sca_esv=593118487&amp;biw=1920&amp;bih=937&amp;ie=UTF-8&amp;tbm=isch&amp;q=elonmusk&amp;chips=q:elonmusk,g_1:car&amp;sa=X&amp;ved=0ahUKEwjR5riPvqODAxV8lFYBHVQIDAIQ4lYIDigD\">car</a><a class=\"TwVfHd\" href=\"/search?sca_esv=593118487&amp;biw=1920&amp;bih=937&amp;ie=UTF-8&amp;tbm=isch&amp;q=elonmusk&amp;chips=q:elonmusk,g_1:instagram&amp;sa=X&amp;ved=0ahUKEwjR5riPvqODAxV8lFYBHVQIDAIQ4lYIDygE\">instagram</a><a class=\"TwVfHd\" href=\"/search?sca_esv=593118487&amp;biw=1920&amp;bih=937&amp;ie=UTF-8&amp;tbm=isch&amp;q=elonmusk&amp;chips=q:elonmusk,g_1:paypal&amp;sa=X&amp;ved=0ahUKEwjR5riPvqODAxV8lFYBHVQIDAIQ4lYIECgF\">paypal</a><a class=\"TwVfHd\" href=\"/search?sca_esv=593118487&amp;biw=1920&amp;bih=937&amp;ie=UTF-8&amp;tbm=isch&amp;q=elonmusk&amp;chips=q:elonmusk,g_1:twitter&amp;sa=X&amp;ved=0ahUKEwjR5riPvqODAxV8lFYBHVQIDAIQ4lYIESgG\">twitter</a><a class=\"TwVfHd\" href=\"/search?sca_esv=593118487&amp;biw=1920&amp;bih=937&amp;ie=UTF-8&amp;tbm=isch&amp;q=elonmusk&amp;chips=q:elonmusk,g_1:family&amp;sa=X&amp;ved=0ahUKEwjR5riPvqODAxV8lFYBHVQIDAIQ4lYIEigH\">family</a><a class=\"TwVfHd\" href=\"/search?sca_esv=593118487&amp;biw=1920&amp;bih=937&amp;ie=UTF-8&amp;tbm=isch&amp;q=elonmusk&amp;chips=q:elonmusk,g_1:resume&amp;sa=X&amp;ved=0ahUKEwjR5riPvqODAxV8lFYBHVQIDAIQ4lYIEygI\">resume</a><a class=\"TwVfHd\" href=\"/search?sca_esv=593118487&amp;biw=1920&amp;bih=937&amp;ie=UTF-8&amp;tbm=isch&amp;q=elonmusk&amp;chips=q:elonmusk,g_1:art&amp;sa=X&amp;ved=0ahUKEwjR5riPvqODAxV8lFYBHVQIDAIQ4lYIFCgJ\">art</a></div><div><table class=\"GpQGbf\"><tr><td align=\"center\" class=\"e3goi\"><div class=\"jjVJ4e\"> <div> <div class=\"lIMUZd\"><div><table class=\"RntSmf\"><tr><td><a href=\"/url?q=https://en.wikipedia.org/wiki/Elon_Musk&amp;sa=U&amp;ved=2ahUKEwjR5riPvqODAxV8lFYBHVQIDAIQqoUBegQIBRAB&amp;usg=AOvVaw2cUv0afCV1rMR0c4_lMVtM\"><div class=\"kCmkOe\"><img alt=\"\" class=\"DS1iW\" src=\"https://encrypted-tbn0.gstatic.com/images?q=tbn:ANd9GcRhPqM6ot0ppohFd9xq_dvsEgS4MkC8IFvvspMKx4G7pW805J6uX2j9ZbbWMho&amp;s\"/></div></a></td></tr><tr><td><a href=\"/url?q=https://en.wikipedia.org/wiki/Elon_Musk&amp;sa=U&amp;ved=2ahUKEwjR5riPvqODAxV8lFYBHVQIDAIQr4kDegQIBRAC&amp;usg=AOvVaw2LFh8fFxkJPM50x7kdJBjB\"><div class=\"AlD19d\"> <span class=\"qXLe6d x3G5ab\"> <span class=\"fYyStc\">Elon Musk - Wikipedia</span> </span> <span class=\"qXLe6d F9iS2e\"> <span class=\"fYyStc\">en.wikipedia.org</span> </span> </div></a></td></tr></table></div></div> </div> </div></td><td align=\"center\" class=\"e3goi\"><div class=\"jjVJ4e\"> <div> <div class=\"lIMUZd\"><div><table class=\"RntSmf\"><tr><td><a href=\"/url?q=https://www.ndtv.com/world-news/elon-musk-willing-to-offer-1-billion-to-wikipedia-if-it-changes-name-to-4505917&amp;sa=U&amp;ved=2ahUKEwjR5riPvqODAxV8lFYBHVQIDAIQqoUBegQIExAB&amp;usg=AOvVaw0kYxGHJUG5WjNofGTP_Fag\"><div class=\"kCmkOe\"><img alt=\"\" class=\"DS1iW\" src=\"https://encrypted-tbn0.gstatic.com/images?q=tbn:ANd9GcSC7st5ShUDWADPVkP7Pr0Py1KtnzUAtUAXgpqtCzbirxLvz3BhjH-CNqBm3PE&amp;s\"/></div></a></td></tr><tr><td><a href=\"/url?q=https://www.ndtv.com/world-news/elon-musk-willing-to-offer-1-billion-to-wikipedia-if-it-changes-name-to-4505917&amp;sa=U&amp;ved=2ahUKEwjR5riPvqODAxV8lFYBHVQIDAIQr4kDegQIExAC&amp;usg=AOvVaw3U_XHFZlz_fcMZXzk6jogT\"><div class=\"AlD19d\"> <span class=\"qXLe6d x3G5ab\"> <span class=\"fYyStc\">Elon Musk Willing To Offer...</span> </span> <span class=\"qXLe6d F9iS2e\"> <span class=\"fYyStc\">www.ndtv.com</span> </span> </div></a></td></tr></table></div></div> </div> </div></td><td align=\"center\" class=\"e3goi\"><div class=\"jjVJ4e\"> <div> <div class=\"lIMUZd\"><div><table class=\"RntSmf\"><tr><td><a href=\"/url?q=https://www.reuters.com/sustainability/boards-policy-regulation/elon-musk-expected-attend-global-ai-summit-uk-source-2023-10-30/&amp;sa=U&amp;ved=2ahUKEwjR5riPvqODAxV8lFYBHVQIDAIQqoUBegQIEhAB&amp;usg=AOvVaw3Hi0pUXlG2qZgdjMrLG2ye\"><div class=\"kCmkOe\"><img alt=\"\" class=\"DS1iW\" src=\"https://encrypted-tbn0.gstatic.com/images?q=tbn:ANd9GcSiLyDX4HwXWDkQIK7J_XvOzW_EZoeP-FzXr45ogCKH__u_GGQrPqaQTEU2GRI&amp;s\"/></div></a></td></tr><tr><td><a href=\"/url?q=https://www.reuters.com/sustainability/boards-policy-regulation/elon-musk-expected-attend-global-ai-summit-uk-source-2023-10-30/&amp;sa=U&amp;ved=2ahUKEwjR5riPvqODAxV8lFYBHVQIDAIQr4kDegQIEhAC&amp;usg=AOvVaw1cpeEiKPZup8uI68mYs4Mx\"><div class=\"AlD19d\"> <span class=\"qXLe6d x3G5ab\"> <span class=\"fYyStc\">Elon Musk expected to...</span> </span> <span class=\"qXLe6d F9iS2e\"> <span class=\"fYyStc\">www.reuters.com</span> </span> </div></a></td></tr></table></div></div> </div> </div></td><td align=\"center\" class=\"e3goi\"><div class=\"jjVJ4e\"> <div> <div class=\"lIMUZd\"><div><table class=\"RntSmf\"><tr><td><a href=\"/url?q=https://www.thehindu.com/business/Industry/elon-musk-borrowed-1-billion-from-spacex-in-same-month-of-twitter-buyout-wsj/article67275960.ece&amp;sa=U&amp;ved=2ahUKEwjR5riPvqODAxV8lFYBHVQIDAIQqoUBegQIDxAB&amp;usg=AOvVaw3iYEx3D2WsMu57w_oQqB5I\"><div class=\"kCmkOe\"><img alt=\"\" class=\"DS1iW\" src=\"https://encrypted-tbn0.gstatic.com/images?q=tbn:ANd9GcT8USRafEDsJskFBsXuekeVU0wF4Tv3QI-ttuO5tq6ngEwFzxb17Zdvuzq_EjI&amp;s\"/></div></a></td></tr><tr><td><a href=\"/url?q=https://www.thehindu.com/business/Industry/elon-musk-borrowed-1-billion-from-spacex-in-same-month-of-twitter-buyout-wsj/article67275960.ece&amp;sa=U&amp;ved=2ahUKEwjR5riPvqODAxV8lFYBHVQIDAIQr4kDegQIDxAC&amp;usg=AOvVaw3Iv7u0oZgh-FL345l26Ncw\"><div class=\"AlD19d\"> <span class=\"qXLe6d x3G5ab\"> <span class=\"fYyStc\">Elon Musk borrowed $1...</span> </span> <span class=\"qXLe6d F9iS2e\"> <span class=\"fYyStc\">www.thehindu.com</span> </span> </div></a></td></tr></table></div></div> </div> </div></td></tr><tr><td align=\"center\" class=\"e3goi\"><div class=\"jjVJ4e\"> <div> <div class=\"lIMUZd\"><div><table class=\"RntSmf\"><tr><td><a href=\"/url?q=https://futureoflife.org/person/24104/&amp;sa=U&amp;ved=2ahUKEwjR5riPvqODAxV8lFYBHVQIDAIQqoUBegQIEBAB&amp;usg=AOvVaw12-UEp65dxRzgAALoPO0oG\"><div class=\"kCmkOe\"><img alt=\"\" class=\"DS1iW\" src=\"https://encrypted-tbn0.gstatic.com/images?q=tbn:ANd9GcQxKSK6v2WSDPdMnhgQpJJmi9vg4Ch_ivZ-sUC8-TTYwNrUD0BukYPu7uC3x1E&amp;s\"/></div></a></td></tr><tr><td><a href=\"/url?q=https://futureoflife.org/person/24104/&amp;sa=U&amp;ved=2ahUKEwjR5riPvqODAxV8lFYBHVQIDAIQr4kDegQIEBAC&amp;usg=AOvVaw0mLAEnCQEjGRx_rALeSkU8\"><div class=\"AlD19d\"> <span class=\"qXLe6d x3G5ab\"> <span class=\"fYyStc\">Elon Musk - Future of Life...</span> </span> <span class=\"qXLe6d F9iS2e\"> <span class=\"fYyStc\">futureoflife.org</span> </span> </div></a></td></tr></table></div></div> </div> </div></td><td align=\"center\" class=\"e3goi\"><div class=\"jjVJ4e\"> <div> <div class=\"lIMUZd\"><div><table class=\"RntSmf\"><tr><td><a href=\"/url?q=https://www.livemint.com/companies/people/elon-musk-lashes-out-at-state-of-us-financial-markets-says-immense-pressure-on-companies-to-tesla-x-twitter-spacex-11703216936283.html&amp;sa=U&amp;ved=2ahUKEwjR5riPvqODAxV8lFYBHVQIDAIQqoUBegQIDhAB&amp;usg=AOvVaw31veLeKaYOIPr9c8TXjNVd\"><div class=\"kCmkOe\"><img alt=\"\" class=\"DS1iW\" src=\"https://encrypted-tbn0.gstatic.com/images?q=tbn:ANd9GcQcA2bv7di-EPpf78UaWza_SvMqonHz_9DrPEfRBRWS-PUVGT5OrHwegYvlzFs&amp;s\"/></div></a></td></tr><tr><td><a href=\"/url?q=https://www.livemint.com/companies/people/elon-musk-lashes-out-at-state-of-us-financial-markets-says-immense-pressure-on-companies-to-tesla-x-twitter-spacex-11703216936283.html&amp;sa=U&amp;ved=2ahUKEwjR5riPvqODAxV8lFYBHVQIDAIQr4kDegQIDhAC&amp;usg=AOvVaw1EBLWTvGsCfNP2a-8Q_2-W\"><div class=\"AlD19d\"> <span class=\"qXLe6d x3G5ab\"> <span class=\"fYyStc\">Elon Musk lashes out at...</span> </span> <span class=\"qXLe6d F9iS2e\"> <span class=\"fYyStc\">www.livemint.com</span> </span> </div></a></td></tr></table></div></div> </div> </div></td><td align=\"center\" class=\"e3goi\"><div class=\"jjVJ4e\"> <div> <div class=\"lIMUZd\"><div><table class=\"RntSmf\"><tr><td><a href=\"/url?q=https://www.forbes.com/sites/sallypercy/2023/09/26/is-elon-musk-the-greatest-leader-on-earth/&amp;sa=U&amp;ved=2ahUKEwjR5riPvqODAxV8lFYBHVQIDAIQqoUBegQIERAB&amp;usg=AOvVaw1TPStFioeIDFBndm2-Et1x\"><div class=\"kCmkOe\"><img alt=\"\" class=\"DS1iW\" src=\"https://encrypted-tbn0.gstatic.com/images?q=tbn:ANd9GcSPhSIlIf6whM6Z1KH5Q1CnsO_IMvKqH-fX8rzwhxdGWBxkKQwlxXYnX18Fnw&amp;s\"/></div></a></td></tr><tr><td><a href=\"/url?q=https://www.forbes.com/sites/sallypercy/2023/09/26/is-elon-musk-the-greatest-leader-on-earth/&amp;sa=U&amp;ved=2ahUKEwjR5riPvqODAxV8lFYBHVQIDAIQr4kDegQIERAC&amp;usg=AOvVaw2gchm5EPMg_5L1motwOuI8\"><div class=\"AlD19d\"> <span class=\"qXLe6d x3G5ab\"> <span class=\"fYyStc\">Is Elon Musk The Greatest...</span> </span> <span class=\"qXLe6d F9iS2e\"> <span class=\"fYyStc\">www.forbes.com</span> </span> </div></a></td></tr></table></div></div> </div> </div></td><td align=\"center\" class=\"e3goi\"><div class=\"jjVJ4e\"> <div> <div class=\"lIMUZd\"><div><table class=\"RntSmf\"><tr><td><a href=\"/url?q=https://www.simonandschuster.com/books/Elon-Musk/Walter-Isaacson/9781982181284&amp;sa=U&amp;ved=2ahUKEwjR5riPvqODAxV8lFYBHVQIDAIQqoUBegQICxAB&amp;usg=AOvVaw1VjsTbgAyRAz_YL9HQY4DG\"><div class=\"kCmkOe\"><img alt=\"\" class=\"DS1iW\" src=\"https://encrypted-tbn0.gstatic.com/images?q=tbn:ANd9GcS6PtbO3oSFgC1yh6BPlre0Sr5h3aca6UrEmg7ibGUrD1g40Xm5cZBGYl7G3PU&amp;s\"/></div></a></td></tr><tr><td><a href=\"/url?q=https://www.simonandschuster.com/books/Elon-Musk/Walter-Isaacson/9781982181284&amp;sa=U&amp;ved=2ahUKEwjR5riPvqODAxV8lFYBHVQIDAIQr4kDegQICxAC&amp;usg=AOvVaw3PovAg39HEuYS90PuCBd0-\"><div class=\"AlD19d\"> <span class=\"qXLe6d x3G5ab\"> <span class=\"fYyStc\">Elon Musk | Book by Walter...</span> </span> <span class=\"qXLe6d F9iS2e\"> <span class=\"fYyStc\">www.simonandschuster.com</span> </span> </div></a></td></tr></table></div></div> </div> </div></td></tr><tr><td align=\"center\" class=\"e3goi\"><div class=\"jjVJ4e\"> <div> <div class=\"lIMUZd\"><div><table class=\"RntSmf\"><tr><td><a href=\"/url?q=https://www.britannica.com/biography/Elon-Musk&amp;sa=U&amp;ved=2ahUKEwjR5riPvqODAxV8lFYBHVQIDAIQqoUBegQIDBAB&amp;usg=AOvVaw3HZ9_x9x9iNn3zerIRT99j\"><div class=\"kCmkOe\"><img alt=\"\" class=\"DS1iW\" src=\"https://encrypted-tbn0.gstatic.com/images?q=tbn:ANd9GcQY_R5NSNoZkSlMo3hf86COGJ4fCv0s6Nx4k8uCGkWc6YGOn_m4-rIOQ3GhOhg&amp;s\"/></div></a></td></tr><tr><td><a href=\"/url?q=https://www.britannica.com/biography/Elon-Musk&amp;sa=U&amp;ved=2ahUKEwjR5riPvqODAxV8lFYBHVQIDAIQr4kDegQIDBAC&amp;usg=AOvVaw2oyqXn_NL14EmbwPnLwctb\"><div class=\"AlD19d\"> <span class=\"qXLe6d x3G5ab\"> <span class=\"fYyStc\">Elon Musk | Biography,...</span> </span> <span class=\"qXLe6d F9iS2e\"> <span class=\"fYyStc\">www.britannica.com</span> </span> </div></a></td></tr></table></div></div> </div> </div></td><td align=\"center\" class=\"e3goi\"><div class=\"jjVJ4e\"> <div> <div class=\"lIMUZd\"><div><table class=\"RntSmf\"><tr><td><a href=\"/url?q=https://www.wired.com/story/elon-musk-better-things-than-tesla/&amp;sa=U&amp;ved=2ahUKEwjR5riPvqODAxV8lFYBHVQIDAIQqoUBegQIDRAB&amp;usg=AOvVaw18bWVQlk9Jz2Kyp3su8fX5\"><div class=\"kCmkOe\"><img alt=\"\" class=\"DS1iW\" src=\"https://encrypted-tbn0.gstatic.com/images?q=tbn:ANd9GcQouxuiAN3WIhRg7-wfAIBMW7_Pgl7_paBbzPs33VqAV38MED8zKAgYTehduA&amp;s\"/></div></a></td></tr><tr><td><a href=\"/url?q=https://www.wired.com/story/elon-musk-better-things-than-tesla/&amp;sa=U&amp;ved=2ahUKEwjR5riPvqODAxV8lFYBHVQIDAIQr4kDegQIDRAC&amp;usg=AOvVaw1yrO0cnJKNRWUrsnIlyUTQ\"><div class=\"AlD19d\"> <span class=\"qXLe6d x3G5ab\"> <span class=\"fYyStc\">The Model 3 Is Out. Now...</span> </span> <span class=\"qXLe6d F9iS2e\"> <span class=\"fYyStc\">www.wired.com</span> </span> </div></a></td></tr></table></div></div> </div> </div></td><td align=\"center\" class=\"e3goi\"><div class=\"jjVJ4e\"> <div> <div class=\"lIMUZd\"><div><table class=\"RntSmf\"><tr><td><a href=\"/url?q=https://www.businessinsider.in/tech/news/how-elon-musk-posted-his-way-to-extreme-fame-in-2023/articleshow/106209133.cms&amp;sa=U&amp;ved=2ahUKEwjR5riPvqODAxV8lFYBHVQIDAIQqoUBegQIChAB&amp;usg=AOvVaw2HTRX2O4t4XkPcKiv66Miu\"><div class=\"kCmkOe\"><img alt=\"\" class=\"DS1iW\" src=\"https://encrypted-tbn0.gstatic.com/images?q=tbn:ANd9GcQekssABLFv4-Dn0H7v9XwJ0WJisJrobI6K3iD5RESBXOLynkMrt7QJF6OLpA&amp;s\"/></div></a></td></tr><tr><td><a href=\"/url?q=https://www.businessinsider.in/tech/news/how-elon-musk-posted-his-way-to-extreme-fame-in-2023/articleshow/106209133.cms&amp;sa=U&amp;ved=2ahUKEwjR5riPvqODAxV8lFYBHVQIDAIQr4kDegQIChAC&amp;usg=AOvVaw3Qww9MqqnMk5slD2Zi-L44\"><div class=\"AlD19d\"> <span class=\"qXLe6d x3G5ab\"> <span class=\"fYyStc\">How Elon Musk posted his...</span> </span> <span class=\"qXLe6d F9iS2e\"> <span class=\"fYyStc\">www.businessinsider.in</span> </span> </div></a></td></tr></table></div></div> </div> </div></td><td align=\"center\" class=\"e3goi\"><div class=\"jjVJ4e\"> <div> <div class=\"lIMUZd\"><div><table class=\"RntSmf\"><tr><td><a href=\"/url?q=https://www.indiatoday.in/technology/news/story/elon-musk-was-an-insane-boss-who-did-not-like-hearing-no-from-people-reveals-space-x-cofounder-2437030-2023-09-18&amp;sa=U&amp;ved=2ahUKEwjR5riPvqODAxV8lFYBHVQIDAIQqoUBegQICRAB&amp;usg=AOvVaw1PZxeRXThIW5k3Jymmy3Fr\"><div class=\"kCmkOe\"><img alt=\"\" class=\"DS1iW\" src=\"https://encrypted-tbn0.gstatic.com/images?q=tbn:ANd9GcSKEthUj2_YT27pxGxZQuLQv4hGzWd8CKyVX7jEP0_xYBhnnF8L1vc66nG9lMI&amp;s\"/></div></a></td></tr><tr><td><a href=\"/url?q=https://www.indiatoday.in/technology/news/story/elon-musk-was-an-insane-boss-who-did-not-like-hearing-no-from-people-reveals-space-x-cofounder-2437030-2023-09-18&amp;sa=U&amp;ved=2ahUKEwjR5riPvqODAxV8lFYBHVQIDAIQr4kDegQICRAC&amp;usg=AOvVaw3uhd_trg627fOj9OwCECTN\"><div class=\"AlD19d\"> <span class=\"qXLe6d x3G5ab\"> <span class=\"fYyStc\">Elon Musk was an insane...</span> </span> <span class=\"qXLe6d F9iS2e\"> <span class=\"fYyStc\">www.indiatoday.in</span> </span> </div></a></td></tr></table></div></div> </div> </div></td></tr><tr><td align=\"center\" class=\"e3goi\"><div class=\"jjVJ4e\"> <div> <div class=\"lIMUZd\"><div><table class=\"RntSmf\"><tr><td><a href=\"/url?q=https://www.britannica.com/biography/Elon-Musk&amp;sa=U&amp;ved=2ahUKEwjR5riPvqODAxV8lFYBHVQIDAIQqoUBegQIBhAB&amp;usg=AOvVaw1pOANGCX0-2zqVXddZIxtq\"><div class=\"kCmkOe\"><img alt=\"\" class=\"DS1iW\" src=\"https://encrypted-tbn0.gstatic.com/images?q=tbn:ANd9GcS6mPr1g683xgMlTnJfswzPyIjixDUJCLKR_GUOYd43dGj0LB8Uum64r_cOjl4&amp;s\"/></div></a></td></tr><tr><td><a href=\"/url?q=https://www.britannica.com/biography/Elon-Musk&amp;sa=U&amp;ved=2ahUKEwjR5riPvqODAxV8lFYBHVQIDAIQr4kDegQIBhAC&amp;usg=AOvVaw3bdYULI6UXdUr6ICXf-TBG\"><div class=\"AlD19d\"> <span class=\"qXLe6d x3G5ab\"> <span class=\"fYyStc\">Elon Musk | Biography,...</span> </span> <span class=\"qXLe6d F9iS2e\"> <span class=\"fYyStc\">www.britannica.com</span> </span> </div></a></td></tr></table></div></div> </div> </div></td><td align=\"center\" class=\"e3goi\"><div class=\"jjVJ4e\"> <div> <div class=\"lIMUZd\"><div><table class=\"RntSmf\"><tr><td><a href=\"/url?q=https://www.foxbusiness.com/technology/elon-musk-twitter-poll-users-say-should-step-down-ceo&amp;sa=U&amp;ved=2ahUKEwjR5riPvqODAxV8lFYBHVQIDAIQqoUBegQICBAB&amp;usg=AOvVaw0Gs_dBlJ6eCB-cD80-rdE5\"><div class=\"kCmkOe\"><img alt=\"\" class=\"DS1iW\" src=\"https://encrypted-tbn0.gstatic.com/images?q=tbn:ANd9GcQdOp3ZpYbou1yMlj2sgHy7eCNp2ua5Hj2PFAONLM8ppB9TWUPsy644Z0PaXP0&amp;s\"/></div></a></td></tr><tr><td><a href=\"/url?q=https://www.foxbusiness.com/technology/elon-musk-twitter-poll-users-say-should-step-down-ceo&amp;sa=U&amp;ved=2ahUKEwjR5riPvqODAxV8lFYBHVQIDAIQr4kDegQICBAC&amp;usg=AOvVaw3MutRSfE9-xVv0_x1LMstu\"><div class=\"AlD19d\"> <span class=\"qXLe6d x3G5ab\"> <span class=\"fYyStc\">Elon Musk Twitter poll:...</span> </span> <span class=\"qXLe6d F9iS2e\"> <span class=\"fYyStc\">www.foxbusiness.com</span> </span> </div></a></td></tr></table></div></div> </div> </div></td><td align=\"center\" class=\"e3goi\"><div class=\"jjVJ4e\"> <div> <div class=\"lIMUZd\"><div><table class=\"RntSmf\"><tr><td><a href=\"/url?q=https://economictimes.indiatimes.com/tech/technology/elon-musk-assured-bankers-they-wont-lose-money-on-loans-for-twitter-acquisition-report/articleshow/106064723.cms&amp;sa=U&amp;ved=2ahUKEwjR5riPvqODAxV8lFYBHVQIDAIQqoUBegQIARAB&amp;usg=AOvVaw0D9hkeBfaCORHZc3tZ2G0P\"><div class=\"kCmkOe\"><img alt=\"\" class=\"DS1iW\" src=\"https://encrypted-tbn0.gstatic.com/images?q=tbn:ANd9GcQE7tZLbXy98ifi13jUER1UqR-AWAD4EK_0lELGTtXFTnr5-zrHIwigt1pEoBE&amp;s\"/></div></a></td></tr><tr><td><a href=\"/url?q=https://economictimes.indiatimes.com/tech/technology/elon-musk-assured-bankers-they-wont-lose-money-on-loans-for-twitter-acquisition-report/articleshow/106064723.cms&amp;sa=U&amp;ved=2ahUKEwjR5riPvqODAxV8lFYBHVQIDAIQr4kDegQIARAC&amp;usg=AOvVaw0FdHjrRCyv2tzv73npl-2r\"><div class=\"AlD19d\"> <span class=\"qXLe6d x3G5ab\"> <span class=\"fYyStc\">elon musk twitter loan:...</span> </span> <span class=\"qXLe6d F9iS2e\"> <span class=\"fYyStc\">economictimes.indiatimes.co...</span> </span> </div></a></td></tr></table></div></div> </div> </div></td><td align=\"center\" class=\"e3goi\"><div class=\"jjVJ4e\"> <div> <div class=\"lIMUZd\"><div><table class=\"RntSmf\"><tr><td><a href=\"/url?q=https://www.businessinsider.com/elon-musk&amp;sa=U&amp;ved=2ahUKEwjR5riPvqODAxV8lFYBHVQIDAIQqoUBegQIAxAB&amp;usg=AOvVaw1uwpMY3ZhLuun_mrcHsiU7\"><div class=\"kCmkOe\"><img alt=\"\" class=\"DS1iW\" src=\"https://encrypted-tbn0.gstatic.com/images?q=tbn:ANd9GcSit4pT757dcMc1WPbrVBkYUb5E4Ygt_lFw8lpxrFlwyd64-XHkaUddjMVxd4o&amp;s\"/></div></a></td></tr><tr><td><a href=\"/url?q=https://www.businessinsider.com/elon-musk&amp;sa=U&amp;ved=2ahUKEwjR5riPvqODAxV8lFYBHVQIDAIQr4kDegQIAxAC&amp;usg=AOvVaw0Q2D9q5vLz3HzkHsTGwCcb\"><div class=\"AlD19d\"> <span class=\"qXLe6d x3G5ab\"> <span class=\"fYyStc\">Elon Musk Runs Twitter,...</span> </span> <span class=\"qXLe6d F9iS2e\"> <span class=\"fYyStc\">www.businessinsider.com</span> </span> </div></a></td></tr></table></div></div> </div> </div></td></tr><tr><td align=\"center\" class=\"e3goi\"><div class=\"jjVJ4e\"> <div> <div class=\"lIMUZd\"><div><table class=\"RntSmf\"><tr><td><a href=\"/url?q=https://variety.com/2023/digital/news/elon-musk-hires-twitter-ceo-woman-1235610232/&amp;sa=U&amp;ved=2ahUKEwjR5riPvqODAxV8lFYBHVQIDAIQqoUBegQIABAB&amp;usg=AOvVaw16sKgLxD6yFzfrF0Y_fL2S\"><div class=\"kCmkOe\"><img alt=\"\" class=\"DS1iW\" src=\"https://encrypted-tbn0.gstatic.com/images?q=tbn:ANd9GcS_8J1dMO1l11keS2HIEulqa96plcEAg_kdIJxmnggPIWEWF2itqLLu7wjWET0&amp;s\"/></div></a></td></tr><tr><td><a href=\"/url?q=https://variety.com/2023/digital/news/elon-musk-hires-twitter-ceo-woman-1235610232/&amp;sa=U&amp;ved=2ahUKEwjR5riPvqODAxV8lFYBHVQIDAIQr4kDegQIABAC&amp;usg=AOvVaw1HCYkraIZ1VtvQHpkL3GJC\"><div class=\"AlD19d\"> <span class=\"qXLe6d x3G5ab\"> <span class=\"fYyStc\">Elon Musk Says He's Hired a...</span> </span> <span class=\"qXLe6d F9iS2e\"> <span class=\"fYyStc\">variety.com</span> </span> </div></a></td></tr></table></div></div> </div> </div></td><td align=\"center\" class=\"e3goi\"><div class=\"jjVJ4e\"> <div> <div class=\"lIMUZd\"><div><table class=\"RntSmf\"><tr><td><a href=\"/url?q=https://www.britannica.com/biography/Elon-Musk&amp;sa=U&amp;ved=2ahUKEwjR5riPvqODAxV8lFYBHVQIDAIQqoUBegQIAhAB&amp;usg=AOvVaw2zk0joqnIU43QDyb2WrKKv\"><div class=\"kCmkOe\"><img alt=\"\" class=\"DS1iW\" src=\"https://encrypted-tbn0.gstatic.com/images?q=tbn:ANd9GcQosXj2elVFnxW60i0y2hp3ewC9ttZ6z78KaQ1MIqaaLOD_iocx9TT8qVsKW-k&amp;s\"/></div></a></td></tr><tr><td><a href=\"/url?q=https://www.britannica.com/biography/Elon-Musk&amp;sa=U&amp;ved=2ahUKEwjR5riPvqODAxV8lFYBHVQIDAIQr4kDegQIAhAC&amp;usg=AOvVaw0GergFI--T1Pr8e6G2MRMi\"><div class=\"AlD19d\"> <span class=\"qXLe6d x3G5ab\"> <span class=\"fYyStc\">Elon Musk | Biography,...</span> </span> <span class=\"qXLe6d F9iS2e\"> <span class=\"fYyStc\">www.britannica.com</span> </span> </div></a></td></tr></table></div></div> </div> </div></td><td align=\"center\" class=\"e3goi\"><div class=\"jjVJ4e\"> <div> <div class=\"lIMUZd\"><div><table class=\"RntSmf\"><tr><td><a href=\"/url?q=https://www.npr.org/2023/01/12/1148634966/elon-musk-guinness-world-records&amp;sa=U&amp;ved=2ahUKEwjR5riPvqODAxV8lFYBHVQIDAIQqoUBegQIBBAB&amp;usg=AOvVaw14elvuwJkS0VSrUEQW82WU\"><div class=\"kCmkOe\"><img alt=\"\" class=\"DS1iW\" src=\"https://encrypted-tbn0.gstatic.com/images?q=tbn:ANd9GcQ_77g3CW3IPQFZgNcnjNQU-k91zwq0ok3QtRieIM6iu7ArxyWYns0c7JeEtw&amp;s\"/></div></a></td></tr><tr><td><a href=\"/url?q=https://www.npr.org/2023/01/12/1148634966/elon-musk-guinness-world-records&amp;sa=U&amp;ved=2ahUKEwjR5riPvqODAxV8lFYBHVQIDAIQr4kDegQIBBAC&amp;usg=AOvVaw0LeJXArJ1Tr6_JGbNF_dqR\"><div class=\"AlD19d\"> <span class=\"qXLe6d x3G5ab\"> <span class=\"fYyStc\">Guinness World Records:...</span> </span> <span class=\"qXLe6d F9iS2e\"> <span class=\"fYyStc\">www.npr.org</span> </span> </div></a></td></tr></table></div></div> </div> </div></td><td align=\"center\" class=\"e3goi\"><div class=\"jjVJ4e\"> <div> <div class=\"lIMUZd\"><div><table class=\"RntSmf\"><tr><td><a href=\"/url?q=https://economictimes.indiatimes.com/news/science/how-tesla-founder-elon-musk-tried-to-fund-a-grand-spectacle-in-space/articleshow/47292702.cms&amp;sa=U&amp;ved=2ahUKEwjR5riPvqODAxV8lFYBHVQIDAIQqoUBegQIBxAB&amp;usg=AOvVaw1B1NsWdMwmK_0ECuAnFrF9\"><div class=\"kCmkOe\"><img alt=\"\" class=\"DS1iW\" src=\"https://encrypted-tbn0.gstatic.com/images?q=tbn:ANd9GcThhNrcBpZGJVStKhnd7bIS4ZhwkPCZevFEJ2y2Fn3mCgzMs3-pfLvNIaYigQ&amp;s\"/></div></a></td></tr><tr><td><a href=\"/url?q=https://economictimes.indiatimes.com/news/science/how-tesla-founder-elon-musk-tried-to-fund-a-grand-spectacle-in-space/articleshow/47292702.cms&amp;sa=U&amp;ved=2ahUKEwjR5riPvqODAxV8lFYBHVQIDAIQr4kDegQIBxAC&amp;usg=AOvVaw2AgcHw-UU-J9Y4V0HEGkIW\"><div class=\"AlD19d\"> <span class=\"qXLe6d x3G5ab\"> <span class=\"fYyStc\">How Tesla founder Elon Musk...</span> </span> <span class=\"qXLe6d F9iS2e\"> <span class=\"fYyStc\">economictimes.indiatimes.co...</span> </span> </div></a></td></tr></table></div></div> </div> </div></td></tr></table></div><table class=\"uZgmoc\"><tbody><td><a class=\"frGj1b\" href=\"/search?q=elonmusk&amp;sca_esv=593118487&amp;biw=1920&amp;bih=937&amp;ie=UTF-8&amp;tbm=isch&amp;ei=IryFZdHNAfyo2roP1JCwEA&amp;start=20&amp;sa=N\">Next &gt;</a></td></tbody></table><br/><div class=\"TuS8Ad\" data-ved=\"0ahUKEwjR5riPvqODAxV8lFYBHVQIDAIQpyoIUg\"><style>.VYM29{font-weight:bold}</style><div align=\"center\" class=\"HddGcc\"><span class=\"VYM29\">Mumbai, Maharashtra</span><span> - </span><span>From your IP address</span><span> - </span><a href=\"/url?q=https://support.google.com/websearch%3Fp%3Dws_settings_location%26hl%3Den-IN&amp;opi=89978449&amp;sa=U&amp;ved=0ahUKEwjR5riPvqODAxV8lFYBHVQIDAIQty4IUw&amp;usg=AOvVaw1iwZeKZGL0hDK-OXOcOG-m\">Learn more</a></div><div align=\"center\"><a class=\"rEM8G\" href=\"/url?q=https://accounts.google.com/ServiceLogin%3Fcontinue%3Dhttps://www.google.com/search%253Fq%253Delonmusk%2526sxsrf%253DAJOqlzUuff1RXi2mm8I_OqOwT9VjfIDL7w:1676996143273%2526source%253Dlnms%2526tbm%253Disch%2526sa%253DX%2526ved%253D2ahUKEwiq-qK7gaf9AhXUgVYBHYReAfYQ_AUoA3oECAEQBQ%2526biw%253D1920%2526bih%253D937%2526dpr%253D1%26hl%3Den&amp;opi=89978449&amp;sa=U&amp;ved=0ahUKEwjR5riPvqODAxV8lFYBHVQIDAIQxs8CCFQ&amp;usg=AOvVaw1vMzo0zshVA0ykKNFn0uoP\">Sign in</a></div><div><table class=\"bookcf\"><tbody class=\"InWNIe\"><tr><td><a class=\"rEM8G\" href=\"https://www.google.com/preferences?hl=en&amp;sa=X&amp;ved=0ahUKEwjR5riPvqODAxV8lFYBHVQIDAIQv5YECFU\">Settings</a></td><td><a class=\"rEM8G\" href=\"https://www.google.com/intl/en_in/policies/privacy/\">Privacy</a></td><td><a class=\"rEM8G\" href=\"https://www.google.com/intl/en_in/policies/terms/\">Terms</a></td></tr></tbody></table></div></div><div> </div></body></html>"
      ]
     },
     "execution_count": 24,
     "metadata": {},
     "output_type": "execute_result"
    }
   ],
   "source": [
    "soup"
   ]
  },
  {
   "cell_type": "code",
   "execution_count": 25,
   "id": "c8384eb9-7c4c-48e9-b138-0d033963a82f",
   "metadata": {},
   "outputs": [
    {
     "data": {
      "text/plain": [
       "[<img alt=\"Google\" class=\"kgJEQe\" src=\"/images/branding/searchlogo/1x/googlelogo_desk_heirloom_color_150x55dp.gif\"/>,\n",
       " <img alt=\"\" class=\"DS1iW\" src=\"https://encrypted-tbn0.gstatic.com/images?q=tbn:ANd9GcRhPqM6ot0ppohFd9xq_dvsEgS4MkC8IFvvspMKx4G7pW805J6uX2j9ZbbWMho&amp;s\"/>,\n",
       " <img alt=\"\" class=\"DS1iW\" src=\"https://encrypted-tbn0.gstatic.com/images?q=tbn:ANd9GcSC7st5ShUDWADPVkP7Pr0Py1KtnzUAtUAXgpqtCzbirxLvz3BhjH-CNqBm3PE&amp;s\"/>,\n",
       " <img alt=\"\" class=\"DS1iW\" src=\"https://encrypted-tbn0.gstatic.com/images?q=tbn:ANd9GcSiLyDX4HwXWDkQIK7J_XvOzW_EZoeP-FzXr45ogCKH__u_GGQrPqaQTEU2GRI&amp;s\"/>,\n",
       " <img alt=\"\" class=\"DS1iW\" src=\"https://encrypted-tbn0.gstatic.com/images?q=tbn:ANd9GcT8USRafEDsJskFBsXuekeVU0wF4Tv3QI-ttuO5tq6ngEwFzxb17Zdvuzq_EjI&amp;s\"/>,\n",
       " <img alt=\"\" class=\"DS1iW\" src=\"https://encrypted-tbn0.gstatic.com/images?q=tbn:ANd9GcQxKSK6v2WSDPdMnhgQpJJmi9vg4Ch_ivZ-sUC8-TTYwNrUD0BukYPu7uC3x1E&amp;s\"/>,\n",
       " <img alt=\"\" class=\"DS1iW\" src=\"https://encrypted-tbn0.gstatic.com/images?q=tbn:ANd9GcQcA2bv7di-EPpf78UaWza_SvMqonHz_9DrPEfRBRWS-PUVGT5OrHwegYvlzFs&amp;s\"/>,\n",
       " <img alt=\"\" class=\"DS1iW\" src=\"https://encrypted-tbn0.gstatic.com/images?q=tbn:ANd9GcSPhSIlIf6whM6Z1KH5Q1CnsO_IMvKqH-fX8rzwhxdGWBxkKQwlxXYnX18Fnw&amp;s\"/>,\n",
       " <img alt=\"\" class=\"DS1iW\" src=\"https://encrypted-tbn0.gstatic.com/images?q=tbn:ANd9GcS6PtbO3oSFgC1yh6BPlre0Sr5h3aca6UrEmg7ibGUrD1g40Xm5cZBGYl7G3PU&amp;s\"/>,\n",
       " <img alt=\"\" class=\"DS1iW\" src=\"https://encrypted-tbn0.gstatic.com/images?q=tbn:ANd9GcQY_R5NSNoZkSlMo3hf86COGJ4fCv0s6Nx4k8uCGkWc6YGOn_m4-rIOQ3GhOhg&amp;s\"/>,\n",
       " <img alt=\"\" class=\"DS1iW\" src=\"https://encrypted-tbn0.gstatic.com/images?q=tbn:ANd9GcQouxuiAN3WIhRg7-wfAIBMW7_Pgl7_paBbzPs33VqAV38MED8zKAgYTehduA&amp;s\"/>,\n",
       " <img alt=\"\" class=\"DS1iW\" src=\"https://encrypted-tbn0.gstatic.com/images?q=tbn:ANd9GcQekssABLFv4-Dn0H7v9XwJ0WJisJrobI6K3iD5RESBXOLynkMrt7QJF6OLpA&amp;s\"/>,\n",
       " <img alt=\"\" class=\"DS1iW\" src=\"https://encrypted-tbn0.gstatic.com/images?q=tbn:ANd9GcSKEthUj2_YT27pxGxZQuLQv4hGzWd8CKyVX7jEP0_xYBhnnF8L1vc66nG9lMI&amp;s\"/>,\n",
       " <img alt=\"\" class=\"DS1iW\" src=\"https://encrypted-tbn0.gstatic.com/images?q=tbn:ANd9GcS6mPr1g683xgMlTnJfswzPyIjixDUJCLKR_GUOYd43dGj0LB8Uum64r_cOjl4&amp;s\"/>,\n",
       " <img alt=\"\" class=\"DS1iW\" src=\"https://encrypted-tbn0.gstatic.com/images?q=tbn:ANd9GcQdOp3ZpYbou1yMlj2sgHy7eCNp2ua5Hj2PFAONLM8ppB9TWUPsy644Z0PaXP0&amp;s\"/>,\n",
       " <img alt=\"\" class=\"DS1iW\" src=\"https://encrypted-tbn0.gstatic.com/images?q=tbn:ANd9GcQE7tZLbXy98ifi13jUER1UqR-AWAD4EK_0lELGTtXFTnr5-zrHIwigt1pEoBE&amp;s\"/>,\n",
       " <img alt=\"\" class=\"DS1iW\" src=\"https://encrypted-tbn0.gstatic.com/images?q=tbn:ANd9GcSit4pT757dcMc1WPbrVBkYUb5E4Ygt_lFw8lpxrFlwyd64-XHkaUddjMVxd4o&amp;s\"/>,\n",
       " <img alt=\"\" class=\"DS1iW\" src=\"https://encrypted-tbn0.gstatic.com/images?q=tbn:ANd9GcS_8J1dMO1l11keS2HIEulqa96plcEAg_kdIJxmnggPIWEWF2itqLLu7wjWET0&amp;s\"/>,\n",
       " <img alt=\"\" class=\"DS1iW\" src=\"https://encrypted-tbn0.gstatic.com/images?q=tbn:ANd9GcQosXj2elVFnxW60i0y2hp3ewC9ttZ6z78KaQ1MIqaaLOD_iocx9TT8qVsKW-k&amp;s\"/>,\n",
       " <img alt=\"\" class=\"DS1iW\" src=\"https://encrypted-tbn0.gstatic.com/images?q=tbn:ANd9GcQ_77g3CW3IPQFZgNcnjNQU-k91zwq0ok3QtRieIM6iu7ArxyWYns0c7JeEtw&amp;s\"/>,\n",
       " <img alt=\"\" class=\"DS1iW\" src=\"https://encrypted-tbn0.gstatic.com/images?q=tbn:ANd9GcThhNrcBpZGJVStKhnd7bIS4ZhwkPCZevFEJ2y2Fn3mCgzMs3-pfLvNIaYigQ&amp;s\"/>]"
      ]
     },
     "execution_count": 25,
     "metadata": {},
     "output_type": "execute_result"
    }
   ],
   "source": [
    "soup.find_all('img')"
   ]
  },
  {
   "cell_type": "code",
   "execution_count": 26,
   "id": "06684ea7-3ff6-4e11-8c26-cce3116541b4",
   "metadata": {},
   "outputs": [],
   "source": [
    "images_tages = soup.find_all('img')"
   ]
  },
  {
   "cell_type": "code",
   "execution_count": 27,
   "id": "51f4f70a-20e1-481e-823a-e8d2d5337b49",
   "metadata": {},
   "outputs": [
    {
     "data": {
      "text/plain": [
       "21"
      ]
     },
     "execution_count": 27,
     "metadata": {},
     "output_type": "execute_result"
    }
   ],
   "source": [
    "len(images_tages)"
   ]
  },
  {
   "cell_type": "code",
   "execution_count": 28,
   "id": "26fb3bbc-5051-4dc4-9c58-d9e74c77b526",
   "metadata": {},
   "outputs": [],
   "source": [
    "del images_tages[0] # 1st img tag doesn't contain any images"
   ]
  },
  {
   "cell_type": "code",
   "execution_count": 29,
   "id": "c4998016-ffe1-4954-bfdf-25fe0ebadf76",
   "metadata": {},
   "outputs": [
    {
     "data": {
      "text/plain": [
       "20"
      ]
     },
     "execution_count": 29,
     "metadata": {},
     "output_type": "execute_result"
    }
   ],
   "source": [
    "len(images_tages)"
   ]
  },
  {
   "cell_type": "code",
   "execution_count": 30,
   "id": "8f1d7163-1132-411d-8af3-e2699c3b25b8",
   "metadata": {},
   "outputs": [
    {
     "data": {
      "text/plain": [
       "[<img alt=\"\" class=\"DS1iW\" src=\"https://encrypted-tbn0.gstatic.com/images?q=tbn:ANd9GcRhPqM6ot0ppohFd9xq_dvsEgS4MkC8IFvvspMKx4G7pW805J6uX2j9ZbbWMho&amp;s\"/>,\n",
       " <img alt=\"\" class=\"DS1iW\" src=\"https://encrypted-tbn0.gstatic.com/images?q=tbn:ANd9GcSC7st5ShUDWADPVkP7Pr0Py1KtnzUAtUAXgpqtCzbirxLvz3BhjH-CNqBm3PE&amp;s\"/>,\n",
       " <img alt=\"\" class=\"DS1iW\" src=\"https://encrypted-tbn0.gstatic.com/images?q=tbn:ANd9GcSiLyDX4HwXWDkQIK7J_XvOzW_EZoeP-FzXr45ogCKH__u_GGQrPqaQTEU2GRI&amp;s\"/>,\n",
       " <img alt=\"\" class=\"DS1iW\" src=\"https://encrypted-tbn0.gstatic.com/images?q=tbn:ANd9GcT8USRafEDsJskFBsXuekeVU0wF4Tv3QI-ttuO5tq6ngEwFzxb17Zdvuzq_EjI&amp;s\"/>,\n",
       " <img alt=\"\" class=\"DS1iW\" src=\"https://encrypted-tbn0.gstatic.com/images?q=tbn:ANd9GcQxKSK6v2WSDPdMnhgQpJJmi9vg4Ch_ivZ-sUC8-TTYwNrUD0BukYPu7uC3x1E&amp;s\"/>,\n",
       " <img alt=\"\" class=\"DS1iW\" src=\"https://encrypted-tbn0.gstatic.com/images?q=tbn:ANd9GcQcA2bv7di-EPpf78UaWza_SvMqonHz_9DrPEfRBRWS-PUVGT5OrHwegYvlzFs&amp;s\"/>,\n",
       " <img alt=\"\" class=\"DS1iW\" src=\"https://encrypted-tbn0.gstatic.com/images?q=tbn:ANd9GcSPhSIlIf6whM6Z1KH5Q1CnsO_IMvKqH-fX8rzwhxdGWBxkKQwlxXYnX18Fnw&amp;s\"/>,\n",
       " <img alt=\"\" class=\"DS1iW\" src=\"https://encrypted-tbn0.gstatic.com/images?q=tbn:ANd9GcS6PtbO3oSFgC1yh6BPlre0Sr5h3aca6UrEmg7ibGUrD1g40Xm5cZBGYl7G3PU&amp;s\"/>,\n",
       " <img alt=\"\" class=\"DS1iW\" src=\"https://encrypted-tbn0.gstatic.com/images?q=tbn:ANd9GcQY_R5NSNoZkSlMo3hf86COGJ4fCv0s6Nx4k8uCGkWc6YGOn_m4-rIOQ3GhOhg&amp;s\"/>,\n",
       " <img alt=\"\" class=\"DS1iW\" src=\"https://encrypted-tbn0.gstatic.com/images?q=tbn:ANd9GcQouxuiAN3WIhRg7-wfAIBMW7_Pgl7_paBbzPs33VqAV38MED8zKAgYTehduA&amp;s\"/>,\n",
       " <img alt=\"\" class=\"DS1iW\" src=\"https://encrypted-tbn0.gstatic.com/images?q=tbn:ANd9GcQekssABLFv4-Dn0H7v9XwJ0WJisJrobI6K3iD5RESBXOLynkMrt7QJF6OLpA&amp;s\"/>,\n",
       " <img alt=\"\" class=\"DS1iW\" src=\"https://encrypted-tbn0.gstatic.com/images?q=tbn:ANd9GcSKEthUj2_YT27pxGxZQuLQv4hGzWd8CKyVX7jEP0_xYBhnnF8L1vc66nG9lMI&amp;s\"/>,\n",
       " <img alt=\"\" class=\"DS1iW\" src=\"https://encrypted-tbn0.gstatic.com/images?q=tbn:ANd9GcS6mPr1g683xgMlTnJfswzPyIjixDUJCLKR_GUOYd43dGj0LB8Uum64r_cOjl4&amp;s\"/>,\n",
       " <img alt=\"\" class=\"DS1iW\" src=\"https://encrypted-tbn0.gstatic.com/images?q=tbn:ANd9GcQdOp3ZpYbou1yMlj2sgHy7eCNp2ua5Hj2PFAONLM8ppB9TWUPsy644Z0PaXP0&amp;s\"/>,\n",
       " <img alt=\"\" class=\"DS1iW\" src=\"https://encrypted-tbn0.gstatic.com/images?q=tbn:ANd9GcQE7tZLbXy98ifi13jUER1UqR-AWAD4EK_0lELGTtXFTnr5-zrHIwigt1pEoBE&amp;s\"/>,\n",
       " <img alt=\"\" class=\"DS1iW\" src=\"https://encrypted-tbn0.gstatic.com/images?q=tbn:ANd9GcSit4pT757dcMc1WPbrVBkYUb5E4Ygt_lFw8lpxrFlwyd64-XHkaUddjMVxd4o&amp;s\"/>,\n",
       " <img alt=\"\" class=\"DS1iW\" src=\"https://encrypted-tbn0.gstatic.com/images?q=tbn:ANd9GcS_8J1dMO1l11keS2HIEulqa96plcEAg_kdIJxmnggPIWEWF2itqLLu7wjWET0&amp;s\"/>,\n",
       " <img alt=\"\" class=\"DS1iW\" src=\"https://encrypted-tbn0.gstatic.com/images?q=tbn:ANd9GcQosXj2elVFnxW60i0y2hp3ewC9ttZ6z78KaQ1MIqaaLOD_iocx9TT8qVsKW-k&amp;s\"/>,\n",
       " <img alt=\"\" class=\"DS1iW\" src=\"https://encrypted-tbn0.gstatic.com/images?q=tbn:ANd9GcQ_77g3CW3IPQFZgNcnjNQU-k91zwq0ok3QtRieIM6iu7ArxyWYns0c7JeEtw&amp;s\"/>,\n",
       " <img alt=\"\" class=\"DS1iW\" src=\"https://encrypted-tbn0.gstatic.com/images?q=tbn:ANd9GcThhNrcBpZGJVStKhnd7bIS4ZhwkPCZevFEJ2y2Fn3mCgzMs3-pfLvNIaYigQ&amp;s\"/>]"
      ]
     },
     "execution_count": 30,
     "metadata": {},
     "output_type": "execute_result"
    }
   ],
   "source": [
    "images_tages"
   ]
  },
  {
   "cell_type": "code",
   "execution_count": 31,
   "id": "da5cd8d0-ca36-4ec8-b6f9-cda044c6f9c1",
   "metadata": {},
   "outputs": [],
   "source": [
    "# images_tages[1]['src'] # it filters the link only from those tags"
   ]
  },
  {
   "cell_type": "code",
   "execution_count": 32,
   "id": "f21d12ca-d7af-4f89-9963-d2b342c5636f",
   "metadata": {},
   "outputs": [
    {
     "data": {
      "text/plain": [
       "b'\\xff\\xd8\\xff\\xe0\\x00\\x10JFIF\\x00\\x01\\x01\\x00\\x00\\x01\\x00\\x01\\x00\\x00\\xff\\xdb\\x00\\x84\\x00\\t\\x06\\x07\\x08\\x07\\x06\\t\\x08\\x07\\x08\\n\\n\\t\\x0b\\r\\x16\\x0f\\r\\x0c\\x0c\\r\\x1b\\x14\\x15\\x10\\x16 \\x1d\"\" \\x1d\\x1f\\x1f$(4,$&1\\'\\x1f\\x1f-=-157:::#+?D?8C49:7\\x01\\n\\n\\n\\r\\x0c\\r\\x1a\\x0f\\x0f\\x1a7%\\x1f%77777777777777777777777777777777777777777777777777\\xff\\xc0\\x00\\x11\\x08\\x00d\\x00\\xa2\\x03\\x01\"\\x00\\x02\\x11\\x01\\x03\\x11\\x01\\xff\\xc4\\x00\\x1c\\x00\\x00\\x01\\x04\\x03\\x01\\x00\\x00\\x00\\x00\\x00\\x00\\x00\\x00\\x00\\x00\\x00\\x06\\x00\\x04\\x05\\x07\\x01\\x02\\x03\\x08\\xff\\xc4\\x007\\x10\\x00\\x01\\x03\\x02\\x04\\x04\\x04\\x03\\x08\\x01\\x05\\x01\\x00\\x00\\x00\\x00\\x01\\x00\\x02\\x03\\x04\\x11\\x05\\x12!1\\x06\\x13AQ\\x14aq\\x91\\x07\"2\\x15#3BR\\x81\\xa1\\xb1\\xf1r\\xa2\\xc1\\xe1\\xf0$\\xff\\xc4\\x00\\x19\\x01\\x00\\x03\\x01\\x01\\x01\\x00\\x00\\x00\\x00\\x00\\x00\\x00\\x00\\x00\\x00\\x00\\x01\\x02\\x03\\x04\\x00\\x05\\xff\\xc4\\x00#\\x11\\x00\\x02\\x02\\x02\\x02\\x01\\x04\\x03\\x00\\x00\\x00\\x00\\x00\\x00\\x00\\x00\\x00\\x01\\x02\\x11\\x03!\\x121A\\x13\"2Q\\x04Ba\\xff\\xda\\x00\\x0c\\x03\\x01\\x00\\x02\\x11\\x03\\x11\\x00?\\x00\\xad((\\x1b9\\xda\\xfa\\xa3N\\x18\\xe1\\xfaVK\\xcd\\x9d\\x80\\xbb\\xcc&\\xf8\\x06\\x18\\xd8\\xa9\\x98\\xf7\\x8dm\\xd4)\\xb8\\xdf\\xcb \\x00\\xb1\\xcevh\\xd2Z&+pZj\\xba\\\\\\x81\\x8d\\xb0\\xda\\xc1T\\xbci\\x84I\\x86U\\xb6\\xd71\\xb8\\xe8{\\x15p\\xe15\\x19\\x85\\x8a\\x1b\\xf8\\x89B\\xc9\\xa8L\\x84j\\xd3{\\xa1\\tS\\x06\\xe5\\xa2\\x9f\\xbb\\x82\\xd9\\xae;\\x9d\\x93\\x9a\\x88Z\\r\\x82}IA\\x11\\x849\\xe6\\xd7\\x0bl=\\xc4\\xa5\\x1e.\\x8eT\\xcd\\x8d\\xec\\x16\\xdds4.l\\xe5\\xc0\\x10\\xd4\\xa9\\xde\\xd8*\\x9c\\xd2A\\x00\\xa9)\\xab\\x18\\xf65\\x8d\\x1f1]\\xc6\\xb6\\xce\\xbb849\\xad\\xb1v\\x9e\\xab\\xb4\\x92\\xf8v\\x86\\xb5\\xb1\\x86\\x91p\\xfb\\\\\\xff\\x00\\xd2\\xe3<\\x066\\xb1\\xce?Y\\xdb\\xd1\\x10\\xf0\\xaf\\n\\xe2\\\\J\\xd3;\\\\\\xc8i\\x83\\xb2\\xf3\\x9e/\\x9a\\xdd\\x00\\xea\\x93\\x92j\\xca(\\xc9\\xe8m\\x85b4\\xf0\\xc4\\x1bU\\x99\\xa0\\x1b\\xf3\\x01\\xd7\\xf7]\\xe6\\xae\\xc2+\\x1e\\x19\\x11\\xcc\\xfdM\\x8f\\xcbt}M\\xf0\\xcf\\x07k\\x1a\\xda\\xa9\\xaaj\\x08\\xdf3\\xac=\\x82\\xe7\\x89\\xfc4\\xc0]\\t41\\x1ay\\x9a4vbE\\xfc\\xc2Nq)\\xe9\\xcc\\xae\\xa1\\xc5)b\\x9b\\x96\\xda\\x16\\xb2\\xdaX\\xbf8?\\xd2!\\xc3\\xe3\\xa1\\xc6)\\x9c\\xc8\\x8f*\\xa0o\\x19:\\xfe\\xdd\\xd0~1\\x87TPT\\xba7\\xbc?)M\\xe1\\xa9\\xac\\xa3p\\x927\\x06\\xb9\\xa4\\x10<\\xf7\\xbf\\xf4\\xaf\\x8e|{Z!;\\xfb\\t\\xf1<:JWe\\x90~\\xea\\x06\\xad\\xb6\\x04\\x11\\xa1E\\xcf\\xc5a\\xc6\\xb0\\xbecFY\\xa3\\xb0\\x95\\xa4lm\\xd3\\xb8Qs\\xe1\\xfc\\xe8\\xec\\x05\\xbb\\x15YcN^\\xde\\x89\\xc6N\\xb6\\x0f\\xe1\\xcd\\x88L\\x03\\xf6\\xd8\\xa2\\x19\\xb0\\x08\\xeb\\xe1\\x06\\x9cj5\\xb8P\\x15\\x98l\\xd4\\xces\\x9at\\no\\x85\\xb8\\x85\\xb4\\xd2\\xb6:\\xb7Y\\x9b]E\\xe3\\xa9l\\xb4g\\xaac\\xba,\\x11\\xf0\\x82\\xd6\\x83q\\xddf\\xa8:\\x97\\xf1\\x86T]\\xe3h\\xeac\\x0e\\x85\\xed\\xb9\\xea\\x14?\\x17C\\x0c\\xd8[\\xdf\\x0f\\xd4\\x05\\xc2\\xbc\\xb1*\\xb4I=\\x83\\x9fiE\\xdc$\\x85\\xf9R\\xf7+\\x0b-\\x94\\xa6Y\\xb8\\\\\\x81\\xd4\\xcd\\xf4\\t\\xc9\\x17(k\\x08\\xae\\xb4-m\\xf5Dq;<y\\x96I\\xaaa&p\\x96\\xfc\\xd7Zqe)\\xa8\\xc3%gv\\xae\\x98GD\\xfb\\x19fjG\\x0b^\\xedH\\x9e\\xc2\\x9e\\xca\\x02\\xa1\\xaf\\x8d\\xc5\\xae\\xe8V\\x1bU#Y\\x96\\xfa\\'\\x18\\xdco\\x8f\\x11\\x9e;Z\\xcf*;+\\x82\\xdf\\x8e\\xd2\\x17#\\xb3\\xa5;9\\xb3\\x9dT\\xc0\\xa4\\r\\x8b0\\xfa\\x82e\\x85A\\x9eBJ\\x93\\xafp\\x86&\\x96\\x9feV\\xbd\\x96$^\\xcd\\xe8\\xe8\\xe6\\xc5j\\xa9\\xb0\\xf0r\\x99\\xa4\\x0c\\x0e\\xfd=\\xcf\\xb2\\xbf\\xb0z8h(\\xa9\\xe9i\\xa3\\x0c\\x86&\\x06\\xb1\\xa3\\xa0\\n\\x8d\\xe0Y\\xfcG\\x15\\xe1\\xedq\\x01\\x8ds\\x9c\\xe2\\xe3k\\x0c\\xa7\\xfel\\xae\\xda\\xcc@\\xd3\\xd1I-8\\x05\\xe1\\x96oQu\\x8eK\\xc1\\xb3\\x17M\\x92d\\x1e\\xa2\\xcb\\x85Le\\xd0\\x90\\xd3g\\x11\\xa2\\x1e\\xa6n!\\x04~\\'\\x10\\xa8\\x96\\xaaW\\x0f\\x98E0f_,\\xb7\\x00\\xd9J\\xd2\\xce\\xf9\\x9bq\\x98\\xdbr\\xed\\xd0\\xe8\\xa3M\\x95_\\x17\\xd1?\\xedw6h\\xad$\\x9fI\\xef\\xe9\\xdd\\rVP\\xc9O k\\xc6\\x8e\\xb1\\xb1=\\xd5\\xb5\\xc6p6j\\x113\\xdb\\xf3\\xc0\\xf0\\xe6\\x9e\\xdd\\xd0\\x85F\\x0f\\x1e3J\\xc9_!\\x868\\xc9%\\xccfw\\xbc~\\x96\\xb7\\xbfk\\xaa\\xa9\\xaa!,{\\xa4\\x06\\xc31\\xa5\\xac\\x05\\xa7&\\xba\\xf9\\x7f\\xeb\"\\xc6UC$#)\\x06\\xe2\\xe0\\xa8^\"\\xe1\\xf90\\xc9\\x1b#b\\xab\\x8e\\x17<\\xc6\\xe3W\\x938p\\x17\\x16-\\xd2\\xc4_\\xcc{(Yj%\\xa6~F\\x93f\\xd8n\\xad\\x8f%-\\x10\\x9c\\x1c]0\\x87\\x15\\x91\\xc6\\x07\\xe4\\x17$ \\x99\\\\\\xe0\\xe26D~>iiH\\xcavC/$\\xc8\\xec\\xc2\\xc6\\xfb\"\\xe5bU\\x0e\\xe9k\\xea\\xa1-\\x11\\xcc\\xf0\\x07K\\xa9\\xcf\\xb6\\xea&\\xa6\\xe4\\xca\\xe2\\x01\\xdfU\\r\\x85B%\\x97\\xe6N\\xb1\\x98\\x853ZXw\\xec\\x95\\xcd\\xf4R1\\xa5\\xc8\\xed\\xcdbJ\\x13\\xc4;\\xba\\xca\\x1c\\x10=F\\x12\\xe0\\x8f.,\\x05\\x1dR\\x0f\\xb9\\x08\\x03\\x00\\xcc\\x1e\\xd2vG0N\\x04@\\x02\\xb2fU!\\x97D\\xfe\\x12~k)\\x8a\\xc6\\x07\\xd3\\x9b\\xedd7\\x82\\xceL\\xf6E\\x12\\xfe\\x15\\x8fe\\x9e\\xc2R\\xbcq\\x00\\xa6\\xc5\\x03\\xf2\\xe8\\xf1\\xba\\x19.\\x05X?\\x12h\\xafL\\xd9\\xda5c\\x95t6[\\xa1\\'(\\x92}\\x8e \\xa8t&\\xec\\xd1fz\\x97M\\xf5\\x94\\xd9-S[\\x19D\\x94\\xe1\\xfa\\xaazL^\\x9eJ\\xd8\\x8c\\xb4\\xa5\\xd9e\\x8cu\\x1f\\xe6\\xca\\xf7\\xe1\\x8ab\\xfc\"QQJ`\\x8ey\\x9d\\xca\\x85\\xef\\xcece\\x80\\x1a\\xeb\\xb9\\x04\\xdb\\xa5\\xd7\\x9e!sY4o\\x7f\\xd0\\xd7\\x82\\xefK\\xab\\xe2\\xaf\\x88$\\x86\\xa2\\x96\\x8a\\n\\x13)p\\xbb\\x1a$\\xc9\\x98opv>\\x9a$\\x91\\xa7\\xf1\\xfc\\x92P\\xf0\\x8e\\x1b\\xe3\\x1b=L\\x0c\\x9aH\\xc9,\\x96C\\x9d\\xc0\\x1e\\x82\\xfb)\\xd9\\xa4\\x86\\x06d\\x88\\x01q\\xd17\\xa6\\x96Q\\x03\\x1f3\\\\3\\r\\x9d\\xf57\\xd56\\x95\\xdc\\xc9z\\xa9\\xb9x4\\xa8\";\\x12\\x87\\xc7S\\xcd\\x0b\\x8eV\\xbc\\x16\\xdc\\r\\xbc\\xd3(p\\x08\\xcd=$m\\xa9\\x92\\t\"\\x19\\x9d$f\\xd9H \\x87{\\xf4\\xea\\xa6\\\\\\x037\\xd0(\\xfa\\xfc]\\xd4\\x14\\xdf\\xfc\\xf4\\x8e\\xa9\\x96I2\\x80\\x08\\xb3t\\xdc\\xf9zwB=\\x01\\xf6\\x06|H\\xc5\\x997\\x86\\xa1i\\xcc]79\\xe6\\xdd\\x03r\\x8fs\\x9b\\xd9\\x01r\\xdd$\\xd2\\x07\\rn\\xa78\\x82\\x0cfLQ\\xf3V\\xd3I4\\xd2|\\xce1\\xb0\\xb8\\x06\\xf9\\xdb`\\x17*H\\x89\\xaaw\\x88\\x89\\xd1HE\\xa4\\x8d\\xcd \\x83n\\xc7k\\xef\\xfb\\xab\\xa7Q2d\\xf7\\xcc\\x8b\\x8a\\xb68#\\xe5\\xcb\\xa3\\x82\\x88\\xab\\x91\\x92T\\x173b\\xa4\\xb1J,\\xb5\\x0f\\xb7R\\xa2\\xdf\\x03\\x99\\xd1\\x18\\xc9\\x10\\x93\\xbd1\\xfe\\x1d3b\\x17\\xbd\\x8a\\xe5\\x89T\\x9a\\x8d\\x0e\\xb6L\\xb39\\xbaj\\xba\\xc4\\xc7K\\xa8\\x17N\\x95\\xbb9\\xcbTp\\xb2I\\xd7\\x87w\\xe9I=1B\\n\\x075\\x8dn]\\xd1\\x15\\x13\\xcb\\xc2\\x18\\xa4\\xfc\\xa5\\x12\\xe1Z\\x85\\xe7\\xe4v\\xcd\\x15\\xa2\\x7f\\x076\\xac\\x1e\\x88\\xae\\xa6f\\xb2&\\x92\\x83\\xe8\\x9f\\xcb\\xab\\x07\\xc9LW\\x99\\xa6\\xa7\\x19.\\xa6\\xa3`d?\\x18\\x08\\xeap\\xc9\\x98m\\xf4\\xe8\\xaa\\r\\x8d\\x8fM\\x15\\xa7\\x8c\\x97\\x88\\x1c\\xd9/{*\\xc2\\xa8\\x01S%\\xb6\\xcc\\xb5\\xe3\\xaa\\xd17\\xfd4\\xba\\xd9\\xa4.v[\\r\\x13\\xb3\\x93F\\xcf\\xd4[\\xa2\\xb5\\xb8[\\x1f\\x91\\xf8=\\x0c\\xa1\\xf4q\\xcc\\xd8\\xbc;\\xa7\\xaa\\xcc\\xe2\\x1c\\xd3a\\x95\\x83\\xea$k\\xb8UM\\xd1_\\x00\\xe3\\x9fg\\xe21\\xd3H\\xc6\\x16:B\\xf8\\xdc\\xed\\xda\\xfc\\xa4Z\\xfe\\x7f\\xd8J\\xcbb\\x9dH\\xb7)kqz\\x90\\x1c\\xca\\xba\\x19#\\x03\\xea\\xe4=\\x99\\xbf\\xdcS\\xd9\\xaa\\x98\\x1a\\x1a\\x05\\x9dmn:\\xa8\\xb7qf\\x14\\xc6\\xdaR\\xd3 \\x17\\xb3u\\xbf\\xb2\\x1d\\xc48\\x96\\xae\\xb2g2\\x8a\\x9c\\xb1\\x87@\\xe7\\r}\\x92p\\x94\\xbaE\\xdeH\\xc7l\\x99\\xc4q\\xa6\\xc4\\x08.\\xd4\\x9b)\\x8e\\x0f\\xc1\\xa7\\xc4/]VLpl\\xc1\\xf9\\x9f~\\xbeAC\\xf0\\x97\\x0b:\\xbev\\xd4W8\\xb87R:7\\xd7\\xcf\\xc9\\x14q\\xa7\\x17\\xd0p^\\x14\\xc8\\xe3\\x8cK[#Ki\\xa9A\\xde\\xdf\\x99\\xdd\\x9a?\\x9d\\x96\\x88\\xe0\\xe3\\xdffl\\x9f\\x93\\x7f\\x10\\x80\\xc1IC\\x03\\x84q\\xc7\\x1c`|\\xdb\\r\\xba\\x92\\x7f\\xb2\\xa8\\x7f\\x88\\xb8\\x8d\\x1c\\xdcZ\\xea\\x8c>\\xb6\\x8a\\xaa#\\x0bX\\xff\\x00\\x0br\\x18ZH\\xb1;8\\xf9\\x8e\\x9at\\xd4s\\x888\\x93\\x1a\\xe2)\\x9c\\xecZ\\xbeYXO\\xe04\\xe4\\x89\\xbeY\\x06\\x9e\\xf7>j!\\xa43mO`\\xa9(\\xa7\\x1a3\\xc2MK\\x90\\xe7\\x11\\x9c\\x99\\xaf\\xd0\\xa6\\xc5\\xecx\\xd5iQ\\x98\\x80H \\x1d\\x93{\\x95\\x99\\xc6\\x8a\\xcd\\xf2F\\xf2B\\x1f\\xb2\\xcd80\\xbbU\\xab\\x1cA]s\\x83\\xba*M\\x13z\\x1esa\\xee\\x92i\\x99\\xa9.\\xf5du\\x92\\xb0\\r\\x94\\xfe\\x14\\xfc\\xadPP4\\xdc)\\xec\"\"\\xe2E\\x96i+\\x95\\x1a?RN\\x95\\xc5\\xd5\\xad\\xf4G4p5\\xf4\\xad\\xcc\\x84\\xa8\\xe2k\\'i;\\x84g@G z \\xfe\\x90\\x8c\\x13\\xe2\\xbav\\xc6\\xc9I\\xb0\\x19J\\xa6\\xa6?|\\xff\\x00\\xf5\\x15h\\xfcI\\xc4\\xfc+C\\x01\\xd5\\xf7\\x01U$\\x92nz\\xab\\xe1\\xf8\\x88\\xd9\\xb2\\xca\\xc0\\xd9eP6\\xd1\\x90\\xba\\xd3\\xc5$\\xf3\\xc5\\x0c\\r.\\x9aG\\xb5\\x91\\xb4n\\\\M\\x80\\xf7\\\\\\xda\\x88\\xfe\\x1eKI\\x07\\x1c`\\xb2\\xe2\\x0ek)\\xdbR.\\xe7l\\x1dc\\x92\\xfeY\\xb2\\xaeB\\xdb,:\\x0e\\x0e\\xaf\\xa4\\x92Hj*\\x85L0\\x80\\xd3\\xcc\\x8c\\x89\\x03\\x86\\x86\\xc4\\x1b\\x11~\\xe2\\xfei\\xfct04d\\xa4\\x8a\\xef\\x1a\\xdf\\xaf\\xee\\xac\\x1cQ\\x92S\\x8ey\\x88=\\xa0\\xfc\\xc4;\\xbfuZ\\xf1\\xd7\\x17\\xd3\\xe0L}\\x06\\n\\x1b\\xe3\\xe5\\xb8\\x99\\xce\\x17\\xf0\\xc6\\xff\\x00\\xc9\\xec:u\\x1d\\x16\\xe8\\xf1\\x8a\\xb2NM\\xe8\\x96\\xc7\\xf8\\xd6\\x83\\x83\\xe8\\x1bAH\\xd6\\xd5bynb\\x07F\\x13\\xf9\\x9ezzo\\xb7\\xaa\\xa6\\xb1lN\\xb7\\x19\\xaf\\x96\\xba\\xbeWM<\\xa7W\\x1d\\x00\\x1d\\x00\\x1d\\x00M\\x1c\\xe7\\xc8\\xf7I+\\x8b\\x9e\\xf2\\\\\\xe7\\x13r\\xe2w$\\xf7[\\x04\\x92\\x95\\x9c\\x95\\x1ad\\x16\\xd7R\\x90\\x16Yv\\x85b\\xe2\\xda\\x8by\\xa5\\t\\xb8\\xca\\xe0X\\xe1v\\x9d\\xc1L\\xea \\xe5\\xfc\\xcd$\\xb3oB\\x9c\\xadsj\\xe6\\xbbg\\x0b\\x10\\x92QLx\\xc9\\xa1\\x92\\xc1u\\x96^\\x0b\\x1cZ\\x7f\\xca\\xd4\\xec\\xa0\\xd0\\xe9\\xa7\\xd9\\xb6t\\x96\\x96Iu\\x1d\\xc5\\x05T\\x8c\\xcc\\xe0\\x88(\\x08\\x85\\xa1GP\\xc1`\\tO\\x9e\\xd2\\x1c,\\xb3\\xca\\xb6=\\xe8\\x92\\x8a{\\xcd\\x99\\x17a\\x13\\x87\\xd3\\xef\\xad\\x90#N[\"\\x1c\\x12\\xaf+\\\\\\xd2z) 0;\\xe2\\xc3~\\xfe\\x13\\xd36\\xea\\xbe\\x05\\x1f\\xfcO\\x7f4D\\xe1\\xfa\\x90\\x02\\xdb\\x8f\\xe2M\\xf6f\\xeb \\xa4\\x02[\\'8\\xdc-\\x8e\\xc5j\\xd4\\xe6\\x9e6\\xe6\\x0f\\x90\\\\_A\\xdd*V\\xe8/\\xab\\n\\xebx\\xcf\\x88\\xb1z*X1<I\\xe2\\nV\\x0e[!\\xfb\\xb3!\\x02\\xc1\\xefp\\xd4\\x9f\\xe3\\xc9\\x0f\\x19\\x1d4\\x8e\\x9eG\\x12\\\\I\\x17\\xdc\\xdf\\xa9Z\\x17\\xf8\\x89\\x08?KO\\xcd\\xe7\\xe4\\xb7\\xddiJ\\x916`\\x93\\xb8\\xb2\\xc3_\\xad\\x96\\x1c\\x0bM\\xc6\\xbeKG\\x80\\xe1pl{\\xa2\\x03\\xab\\x9du\\xcc\\x9b~\\xeb\\x9b_m\\x1c\\xb2]m\\nP\\xa3l\\xeb\\x04\\xe6+\\x99)4\\xec\\x80LL34;\\xa8\\xd1r\\xb5\\xd7K\\xdd\\xab\\x99u\\x94\\xa6\\xb6\\x1f\\x02\\xb2K\\x19\\x92IG\\x16\\x0c\\x1aD\\xd5\\xd9\\x86\\xfa$\\x92\\xcb\"\\x87^\\x89\\xdd\\x0b\\x8bd6=\\x12I*\\x085\\xc7\\xa4\\xba\\x9a\\xe7\\xa1\\x16\\xf7A\\x0b\\t-x\\xbe$\\xdffRI%@\\x1d\"\\xd5\\xed\\x07bS\\x99^\\xe6\\x878h[\\xa0I$\\xd1\\xe8\\xe68\\x8d\\xa1\\x911\\xad\\xed\\x7fT\\x9el\\x01\\t$\\xac\\xba\\x14M\\xd4j\\xb0\\xe1b\\x92K\\x80qxZ^\\xedI$\\xa1Fz-\\x07E\\x94\\x90\\t\\xa0\\xe8\\xb5rI)\\xcc>L$\\x92I\\x0e?\\xff\\xd9'"
      ]
     },
     "execution_count": 32,
     "metadata": {},
     "output_type": "execute_result"
    }
   ],
   "source": [
    "requests.get(images_tages[1]['src']).content # the imaages in binary format... (base 64 format)"
   ]
  },
  {
   "cell_type": "code",
   "execution_count": 33,
   "id": "919ff5d2-0c8e-4888-8013-90c167345082",
   "metadata": {},
   "outputs": [],
   "source": [
    "for i in images_tages:\n",
    "    images_url = i['src']\n",
    "    image_data = requests.get(images_url).content\n",
    "    with open(os.path.join(save_dir,f\"{query}_{images_tages.index(i)}.jpg\"),\"wb\") as f: #w is write binary\n",
    "        f.write(image_data)"
   ]
  },
  {
   "cell_type": "code",
   "execution_count": null,
   "id": "24407801-d55e-426d-9798-c5c23baed8f2",
   "metadata": {},
   "outputs": [],
   "source": []
  },
  {
   "cell_type": "code",
   "execution_count": null,
   "id": "9b9960ad-e750-4e7b-9e0f-ba02192a0f2a",
   "metadata": {},
   "outputs": [],
   "source": []
  }
 ],
 "metadata": {
  "kernelspec": {
   "display_name": "Python 3 (ipykernel)",
   "language": "python",
   "name": "python3"
  },
  "language_info": {
   "codemirror_mode": {
    "name": "ipython",
    "version": 3
   },
   "file_extension": ".py",
   "mimetype": "text/x-python",
   "name": "python",
   "nbconvert_exporter": "python",
   "pygments_lexer": "ipython3",
   "version": "3.10.8"
  }
 },
 "nbformat": 4,
 "nbformat_minor": 5
}
