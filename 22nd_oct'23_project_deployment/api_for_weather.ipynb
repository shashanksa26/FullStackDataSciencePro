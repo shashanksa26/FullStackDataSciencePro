{
 "cells": [
  {
   "cell_type": "code",
   "execution_count": 1,
   "id": "cf28bebf-24b2-4952-a158-676b961a62f5",
   "metadata": {},
   "outputs": [],
   "source": [
    "# https://api.openweathermap.org/data/2.5/weather?q=bangalore&units=metric&appid=cf7ceb9d22cbba825a0d242f8790524f"
   ]
  },
  {
   "cell_type": "code",
   "execution_count": 3,
   "id": "7f2a2d0e-bc8f-4fc4-8abb-7330c73a238b",
   "metadata": {},
   "outputs": [
    {
     "name": "stdin",
     "output_type": "stream",
     "text": [
      "Enter the city name:  bangalore\n"
     ]
    },
    {
     "data": {
      "text/plain": [
       "{'coord': {'lon': 77.6033, 'lat': 12.9762},\n",
       " 'weather': [{'id': 801,\n",
       "   'main': 'Clouds',\n",
       "   'description': 'few clouds',\n",
       "   'icon': '02n'}],\n",
       " 'base': 'stations',\n",
       " 'main': {'temp': 17.9,\n",
       "  'feels_like': 17.7,\n",
       "  'temp_min': 17.9,\n",
       "  'temp_max': 17.9,\n",
       "  'pressure': 1017,\n",
       "  'humidity': 75,\n",
       "  'sea_level': 1017,\n",
       "  'grnd_level': 914},\n",
       " 'visibility': 10000,\n",
       " 'wind': {'speed': 4.29, 'deg': 88, 'gust': 8.58},\n",
       " 'clouds': {'all': 13},\n",
       " 'dt': 1703696041,\n",
       " 'sys': {'type': 1,\n",
       "  'id': 9208,\n",
       "  'country': 'IN',\n",
       "  'sunrise': 1703639360,\n",
       "  'sunset': 1703680267},\n",
       " 'timezone': 19800,\n",
       " 'id': 1277333,\n",
       " 'name': 'Bengaluru',\n",
       " 'cod': 200}"
      ]
     },
     "execution_count": 3,
     "metadata": {},
     "output_type": "execute_result"
    }
   ],
   "source": [
    "apikey = 'ba7ceb9d22aace825a0d242f8790538g'\n",
    "url = \"https://api.openweathermap.org/data/2.5/weather\"\n",
    "query = input(\"Enter the city name: \")\n",
    "para = {'q':query,\n",
    "          'appid':apikey,\n",
    "          'units':\"metric\"          \n",
    "         }\n",
    "import requests\n",
    "data = requests.get(url, params=para)\n",
    "data.json()"
   ]
  },
  {
   "cell_type": "code",
   "execution_count": null,
   "id": "26378fde-ad07-4623-8523-5ddca1913ca8",
   "metadata": {},
   "outputs": [],
   "source": []
  },
  {
   "cell_type": "code",
   "execution_count": null,
   "id": "9b90ee89-5f6f-4068-9799-04867d029b2d",
   "metadata": {},
   "outputs": [],
   "source": []
  },
  {
   "cell_type": "code",
   "execution_count": null,
   "id": "b7c4da5a-655a-4a8b-81ca-9d0136599e39",
   "metadata": {},
   "outputs": [],
   "source": []
  },
  {
   "cell_type": "code",
   "execution_count": null,
   "id": "708c2288-f0e4-4356-b687-cc3d7e495701",
   "metadata": {},
   "outputs": [],
   "source": []
  },
  {
   "cell_type": "code",
   "execution_count": null,
   "id": "bebe3744-8ede-4590-9328-deff89cf8d6f",
   "metadata": {},
   "outputs": [],
   "source": []
  }
 ],
 "metadata": {
  "kernelspec": {
   "display_name": "Python 3 (ipykernel)",
   "language": "python",
   "name": "python3"
  },
  "language_info": {
   "codemirror_mode": {
    "name": "ipython",
    "version": 3
   },
   "file_extension": ".py",
   "mimetype": "text/x-python",
   "name": "python",
   "nbconvert_exporter": "python",
   "pygments_lexer": "ipython3",
   "version": "3.10.8"
  }
 },
 "nbformat": 4,
 "nbformat_minor": 5
}
