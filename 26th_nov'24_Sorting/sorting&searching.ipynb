{
 "cells": [
  {
   "cell_type": "markdown",
   "id": "2db5ede4-69ee-4a38-b376-a3187b4f5707",
   "metadata": {},
   "source": [
    "# Bubble Sort"
   ]
  },
  {
   "cell_type": "code",
   "execution_count": 37,
   "id": "1441da2d-e93e-481b-8228-a458298f929f",
   "metadata": {},
   "outputs": [],
   "source": [
    "def bubble_sort(arr):\n",
    "    for i in range(len(arr)-1,0,-1):\n",
    "        for j in range(i):\n",
    "            if arr[j] > arr[j+1]:\n",
    "                arr[j],arr[j+1] = arr[j+1],arr[j]\n",
    "# Time complexity: worst case :O(n2) best case : O(n2)"
   ]
  },
  {
   "cell_type": "code",
   "execution_count": 38,
   "id": "76db16e3-94e4-4537-acc2-ea5dd07ce4da",
   "metadata": {},
   "outputs": [
    {
     "name": "stdout",
     "output_type": "stream",
     "text": [
      "[1, 2, 3, 5, 8, 9]\n"
     ]
    }
   ],
   "source": [
    "arr = [5,8,9,3,2,1]\n",
    "bubble_sort(arr)\n",
    "print(arr)"
   ]
  },
  {
   "cell_type": "code",
   "execution_count": 39,
   "id": "53988e5c-e6ee-4645-ac4b-0bd503d165ae",
   "metadata": {},
   "outputs": [
    {
     "name": "stdout",
     "output_type": "stream",
     "text": [
      "[1, 2, 3, 4, 5, 6, 7, 8, 9, 10, 11, 12, 13, 14, 15, 16, 17, 18, 19, 20, 21, 22, 23, 24, 25, 26, 27, 28, 29, 30, 31, 32, 33, 34, 35, 36, 37, 38, 39, 40, 41, 42, 43, 44, 45, 46, 47, 48, 49, 50]\n"
     ]
    }
   ],
   "source": [
    "arr1 = [23, 45, 12, 9, 32, 50, 4, 18, 27, 39, 8, 11, 47, 20, 1, 36, 14, 49, 7, 30, 5, 19, 42, 3, 25, 16,\n",
    "        35, 2, 38, 17, 29, 6, 26, 43, 21, 10, 37, 13, 48, 22, 44, 15, 33, 28, 41, 24, 31, 46, 34, 40]\n",
    "bubble_sort(arr1)\n",
    "print(arr1)"
   ]
  },
  {
   "cell_type": "code",
   "execution_count": 40,
   "id": "724d8367-056c-427c-9fc4-e21311db969f",
   "metadata": {},
   "outputs": [],
   "source": [
    "# Optimized bubble sort\n",
    "def bubble_sort_optimized(arr):\n",
    "    for i in range(len(arr)-1,0,-1):\n",
    "        isSorted = True\n",
    "        for j in range(i):\n",
    "            if arr[j] > arr[j+1]:\n",
    "                isSorted = False\n",
    "                arr[j],arr[j+1] = arr[j+1],arr[j]\n",
    "        if isSorted:\n",
    "            print(\"Array is already sorted\")\n",
    "            break\n",
    "# Time complexity: worst case :O(n2) best case : O(n)"
   ]
  },
  {
   "cell_type": "code",
   "execution_count": 41,
   "id": "b86c1f6b-05c1-438f-a39f-d24d646fe97a",
   "metadata": {},
   "outputs": [
    {
     "name": "stdout",
     "output_type": "stream",
     "text": [
      "Array is already sorted\n",
      "[2, 3, 5, 7, 9]\n"
     ]
    }
   ],
   "source": [
    "arr_opti = [2,3,5,7,9]\n",
    "bubble_sort_optimized(arr_opti)\n",
    "print(arr_opti)"
   ]
  },
  {
   "cell_type": "code",
   "execution_count": 6,
   "id": "f231c6a7-456d-4ee5-9b7d-4bc71c69fa80",
   "metadata": {},
   "outputs": [],
   "source": [
    "# to check a given array is sorted or not:\n",
    "def isSorted(arr):\n",
    "    isSorted = True\n",
    "    for i in range(len(arr)-1):\n",
    "        if arr[i] > arr[i+1]:\n",
    "            isSorted = False\n",
    "            break\n",
    "    if isSorted:\n",
    "        print(\"Array is sorted\")\n",
    "    else:\n",
    "        print(\"Array is not sorted\")"
   ]
  },
  {
   "cell_type": "code",
   "execution_count": 10,
   "id": "4585fa86-3653-4ec1-a8cf-4da950803018",
   "metadata": {},
   "outputs": [
    {
     "name": "stdout",
     "output_type": "stream",
     "text": [
      "Array is not sorted\n"
     ]
    }
   ],
   "source": [
    "arr_sort = [1,2,6,5,8,0,4]\n",
    "isSorted(arr_sort)"
   ]
  },
  {
   "cell_type": "markdown",
   "id": "6da13478-b3a0-4cce-bd53-74c735f25312",
   "metadata": {},
   "source": [
    "# Selection Sort"
   ]
  },
  {
   "cell_type": "code",
   "execution_count": 22,
   "id": "7b12cf81-2e00-4d26-9e43-7056b1632889",
   "metadata": {},
   "outputs": [],
   "source": [
    "def selection_sort(arr):\n",
    "    for i in range(len(arr)):\n",
    "        min = i\n",
    "        for j in range(i+1,len(arr)):\n",
    "            if arr[j] < arr[min]:\n",
    "                min = j\n",
    "        arr[i],arr[min] = arr[min],arr[i]\n",
    "# Time Complexity: O(n2)\n",
    "# Swapping : n times"
   ]
  },
  {
   "cell_type": "code",
   "execution_count": 23,
   "id": "5f3fdca5-12a4-41ca-8aa5-b907f1321a4d",
   "metadata": {},
   "outputs": [
    {
     "name": "stdout",
     "output_type": "stream",
     "text": [
      "[-8, -1, 2, 5, 6, 9]\n"
     ]
    }
   ],
   "source": [
    "arr_selection = [5,6,-8,9,2,-1]\n",
    "selection_sort(arr_selection)\n",
    "print(arr_selection)"
   ]
  },
  {
   "cell_type": "markdown",
   "id": "c5818fba-4994-41d2-bfa9-293be9eb9661",
   "metadata": {},
   "source": [
    "# Insertion Sort"
   ]
  },
  {
   "cell_type": "code",
   "execution_count": 20,
   "id": "2e76239a-a3cc-4461-a08c-870b91ba6202",
   "metadata": {},
   "outputs": [],
   "source": [
    "def insertion_sort(arr):\n",
    "    for i in range(1, len(arr)):\n",
    "        v = arr[i]\n",
    "        j = i\n",
    "        while (j >=1 and arr[j-1]>v):\n",
    "            arr[j] = arr[j-1]\n",
    "            j -=1\n",
    "        arr[j] = v\n",
    "# Time Complexity: O(n2)\n",
    "# swapping : O(n2) for fully unsorted array\n",
    "# swapping : O(n) for insertion of element in sorted array"
   ]
  },
  {
   "cell_type": "code",
   "execution_count": 3,
   "id": "2fd2b708-fe36-4b45-94d1-1250414bf777",
   "metadata": {},
   "outputs": [
    {
     "name": "stdout",
     "output_type": "stream",
     "text": [
      "[1, 2, 3, 4, 5]\n"
     ]
    }
   ],
   "source": [
    "arr_ins = [3,5,2,1,4]\n",
    "insertion_sort(arr_ins)\n",
    "print(arr_ins)"
   ]
  },
  {
   "cell_type": "markdown",
   "id": "a3cc3d2b-f6f3-4e67-8f31-1648fc876ee6",
   "metadata": {},
   "source": [
    "# Linear Search:"
   ]
  },
  {
   "cell_type": "code",
   "execution_count": 33,
   "id": "82e4a7b4-8489-4b60-a9ba-ce4008e24e4b",
   "metadata": {},
   "outputs": [],
   "source": [
    "def linear_search(arr, num):\n",
    "    for i in range(len(arr)):\n",
    "        if(arr[i] == num):\n",
    "            return f\"{num} found at index {i}\"\n",
    "    print(f\"{num} is not present in the list\")\n",
    "# Time complexity : O(n)"
   ]
  },
  {
   "cell_type": "code",
   "execution_count": 42,
   "id": "e0bcd038-9bd6-4c59-aff9-b9ca6005d381",
   "metadata": {},
   "outputs": [
    {
     "data": {
      "text/plain": [
       "'7 is not present in the list'"
      ]
     },
     "execution_count": 42,
     "metadata": {},
     "output_type": "execute_result"
    }
   ],
   "source": [
    "arr_search = [2,6,7,4,23,78,45,75,24,8,7]\n",
    "linear_search(arr_search, 7)"
   ]
  },
  {
   "cell_type": "markdown",
   "id": "b1785498-f26a-4dd5-9cbe-bb635a1b2cf6",
   "metadata": {},
   "source": [
    "# Binary Search:"
   ]
  },
  {
   "cell_type": "code",
   "execution_count": 45,
   "id": "39595f77-7a12-43eb-a6bd-d75254bfff08",
   "metadata": {},
   "outputs": [],
   "source": [
    "def binary_search(arr,num):\n",
    "    left = 0\n",
    "    right = len(arr)-1\n",
    "    while (left <=right):\n",
    "        mid = int(left + (right-left)/2)\n",
    "        if arr[mid] == num:\n",
    "            return mid\n",
    "        elif arr[mid] > num:\n",
    "            right = mid-1\n",
    "        else:\n",
    "            left = mid+1\n",
    "    return -1\n",
    "# Time Complexity: O(logn)"
   ]
  },
  {
   "cell_type": "code",
   "execution_count": 46,
   "id": "b9c339a5-0ce7-4883-a1b0-790965bf355c",
   "metadata": {},
   "outputs": [
    {
     "data": {
      "text/plain": [
       "4"
      ]
     },
     "execution_count": 46,
     "metadata": {},
     "output_type": "execute_result"
    }
   ],
   "source": [
    "binary_search([1,3,5,7,9,12,32,35,67],9)"
   ]
  },
  {
   "cell_type": "code",
   "execution_count": null,
   "id": "f7dabfb5-dd23-43bc-8622-b6e2ce90e951",
   "metadata": {},
   "outputs": [],
   "source": []
  }
 ],
 "metadata": {
  "kernelspec": {
   "display_name": "Python 3 (ipykernel)",
   "language": "python",
   "name": "python3"
  },
  "language_info": {
   "codemirror_mode": {
    "name": "ipython",
    "version": 3
   },
   "file_extension": ".py",
   "mimetype": "text/x-python",
   "name": "python",
   "nbconvert_exporter": "python",
   "pygments_lexer": "ipython3",
   "version": "3.10.8"
  }
 },
 "nbformat": 4,
 "nbformat_minor": 5
}
