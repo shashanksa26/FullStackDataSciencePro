{
 "cells": [
  {
   "cell_type": "code",
   "execution_count": 34,
   "id": "ceef0cb2-a019-4c74-8efe-e413ca12b768",
   "metadata": {},
   "outputs": [
    {
     "name": "stdout",
     "output_type": "stream",
     "text": [
      "282\n"
     ]
    }
   ],
   "source": [
    "# sum of all the elements in an array\n",
    "# time complexity : O(n)\n",
    "# space complexity : O(1)\n",
    "\n",
    "def summation():\n",
    "    n = len(arr)\n",
    "    sum = 0\n",
    "    for i in range(n):\n",
    "        sum += arr[i]\n",
    "    return sum\n",
    "arr = [23, 34, 64, 12, 25, 56, 68]\n",
    "result = summation()\n",
    "print(result)"
   ]
  },
  {
   "cell_type": "code",
   "execution_count": 12,
   "id": "b2cdecae-1c58-447b-a110-b223087d25b1",
   "metadata": {},
   "outputs": [],
   "source": [
    "#built in function of list is also applicable to arrays:\n",
    "\n",
    "arr1 = [2,5,6,7,8,3]"
   ]
  },
  {
   "cell_type": "code",
   "execution_count": 13,
   "id": "b741bb2a-f032-415b-a2bf-fbc7e4944887",
   "metadata": {},
   "outputs": [
    {
     "data": {
      "text/plain": [
       "[2, 5, 6, 7, 8]"
      ]
     },
     "execution_count": 13,
     "metadata": {},
     "output_type": "execute_result"
    }
   ],
   "source": [
    "arr1.remove(3)\n",
    "arr1"
   ]
  },
  {
   "cell_type": "code",
   "execution_count": 14,
   "id": "9a5ac0fa-d819-4b0c-afc9-2882ad702323",
   "metadata": {},
   "outputs": [
    {
     "data": {
      "text/plain": [
       "[2, 5, 45, 6, 7, 8]"
      ]
     },
     "execution_count": 14,
     "metadata": {},
     "output_type": "execute_result"
    }
   ],
   "source": [
    "arr1.insert(2,45)\n",
    "arr1"
   ]
  },
  {
   "cell_type": "code",
   "execution_count": 15,
   "id": "f098f928-0bb7-49e8-8682-91c33db0c408",
   "metadata": {},
   "outputs": [
    {
     "data": {
      "text/plain": [
       "[2, 5, 45, 6, 7, 8, 49]"
      ]
     },
     "execution_count": 15,
     "metadata": {},
     "output_type": "execute_result"
    }
   ],
   "source": [
    "arr1.append(49)\n",
    "arr1"
   ]
  },
  {
   "cell_type": "code",
   "execution_count": 33,
   "id": "54297b0b-38ac-47c1-8cf5-8363d480e649",
   "metadata": {},
   "outputs": [
    {
     "name": "stdout",
     "output_type": "stream",
     "text": [
      "3\n"
     ]
    }
   ],
   "source": [
    "# Searching algorithms\n",
    "# linear search\n",
    "# time complexity: O(n)\n",
    "# space complexity: O(1)\n",
    "def linearsearch (arrl, target):\n",
    "    for i in range(len(arrl)):\n",
    "        if(arrl[i] == target):\n",
    "           return i\n",
    "    return -1\n",
    "#print -1 as it indicates that the target values are not available in the array         \n",
    "arrl = [12, 14, 56, 78, 90, 23, 57]\n",
    "target = 78\n",
    "result = linearsearch(arrl, target)\n",
    "print(result)"
   ]
  },
  {
   "cell_type": "code",
   "execution_count": 48,
   "id": "52a224f8-d3e2-4117-a13c-bd768d0a5a24",
   "metadata": {},
   "outputs": [
    {
     "name": "stdout",
     "output_type": "stream",
     "text": [
      "Even: [2, 18, 22]  Odd: [5, 11, 13, 15]\n"
     ]
    }
   ],
   "source": [
    "# even and odd array containing even num and odd num\n",
    "# Time complexity: O(n)\n",
    "# Space complexity: O(n)\n",
    "\n",
    "# creating an external data structure list to store the even and odd values\n",
    "even = []\n",
    "odd = []\n",
    "\n",
    "def evenAndodd(arr3):\n",
    "    for i in arr3:\n",
    "        if i % 2 == 0:\n",
    "            even.append(i)\n",
    "        else:\n",
    "            odd.append(i)\n",
    "    return f\"Even: {even}  Odd: {odd}\"\n",
    "\n",
    "#driver code\n",
    "arr3 = [2, 5, 11, 13, 15, 18, 22]\n",
    "print( evenAndodd(arr3))"
   ]
  },
  {
   "cell_type": "code",
   "execution_count": 14,
   "id": "02cf3110-02ab-4e68-9996-84b8d046cb1c",
   "metadata": {},
   "outputs": [
    {
     "name": "stdout",
     "output_type": "stream",
     "text": [
      " Pimary Diagonal Sum: 32 Secondary Diagonal Sum: 31\n"
     ]
    }
   ],
   "source": [
    "# function defination\n",
    "# Time complexity : O(n^2)\n",
    "# spoace complexity: O(1)\n",
    "def diagonalSum(arr):\n",
    "    n = len(arr)\n",
    "    primaryDiagonalsum = 0\n",
    "    secondaryDiagonalsum = 0\n",
    "    for i in range(n):\n",
    "        for j in range(n):\n",
    "            if i ==j :\n",
    "                primaryDiagonalsum += arr[i][j]\n",
    "            if i+j == n-1:\n",
    "                secondaryDiagonalsum += arr[i][j]\n",
    "    return f\" Pimary Diagonal Sum: {primaryDiagonalsum} Secondary Diagonal Sum: {secondaryDiagonalsum}\"\n",
    "\n",
    "# driver code\n",
    "arr2d = [[2, 4, 6], [8, 11, 13], [14, 17, 19]]\n",
    "# fucntion calling\n",
    "print(diagonalSum(arr2d))"
   ]
  },
  {
   "cell_type": "code",
   "execution_count": null,
   "id": "131a5637-0884-4d6c-8007-8bb803e52549",
   "metadata": {},
   "outputs": [],
   "source": []
  }
 ],
 "metadata": {
  "kernelspec": {
   "display_name": "Python 3 (ipykernel)",
   "language": "python",
   "name": "python3"
  },
  "language_info": {
   "codemirror_mode": {
    "name": "ipython",
    "version": 3
   },
   "file_extension": ".py",
   "mimetype": "text/x-python",
   "name": "python",
   "nbconvert_exporter": "python",
   "pygments_lexer": "ipython3",
   "version": "3.10.8"
  }
 },
 "nbformat": 4,
 "nbformat_minor": 5
}
