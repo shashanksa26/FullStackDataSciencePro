{
 "cells": [
  {
   "cell_type": "code",
   "execution_count": 7,
   "id": "3043b388-d26f-40ea-8b86-bc7682ddaf80",
   "metadata": {},
   "outputs": [
    {
     "name": "stdin",
     "output_type": "stream",
     "text": [
      "enter the value of a:  shash\n"
     ]
    },
    {
     "name": "stdout",
     "output_type": "stream",
     "text": [
      "the error occured is: invalid literal for int() with base 10: 'shash'\n"
     ]
    }
   ],
   "source": [
    "try : \n",
    "    a = int(input(\"enter the value of a: \"))\n",
    "    b = int(input(\"Enter the value of b: \"))\n",
    "    c = a/b\n",
    "    print(c)\n",
    "except Exception as e:\n",
    "            print(\"the error occured is:\",e)"
   ]
  },
  {
   "cell_type": "code",
   "execution_count": 8,
   "id": "e9d73f49-e8c4-4019-ab23-c0c59cb87062",
   "metadata": {},
   "outputs": [
    {
     "name": "stdout",
     "output_type": "stream",
     "text": [
      "division by zero\n",
      "invalid literal for int() with base 10: 'shashank'\n"
     ]
    }
   ],
   "source": [
    "try :\n",
    "    x=5/0\n",
    "    print(x)\n",
    "except ZeroDivisionError as z :\n",
    "    print(z)\n",
    "    try :\n",
    "        y = int(\"shashank\")\n",
    "    except ValueError as v :\n",
    "        print(v)"
   ]
  },
  {
   "cell_type": "code",
   "execution_count": 5,
   "id": "399ff330-568b-42e6-a57c-93de340edddf",
   "metadata": {},
   "outputs": [
    {
     "name": "stdout",
     "output_type": "stream",
     "text": [
      "5.0\n",
      "this will execute itself once the try will execute without any error \n",
      "this will be executed always irrespective of execution of try's statement\n"
     ]
    }
   ],
   "source": [
    "try :\n",
    "    x=5/1\n",
    "    print(x)\n",
    "except ZeroDivisionError as z :\n",
    "    print(z)\n",
    "else :\n",
    "    print(\"this will execute itself once the try will execute without any error \") #chamge the 5/0 to 5/1 to see difference \n",
    "finally :\n",
    "    print(\"this will be executed always irrespective of execution of try's statement\")"
   ]
  },
  {
   "cell_type": "code",
   "execution_count": 8,
   "id": "84e35d9d-ac64-447c-9eca-7ca331744e10",
   "metadata": {},
   "outputs": [
    {
     "name": "stdout",
     "output_type": "stream",
     "text": [
      "the error is :  'course'\n",
      "Key error\n"
     ]
    }
   ],
   "source": [
    "try :\n",
    "    d = {\"name\" : \"shashank\",\"ph no.\" : 80034,\"city\" : \"bangalore\", \"email\": \"shashank@gmail.com\"}\n",
    "    d[\"course\"]\n",
    "except Exception as e :\n",
    "    print(\"the error is : \",e)\n",
    "    print(\"Key error\")\n"
   ]
  },
  {
   "cell_type": "code",
   "execution_count": 10,
   "id": "bab4ace6-fe49-431e-af0c-a2527c3edbb0",
   "metadata": {},
   "outputs": [
    {
     "name": "stdout",
     "output_type": "stream",
     "text": [
      "the error is :  list index out of range\n"
     ]
    }
   ],
   "source": [
    "try : \n",
    "    l =[4,3,2,5,6,4]\n",
    "    l[10]\n",
    "except Exception as e :\n",
    "    print(\"the error is : \",e)"
   ]
  },
  {
   "cell_type": "code",
   "execution_count": 11,
   "id": "97d1508f-ea76-40d7-8bde-88c83315a879",
   "metadata": {},
   "outputs": [
    {
     "name": "stdout",
     "output_type": "stream",
     "text": [
      "the error is :  invalid literal for int() with base 10: 'shashank'\n"
     ]
    }
   ],
   "source": [
    "try :\n",
    "    a=\"shashank\"\n",
    "    int(a)\n",
    "except Exception as e :\n",
    "    print(\"the error is : \",e)"
   ]
  },
  {
   "cell_type": "code",
   "execution_count": 24,
   "id": "5359a6ec-2539-482e-a16c-1ea42087fadd",
   "metadata": {},
   "outputs": [
    {
     "name": "stdout",
     "output_type": "stream",
     "text": [
      "[Errno 2] No such file or directory: 'text.txt'\n"
     ]
    }
   ],
   "source": [
    "try :\n",
    "    file_name = \"text.txt\"\n",
    "    f = open(file_name)\n",
    "    read = f.read()\n",
    "    print(read)\n",
    "except Exception as e :\n",
    "    print(e)\n"
   ]
  },
  {
   "cell_type": "code",
   "execution_count": 27,
   "id": "910b6132-fd3a-46c9-8e12-5fe8d5381e10",
   "metadata": {},
   "outputs": [
    {
     "name": "stdout",
     "output_type": "stream",
     "text": [
      "fgsd'hdf\n",
      "gdfhdfdfhdf\n",
      "dfhdfhdfh\n",
      "hdhdfhdf\n",
      "dfhdfhdfwegwe\n",
      "gs\n",
      "gsgsrg\n"
     ]
    }
   ],
   "source": [
    "try :\n",
    "    file_name = \"sample.txt\"\n",
    "    f = open(file_name)\n",
    "    read = f.read()\n",
    "    print(read)\n",
    "except Exception as e :\n",
    "    print(e)"
   ]
  },
  {
   "cell_type": "code",
   "execution_count": 30,
   "id": "5e03cd94-6742-4684-8fae-12c9cf78e8ae",
   "metadata": {},
   "outputs": [
    {
     "name": "stdin",
     "output_type": "stream",
     "text": [
      "Enter the value of n sha\n"
     ]
    },
    {
     "name": "stdout",
     "output_type": "stream",
     "text": [
      "user have entered invalid no. or may be 0\n"
     ]
    }
   ],
   "source": [
    "try :\n",
    "    n= int(input(\"Enter the value of n\"))\n",
    "    div = 5/n\n",
    "    print(div)\n",
    "except (ValueError,ZeroDivisionError) :\n",
    "    print(\"user have entered invalid input or may be 0\")"
   ]
  },
  {
   "cell_type": "code",
   "execution_count": 34,
   "id": "7ea9c295-3a43-480b-9c67-796a36ded487",
   "metadata": {},
   "outputs": [
    {
     "name": "stdin",
     "output_type": "stream",
     "text": [
      "Enter the value of n o\n"
     ]
    },
    {
     "name": "stdout",
     "output_type": "stream",
     "text": [
      "user have entered invalid no. \n"
     ]
    }
   ],
   "source": [
    "try :\n",
    "    n= int(input(\"Enter the value of n\"))\n",
    "    div = 5/n\n",
    "    print(div)\n",
    "except ValueError :\n",
    "    print(\"user have entered invalid input \")\n",
    "except ZeroDivisionError :\n",
    "    print(\"user have entered 0\")"
   ]
  },
  {
   "cell_type": "code",
   "execution_count": 36,
   "id": "49ff10d9-96b6-4169-9221-af90b7ae3bdf",
   "metadata": {},
   "outputs": [
    {
     "name": "stdin",
     "output_type": "stream",
     "text": [
      "Enter the value of n i\n"
     ]
    },
    {
     "name": "stdout",
     "output_type": "stream",
     "text": [
      "user have entered invalid no. \n"
     ]
    }
   ],
   "source": [
    "try : \n",
    "    try :\n",
    "        n= int(input(\"Enter the value of n\"))\n",
    "        div = 5/n\n",
    "        print(div)\n",
    "    except ZeroDivisionError :\n",
    "        print(\"user have entered 0\")\n",
    "except ValueError :\n",
    "    print(\"user have entered invalid input \")\n"
   ]
  },
  {
   "cell_type": "code",
   "execution_count": 3,
   "id": "37d4f360-595e-475f-bc71-90a57701b750",
   "metadata": {},
   "outputs": [
    {
     "name": "stdin",
     "output_type": "stream",
     "text": [
      "Enter the value of n 34\n"
     ]
    },
    {
     "name": "stdout",
     "output_type": "stream",
     "text": [
      "0.14705882352941177\n",
      "0.14705882352941177\n"
     ]
    }
   ],
   "source": [
    "try :\n",
    "    n= int(input(\"Enter the value of n\"))\n",
    "    div = 5/n\n",
    "    print(div)\n",
    "except ValueError :\n",
    "    print(\"user have entered invalid input \")\n",
    "except ZeroDivisionError :\n",
    "    print(\"user have entered 0\")\n",
    "else :\n",
    "    print(div)"
   ]
  },
  {
   "cell_type": "code",
   "execution_count": 9,
   "id": "e0ac94a4-7e5c-435f-a44b-d884931fcca9",
   "metadata": {},
   "outputs": [
    {
     "name": "stdout",
     "output_type": "stream",
     "text": [
      "fgsd'hdf\n",
      "gdfhdfdfhdf\n",
      "dfhdfhdfh\n",
      "hdhdfhdf\n",
      "dfhdfhdfwegwe\n",
      "gs\n",
      "gsgsrg\n",
      "fgsd'hdf\n",
      "gdfhdfdfhdf\n",
      "dfhdfhdfh\n",
      "hdhdfhdf\n",
      "dfhdfhdfwegwe\n",
      "gs\n",
      "gsgsrg\n",
      "file closed\n"
     ]
    }
   ],
   "source": [
    "try :\n",
    "    file_name = \"sample.txt\"\n",
    "    f = open(file_name)\n",
    "    read = f.read()\n",
    "    print(read)\n",
    "except Exception as e :\n",
    "    print(e)\n",
    "else :\n",
    "    print(read)\n",
    "finally :\n",
    "    f.close()\n",
    "    print(\"file closed\")"
   ]
  },
  {
   "cell_type": "markdown",
   "id": "31890b4f-ec0c-4c74-a2e0-93aeb7910a74",
   "metadata": {},
   "source": [
    "#custom Exception"
   ]
  },
  {
   "cell_type": "code",
   "execution_count": 2,
   "id": "9fd6df7e-f92b-4085-a319-c6dab197fd7b",
   "metadata": {},
   "outputs": [
    {
     "name": "stdin",
     "output_type": "stream",
     "text": [
      "enter the height : -34\n"
     ]
    },
    {
     "name": "stdout",
     "output_type": "stream",
     "text": [
      "Entered value is in negative\n"
     ]
    }
   ],
   "source": [
    "#for negative height not taking case \n",
    "try :\n",
    "    a = int(input(\"enter the height :\"))\n",
    "    if a<0:\n",
    "        raise ValueError(\"Entered value is in negative\")\n",
    "except ValueError as v :\n",
    "    print(v)"
   ]
  },
  {
   "cell_type": "code",
   "execution_count": 9,
   "id": "6feaa60f-abda-4c71-9ee6-e5361bfa4660",
   "metadata": {},
   "outputs": [
    {
     "name": "stdin",
     "output_type": "stream",
     "text": [
      "enter the age : 45\n"
     ]
    },
    {
     "name": "stdout",
     "output_type": "stream",
     "text": [
      "Valid User\n"
     ]
    }
   ],
   "source": [
    "# for not taking age less 18\n",
    "try :\n",
    "    a = int(input(\"enter the age :\"))\n",
    "    if a<0:\n",
    "        raise ValueError(\"Entered value is in negative, Which is not valid\")\n",
    "    elif a<18:\n",
    "        raise ValueError(\"User is Underage\")\n",
    "    else :\n",
    "        print(\"Valid User\")\n",
    "except ValueError as age :\n",
    "    print(age)"
   ]
  },
  {
   "cell_type": "code",
   "execution_count": 12,
   "id": "13d46ff7-3640-45e4-a8a2-2d6083083ec9",
   "metadata": {},
   "outputs": [
    {
     "name": "stdin",
     "output_type": "stream",
     "text": [
      "enter the age : 45\n"
     ]
    },
    {
     "name": "stdout",
     "output_type": "stream",
     "text": [
      "Valid User\n"
     ]
    }
   ],
   "source": [
    "# for not taking age less 18\n",
    "try :\n",
    "    a = int(input(\"enter the age :\"))\n",
    "    if a<0:\n",
    "        raise ValueError(\"Entered value is in negative, Which is not valid\")\n",
    "    elif a<18:\n",
    "        raise Exception(\"User is Underage\")\n",
    "    else :\n",
    "        print(\"Valid User\")\n",
    "except ValueError as age :\n",
    "    print(age)\n",
    "except Exception as e :\n",
    "    print(e)"
   ]
  },
  {
   "cell_type": "markdown",
   "id": "4dbef81b-f6b2-4ed7-899e-d8afa19320a1",
   "metadata": {},
   "source": [
    "#LOGGING"
   ]
  },
  {
   "cell_type": "code",
   "execution_count": 1,
   "id": "d1431676-d227-4d37-938f-3d1d76c0b549",
   "metadata": {},
   "outputs": [],
   "source": [
    "import logging as log \n",
    "log.basicConfig(filename = 'event.log' , level = log.DEBUG)\n",
    "log.info(\"the info message\")\n",
    "log.debug(\"the debug\")\n",
    "log.error(\"the error one\")\n",
    "log.critical(\"the critical\")\n",
    "log.warning(\"the warning\")"
   ]
  },
  {
   "cell_type": "code",
   "execution_count": 1,
   "id": "8c60a8f6-f1c9-4acf-81cb-1bebeebf746b",
   "metadata": {},
   "outputs": [
    {
     "name": "stdin",
     "output_type": "stream",
     "text": [
      "enter the age : 31\n"
     ]
    }
   ],
   "source": [
    "import logging as log \n",
    "log.basicConfig(filename = 'tracing.log', level = log.DEBUG,format = '%(asctime)s : %(levelname)s : %(message)s')\n",
    "try :\n",
    "    log.info(\"taking age input\")\n",
    "    a = int(input(\"enter the age :\"))\n",
    "    log.info(\"age input taken is = %d\",a)\n",
    "    if a<0:\n",
    "        log.info(\"Checking negative condition\")\n",
    "        raise ValueError(\"Entered value is in negative, Which is not valid\")\n",
    "        log.error(\"age is in negative\")\n",
    "    elif a<18:\n",
    "        log.info(\"Checking underage condition\")\n",
    "        raise Exception(\"User is Underage\")\n",
    "        log.error(\"it is underage\")\n",
    "    else :\n",
    "        log.info(\"Valid User\")\n",
    "except ValueError as age :\n",
    "    log.error(age)\n",
    "except Exception as e :\n",
    "    log.error(e)"
   ]
  },
  {
   "cell_type": "code",
   "execution_count": 3,
   "id": "2d76af06-09b8-494c-b914-a47f994e5332",
   "metadata": {},
   "outputs": [
    {
     "data": {
      "text/plain": [
       "[4, 6, 8, 0]"
      ]
     },
     "execution_count": 3,
     "metadata": {},
     "output_type": "execute_result"
    }
   ],
   "source": [
    "import logging \n",
    "logging.basicConfig(filename = 'even_parse.log', level = logging.DEBUG , format = '%(asctime)s- %(levelname)s - %(message)s')\n",
    "l = [4,5,6,7,8,9,0]\n",
    "logging.info(l)\n",
    "l1 = []\n",
    "def even_parser(l):\n",
    "    try:\n",
    "        logging.info(\"inside try block\")\n",
    "        for i in l :\n",
    "            logging.info(\"inside for loop i = %d\",i)\n",
    "            if i%2 == 0 :\n",
    "                logging.info(\"checking the valur of i \")\n",
    "                l1.append(i)\n",
    "                logging.info(\"appending the value i = %d\" , i)\n",
    "        return l1 \n",
    "    except Exception as e :\n",
    "        logging.error(e)\n",
    "even_parser(l)"
   ]
  },
  {
   "cell_type": "code",
   "execution_count": null,
   "id": "90359e75-8972-4579-b361-0c726d6b9043",
   "metadata": {},
   "outputs": [],
   "source": []
  }
 ],
 "metadata": {
  "kernelspec": {
   "display_name": "Python 3 (ipykernel)",
   "language": "python",
   "name": "python3"
  },
  "language_info": {
   "codemirror_mode": {
    "name": "ipython",
    "version": 3
   },
   "file_extension": ".py",
   "mimetype": "text/x-python",
   "name": "python",
   "nbconvert_exporter": "python",
   "pygments_lexer": "ipython3",
   "version": "3.10.8"
  }
 },
 "nbformat": 4,
 "nbformat_minor": 5
}
